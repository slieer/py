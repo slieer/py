{
 "cells": [
  {
   "cell_type": "markdown",
   "id": "01758db3",
   "metadata": {},
   "source": [
    "MCP（Model Context Protocol） 由 Anthropic 于 2024 年底开源，其目标是为大模型与外部工具 / 数据源之间建立起一座标准化的桥梁，解决兼容性和互操作性问题。从本质上讲，MCP 就像是 AI 领域的 “USB-C 接口”，它定义了一套统一的通信标准，使得大模型能够通过标准化接口连接任意工具，而无需为每个工具单独开发适配代码。\n",
    "\n",
    "\n",
    "MCP 的技术架构基于经典的客户端 - 服务器模式，主要由三个关键组件构成：MCP Client、MCP Server 和标准协议层。​\n",
    "\n",
    "支持的通信协议\n",
    "\n",
    "|协议类型\t|应用场景\t|数据格式\t|典型实现案例 |\n",
    "| :-----| ----: | :----: |:----: |\n",
    "|Stdio\t|本地工具调用\t|JSON-LD\t|Cursor代码生成插件|\n",
    "|HTTP/2\t|远程服务交互\t|JSON-RPC 2.0\t|Claude企业知识库连接|\n",
    "|SSE\t|实时数据流处理\t|Server-Sent Events\t|金融行情数据订阅|\n",
    "\n",
    "\n",
    "MCP三个核心组件:\n",
    "1. Resources 允许服务器向LLM公开数据和内容，作为LLM交互的上下文。\n",
    "2. Prompts\n",
    "3. Tools 使服务器能够向客户端公开可执行功能。\n",
    "\n",
    "[modelcontextprotocol](https://modelcontextprotocol.io/introduction)\n",
    "[python-sdk](https://github.com/modelcontextprotocol/python-sdk)"
   ]
  },
  {
   "cell_type": "code",
   "execution_count": null,
   "id": "558255d8",
   "metadata": {
    "vscode": {
     "languageId": "plaintext"
    }
   },
   "outputs": [],
   "source": []
  }
 ],
 "metadata": {
  "language_info": {
   "name": "python"
  }
 },
 "nbformat": 4,
 "nbformat_minor": 5
}
