{
 "cells": [
  {
   "cell_type": "code",
   "execution_count": 1,
   "metadata": {},
   "outputs": [
    {
     "name": "stdout",
     "output_type": "stream",
     "text": [
      "Defaulting to user installation because normal site-packages is not writeable\n",
      "Looking in indexes: https://mirrors.aliyun.com/pypi/simple\n",
      "Requirement already satisfied: jupysql in /home/zhaixiaobin/.local/lib/python3.10/site-packages (0.9.0)\n",
      "\u001b[33mDEPRECATION: The HTML index page being used (https://mirrors.aliyun.com/pypi/simple/duckdb-engine/) is not a proper HTML 5 document. This is in violation of PEP 503 which requires these pages to be well-formed HTML 5 documents. Please reach out to the owners of this index page, and ask them to update this index page to a valid HTML 5 document. pip 22.2 will enforce this behaviour change. Discussion can be found at https://github.com/pypa/pip/issues/10825\u001b[0m\u001b[33m\n",
      "\u001b[0mCollecting duckdb-engine\n",
      "  Downloading https://mirrors.aliyun.com/pypi/packages/f3/6c/17298ff413db694b87ce0e3eea1685ffe47987fb64e46cd6b673bac53177/duckdb_engine-0.9.2-py3-none-any.whl (43 kB)\n",
      "\u001b[2K     \u001b[90m━━━━━━━━━━━━━━━━━━━━━━━━━━━━━━━━━━━━━━━━\u001b[0m \u001b[32m43.1/43.1 KB\u001b[0m \u001b[31m3.0 MB/s\u001b[0m eta \u001b[36m0:00:00\u001b[0m\n",
      "\u001b[?25hRequirement already satisfied: sqlparse in /home/zhaixiaobin/.local/lib/python3.10/site-packages (from jupysql) (0.4.4)\n",
      "Requirement already satisfied: prettytable in /home/zhaixiaobin/.local/lib/python3.10/site-packages (from jupysql) (3.8.0)\n",
      "Requirement already satisfied: ipython in /home/zhaixiaobin/.local/lib/python3.10/site-packages (from jupysql) (8.12.0)\n",
      "Requirement already satisfied: ipython-genutils>=0.1.0 in /home/zhaixiaobin/.local/lib/python3.10/site-packages (from jupysql) (0.2.0)\n",
      "Requirement already satisfied: sqlglot>=11.3.7 in /home/zhaixiaobin/.local/lib/python3.10/site-packages (from jupysql) (17.9.1)\n",
      "Requirement already satisfied: jinja2 in /home/zhaixiaobin/.local/lib/python3.10/site-packages (from jupysql) (3.1.2)\n",
      "Requirement already satisfied: ploomber-core>=0.2.7 in /home/zhaixiaobin/.local/lib/python3.10/site-packages (from jupysql) (0.2.13)\n",
      "Requirement already satisfied: sqlalchemy in /home/zhaixiaobin/.local/lib/python3.10/site-packages (from jupysql) (2.0.12)\n",
      "\u001b[33mDEPRECATION: The HTML index page being used (https://mirrors.aliyun.com/pypi/simple/duckdb/) is not a proper HTML 5 document. This is in violation of PEP 503 which requires these pages to be well-formed HTML 5 documents. Please reach out to the owners of this index page, and ask them to update this index page to a valid HTML 5 document. pip 22.2 will enforce this behaviour change. Discussion can be found at https://github.com/pypa/pip/issues/10825\u001b[0m\u001b[33m\n",
      "\u001b[0mCollecting duckdb>=0.4.0\n",
      "  Downloading https://mirrors.aliyun.com/pypi/packages/0c/a3/4e52ef89606292b26864bcc3be3e36e1345ba4bb8a6df5b2fa36dfc01fd7/duckdb-0.8.1-cp310-cp310-manylinux_2_17_x86_64.manylinux2014_x86_64.whl (15.9 MB)\n",
      "\u001b[2K     \u001b[90m━━━━━━━━━━━━━━━━━━━━━━━━━━━━━━━━━━━━━━━━\u001b[0m \u001b[32m15.9/15.9 MB\u001b[0m \u001b[31m7.7 MB/s\u001b[0m eta \u001b[36m0:00:00\u001b[0m00:01\u001b[0m00:01\u001b[0m\n",
      "\u001b[?25hRequirement already satisfied: click in /home/zhaixiaobin/.local/lib/python3.10/site-packages (from ploomber-core>=0.2.7->jupysql) (8.1.3)\n",
      "Requirement already satisfied: pyyaml in /usr/lib/python3/dist-packages (from ploomber-core>=0.2.7->jupysql) (5.4.1)\n",
      "Requirement already satisfied: posthog in /home/zhaixiaobin/.local/lib/python3.10/site-packages (from ploomber-core>=0.2.7->jupysql) (3.0.1)\n",
      "Requirement already satisfied: greenlet!=0.4.17 in /home/zhaixiaobin/.local/lib/python3.10/site-packages (from sqlalchemy->jupysql) (2.0.2)\n",
      "Requirement already satisfied: typing-extensions>=4.2.0 in /home/zhaixiaobin/.local/lib/python3.10/site-packages (from sqlalchemy->jupysql) (4.4.0)\n",
      "Requirement already satisfied: pexpect>4.3 in /usr/lib/python3/dist-packages (from ipython->jupysql) (4.8.0)\n",
      "Requirement already satisfied: prompt-toolkit!=3.0.37,<3.1.0,>=3.0.30 in /home/zhaixiaobin/.local/lib/python3.10/site-packages (from ipython->jupysql) (3.0.38)\n",
      "Requirement already satisfied: stack-data in /home/zhaixiaobin/.local/lib/python3.10/site-packages (from ipython->jupysql) (0.6.2)\n",
      "Requirement already satisfied: matplotlib-inline in /home/zhaixiaobin/.local/lib/python3.10/site-packages (from ipython->jupysql) (0.1.6)\n",
      "Requirement already satisfied: pygments>=2.4.0 in /usr/lib/python3/dist-packages (from ipython->jupysql) (2.11.2)\n",
      "Requirement already satisfied: traitlets>=5 in /home/zhaixiaobin/.local/lib/python3.10/site-packages (from ipython->jupysql) (5.9.0)\n",
      "Requirement already satisfied: jedi>=0.16 in /home/zhaixiaobin/.local/lib/python3.10/site-packages (from ipython->jupysql) (0.18.2)\n",
      "Requirement already satisfied: decorator in /home/zhaixiaobin/.local/lib/python3.10/site-packages (from ipython->jupysql) (5.1.1)\n",
      "Requirement already satisfied: backcall in /home/zhaixiaobin/.local/lib/python3.10/site-packages (from ipython->jupysql) (0.2.0)\n",
      "Requirement already satisfied: pickleshare in /home/zhaixiaobin/.local/lib/python3.10/site-packages (from ipython->jupysql) (0.7.5)\n",
      "Requirement already satisfied: MarkupSafe>=2.0 in /home/zhaixiaobin/.local/lib/python3.10/site-packages (from jinja2->jupysql) (2.1.2)\n",
      "Requirement already satisfied: wcwidth in /home/zhaixiaobin/.local/lib/python3.10/site-packages (from prettytable->jupysql) (0.2.6)\n",
      "Requirement already satisfied: parso<0.9.0,>=0.8.0 in /home/zhaixiaobin/.local/lib/python3.10/site-packages (from jedi>=0.16->ipython->jupysql) (0.8.3)\n",
      "Requirement already satisfied: requests<3.0,>=2.7 in /home/zhaixiaobin/.local/lib/python3.10/site-packages (from posthog->ploomber-core>=0.2.7->jupysql) (2.28.2)\n",
      "Requirement already satisfied: monotonic>=1.5 in /usr/lib/python3/dist-packages (from posthog->ploomber-core>=0.2.7->jupysql) (1.6)\n",
      "Requirement already satisfied: backoff>=1.10.0 in /home/zhaixiaobin/.local/lib/python3.10/site-packages (from posthog->ploomber-core>=0.2.7->jupysql) (2.2.1)\n",
      "Requirement already satisfied: python-dateutil>2.1 in /home/zhaixiaobin/.local/lib/python3.10/site-packages (from posthog->ploomber-core>=0.2.7->jupysql) (2.8.2)\n",
      "Requirement already satisfied: six>=1.5 in /usr/lib/python3/dist-packages (from posthog->ploomber-core>=0.2.7->jupysql) (1.16.0)\n",
      "Requirement already satisfied: asttokens>=2.1.0 in /home/zhaixiaobin/.local/lib/python3.10/site-packages (from stack-data->ipython->jupysql) (2.2.1)\n",
      "Requirement already satisfied: pure-eval in /home/zhaixiaobin/.local/lib/python3.10/site-packages (from stack-data->ipython->jupysql) (0.2.2)\n",
      "Requirement already satisfied: executing>=1.2.0 in /home/zhaixiaobin/.local/lib/python3.10/site-packages (from stack-data->ipython->jupysql) (1.2.0)\n",
      "Requirement already satisfied: certifi>=2017.4.17 in /usr/lib/python3/dist-packages (from requests<3.0,>=2.7->posthog->ploomber-core>=0.2.7->jupysql) (2020.6.20)\n",
      "Requirement already satisfied: urllib3<1.27,>=1.21.1 in /usr/lib/python3/dist-packages (from requests<3.0,>=2.7->posthog->ploomber-core>=0.2.7->jupysql) (1.26.5)\n",
      "Requirement already satisfied: idna<4,>=2.5 in /usr/lib/python3/dist-packages (from requests<3.0,>=2.7->posthog->ploomber-core>=0.2.7->jupysql) (3.3)\n",
      "Requirement already satisfied: charset-normalizer<4,>=2 in /home/zhaixiaobin/.local/lib/python3.10/site-packages (from requests<3.0,>=2.7->posthog->ploomber-core>=0.2.7->jupysql) (3.1.0)\n",
      "Installing collected packages: duckdb, duckdb-engine\n",
      "Successfully installed duckdb-0.8.1 duckdb-engine-0.9.2\n"
     ]
    }
   ],
   "source": [
    "!pip install jupysql duckdb-engine"
   ]
  },
  {
   "cell_type": "code",
   "execution_count": 1,
   "metadata": {},
   "outputs": [
    {
     "data": {
      "text/html": [
       "<span style=\"None\">Running query in &#x27;duckdb://&#x27;</span>"
      ],
      "text/plain": [
       "Running query in 'duckdb://'"
      ]
     },
     "metadata": {},
     "output_type": "display_data"
    },
    {
     "data": {
      "text/html": [
       "<table>\n",
       "    <thead>\n",
       "        <tr>\n",
       "            <th>species</th>\n",
       "            <th>island</th>\n",
       "            <th>bill_length_mm</th>\n",
       "            <th>bill_depth_mm</th>\n",
       "            <th>flipper_length_mm</th>\n",
       "            <th>body_mass_g</th>\n",
       "            <th>sex</th>\n",
       "        </tr>\n",
       "    </thead>\n",
       "    <tbody>\n",
       "        <tr>\n",
       "            <td>Adelie</td>\n",
       "            <td>Torgersen</td>\n",
       "            <td>39.1</td>\n",
       "            <td>18.7</td>\n",
       "            <td>181</td>\n",
       "            <td>3750</td>\n",
       "            <td>MALE</td>\n",
       "        </tr>\n",
       "        <tr>\n",
       "            <td>Adelie</td>\n",
       "            <td>Torgersen</td>\n",
       "            <td>39.5</td>\n",
       "            <td>17.4</td>\n",
       "            <td>186</td>\n",
       "            <td>3800</td>\n",
       "            <td>FEMALE</td>\n",
       "        </tr>\n",
       "        <tr>\n",
       "            <td>Adelie</td>\n",
       "            <td>Torgersen</td>\n",
       "            <td>40.3</td>\n",
       "            <td>18.0</td>\n",
       "            <td>195</td>\n",
       "            <td>3250</td>\n",
       "            <td>FEMALE</td>\n",
       "        </tr>\n",
       "    </tbody>\n",
       "</table>\n",
       "<span style='font-style:italic;font-size:11px'><code>ResultSet</code> : to convert to pandas, call <a href='https://jupysql.ploomber.io/en/latest/integrations/pandas.html'><code>.DataFrame()</code></a> or to polars, call <a href='https://jupysql.ploomber.io/en/latest/integrations/polars.html'><code>.PolarsDataFrame()</code></a></span><br>"
      ],
      "text/plain": [
       "+---------+-----------+----------------+---------------+-------------------+-------------+--------+\n",
       "| species |   island  | bill_length_mm | bill_depth_mm | flipper_length_mm | body_mass_g |  sex   |\n",
       "+---------+-----------+----------------+---------------+-------------------+-------------+--------+\n",
       "|  Adelie | Torgersen |      39.1      |      18.7     |        181        |     3750    |  MALE  |\n",
       "|  Adelie | Torgersen |      39.5      |      17.4     |        186        |     3800    | FEMALE |\n",
       "|  Adelie | Torgersen |      40.3      |      18.0     |        195        |     3250    | FEMALE |\n",
       "+---------+-----------+----------------+---------------+-------------------+-------------+--------+"
      ]
     },
     "execution_count": 1,
     "metadata": {},
     "output_type": "execute_result"
    }
   ],
   "source": [
    "%load_ext sql\n",
    "%sql duckdb://\n",
    "\n",
    "from pathlib import Path\n",
    "from urllib.request import urlretrieve\n",
    "\n",
    "#curr = Path()\n",
    "#print(curr.as_uri, curr.absolute())\n",
    "#f = Path(\"data/penguins.csv\")\n",
    "#print('isFile:',f.is_file(), f.absolute())\n",
    "\n",
    "if not Path(\"data/penguins.csv\").is_file():\n",
    "    urlretrieve(\n",
    "        \"https://raw.githubusercontent.com/mwaskom/seaborn-data/master/penguins.csv\",\n",
    "        \"penguins.csv\",\n",
    "    )\n",
    "%sql SELECT * FROM 'data/penguins.csv' LIMIT 3\n"
   ]
  },
  {
   "cell_type": "code",
   "execution_count": 3,
   "metadata": {},
   "outputs": [
    {
     "data": {
      "text/html": [
       "<span style=\"None\">Running query in &#x27;duckdb://&#x27;</span>"
      ],
      "text/plain": [
       "Running query in 'duckdb://'"
      ]
     },
     "metadata": {},
     "output_type": "display_data"
    },
    {
     "data": {
      "text/html": [
       "<table>\n",
       "    <thead>\n",
       "        <tr>\n",
       "            <th>species</th>\n",
       "            <th>island</th>\n",
       "            <th>bill_length_mm</th>\n",
       "            <th>bill_depth_mm</th>\n",
       "            <th>flipper_length_mm</th>\n",
       "            <th>body_mass_g</th>\n",
       "            <th>sex</th>\n",
       "        </tr>\n",
       "    </thead>\n",
       "    <tbody>\n",
       "        <tr>\n",
       "            <td>Adelie</td>\n",
       "            <td>Torgersen</td>\n",
       "            <td>40.3</td>\n",
       "            <td>18.0</td>\n",
       "            <td>195</td>\n",
       "            <td>3250</td>\n",
       "            <td>FEMALE</td>\n",
       "        </tr>\n",
       "        <tr>\n",
       "            <td>Adelie</td>\n",
       "            <td>Torgersen</td>\n",
       "            <td>42.0</td>\n",
       "            <td>20.2</td>\n",
       "            <td>190</td>\n",
       "            <td>4250</td>\n",
       "            <td>None</td>\n",
       "        </tr>\n",
       "        <tr>\n",
       "            <td>Adelie</td>\n",
       "            <td>Torgersen</td>\n",
       "            <td>41.1</td>\n",
       "            <td>17.6</td>\n",
       "            <td>182</td>\n",
       "            <td>3200</td>\n",
       "            <td>FEMALE</td>\n",
       "        </tr>\n",
       "    </tbody>\n",
       "</table>\n",
       "<span style='font-style:italic;font-size:11px'><code>ResultSet</code> : to convert to pandas, call <a href='https://jupysql.ploomber.io/en/latest/integrations/pandas.html'><code>.DataFrame()</code></a> or to polars, call <a href='https://jupysql.ploomber.io/en/latest/integrations/polars.html'><code>.PolarsDataFrame()</code></a></span><br>"
      ],
      "text/plain": [
       "+---------+-----------+----------------+---------------+-------------------+-------------+--------+\n",
       "| species |   island  | bill_length_mm | bill_depth_mm | flipper_length_mm | body_mass_g |  sex   |\n",
       "+---------+-----------+----------------+---------------+-------------------+-------------+--------+\n",
       "|  Adelie | Torgersen |      40.3      |      18.0     |        195        |     3250    | FEMALE |\n",
       "|  Adelie | Torgersen |      42.0      |      20.2     |        190        |     4250    |  None  |\n",
       "|  Adelie | Torgersen |      41.1      |      17.6     |        182        |     3200    | FEMALE |\n",
       "+---------+-----------+----------------+---------------+-------------------+-------------+--------+"
      ]
     },
     "execution_count": 3,
     "metadata": {},
     "output_type": "execute_result"
    }
   ],
   "source": [
    "%%sql\n",
    "SELECT *\n",
    "FROM 'data/penguins.csv'\n",
    "WHERE bill_length_mm > 40\n",
    "LIMIT 3"
   ]
  },
  {
   "cell_type": "code",
   "execution_count": 9,
   "metadata": {},
   "outputs": [
    {
     "data": {
      "text/html": [
       "<span style=\"None\">Running query in &#x27;duckdb://&#x27;</span>"
      ],
      "text/plain": [
       "Running query in 'duckdb://'"
      ]
     },
     "metadata": {},
     "output_type": "display_data"
    },
    {
     "data": {
      "text/html": [
       "<span style=\"None\">Skipping execution...</span>"
      ],
      "text/plain": [
       "Skipping execution..."
      ]
     },
     "metadata": {},
     "output_type": "display_data"
    }
   ],
   "source": [
    "%%sql --save not_nulls --no-execute\n",
    "SELECT *\n",
    "FROM 'data/penguins.csv'\n",
    "WHERE bill_length_mm IS NOT NULL\n",
    "AND bill_depth_mm IS NOT NULL"
   ]
  },
  {
   "cell_type": "code",
   "execution_count": 10,
   "metadata": {},
   "outputs": [
    {
     "data": {
      "text/html": [
       "<span style=\"None\">Switching to connection duckdb://</span>"
      ],
      "text/plain": [
       "Switching to connection duckdb://"
      ]
     },
     "metadata": {},
     "output_type": "display_data"
    },
    {
     "ename": "ProgrammingError",
     "evalue": "(duckdb.InvalidInputException) Invalid Input Error: Attempting to execute an unsuccessful or closed pending query result\nError: Invalid Error: Current transaction is aborted (please ROLLBACK)\n[SQL: WITH not_nulls AS (\nSELECT *\nFROM 'data/penguins.csv'\nWHERE bill_length_mm IS NOT NULL\nAND bill_depth_mm IS NOT NULL)\nSELECT\n    MIN(\"bill_length_mm\"),\n    MAX(\"bill_length_mm\")\nFROM \"not_nulls\"]\n(Background on this error at: https://sqlalche.me/e/20/f405)",
     "output_type": "error",
     "traceback": [
      "\u001b[0;31m---------------------------------------------------------------------------\u001b[0m",
      "\u001b[0;31mInvalidInputException\u001b[0m                     Traceback (most recent call last)",
      "File \u001b[0;32m~/.local/lib/python3.10/site-packages/sqlalchemy/engine/base.py:1963\u001b[0m, in \u001b[0;36mConnection._exec_single_context\u001b[0;34m(self, dialect, context, statement, parameters)\u001b[0m\n\u001b[1;32m   1962\u001b[0m     \u001b[39mif\u001b[39;00m \u001b[39mnot\u001b[39;00m evt_handled:\n\u001b[0;32m-> 1963\u001b[0m         \u001b[39mself\u001b[39;49m\u001b[39m.\u001b[39;49mdialect\u001b[39m.\u001b[39;49mdo_execute(\n\u001b[1;32m   1964\u001b[0m             cursor, str_statement, effective_parameters, context\n\u001b[1;32m   1965\u001b[0m         )\n\u001b[1;32m   1967\u001b[0m \u001b[39mif\u001b[39;00m \u001b[39mself\u001b[39m\u001b[39m.\u001b[39m_has_events \u001b[39mor\u001b[39;00m \u001b[39mself\u001b[39m\u001b[39m.\u001b[39mengine\u001b[39m.\u001b[39m_has_events:\n",
      "File \u001b[0;32m~/.local/lib/python3.10/site-packages/sqlalchemy/engine/default.py:920\u001b[0m, in \u001b[0;36mDefaultDialect.do_execute\u001b[0;34m(self, cursor, statement, parameters, context)\u001b[0m\n\u001b[1;32m    919\u001b[0m \u001b[39mdef\u001b[39;00m \u001b[39mdo_execute\u001b[39m(\u001b[39mself\u001b[39m, cursor, statement, parameters, context\u001b[39m=\u001b[39m\u001b[39mNone\u001b[39;00m):\n\u001b[0;32m--> 920\u001b[0m     cursor\u001b[39m.\u001b[39;49mexecute(statement, parameters)\n",
      "File \u001b[0;32m~/.local/lib/python3.10/site-packages/duckdb_engine/__init__.py:144\u001b[0m, in \u001b[0;36mConnectionWrapper.execute\u001b[0;34m(self, statement, parameters, context)\u001b[0m\n\u001b[1;32m    143\u001b[0m     \u001b[39melse\u001b[39;00m:\n\u001b[0;32m--> 144\u001b[0m         \u001b[39mself\u001b[39;49m\u001b[39m.\u001b[39;49m__c\u001b[39m.\u001b[39;49mexecute(statement, parameters)\n\u001b[1;32m    145\u001b[0m \u001b[39mexcept\u001b[39;00m \u001b[39mRuntimeError\u001b[39;00m \u001b[39mas\u001b[39;00m e:\n",
      "\u001b[0;31mInvalidInputException\u001b[0m: Invalid Input Error: Attempting to execute an unsuccessful or closed pending query result\nError: Invalid Error: Current transaction is aborted (please ROLLBACK)",
      "\nThe above exception was the direct cause of the following exception:\n",
      "\u001b[0;31mProgrammingError\u001b[0m                          Traceback (most recent call last)",
      "Cell \u001b[0;32mIn[10], line 2\u001b[0m\n\u001b[1;32m      1\u001b[0m get_ipython()\u001b[39m.\u001b[39mrun_line_magic(\u001b[39m'\u001b[39m\u001b[39msql\u001b[39m\u001b[39m'\u001b[39m, \u001b[39m'\u001b[39m\u001b[39mduckdb://\u001b[39m\u001b[39m'\u001b[39m)\n\u001b[0;32m----> 2\u001b[0m get_ipython()\u001b[39m.\u001b[39;49mrun_line_magic(\u001b[39m'\u001b[39;49m\u001b[39msqlplot\u001b[39;49m\u001b[39m'\u001b[39;49m, \u001b[39m'\u001b[39;49m\u001b[39mhistogram --column bill_length_mm bill_depth_mm --table not_nulls --with not_nulls\u001b[39;49m\u001b[39m'\u001b[39;49m)\n",
      "File \u001b[0;32m~/.local/lib/python3.10/site-packages/IPython/core/interactiveshell.py:2414\u001b[0m, in \u001b[0;36mInteractiveShell.run_line_magic\u001b[0;34m(self, magic_name, line, _stack_depth)\u001b[0m\n\u001b[1;32m   2412\u001b[0m     kwargs[\u001b[39m'\u001b[39m\u001b[39mlocal_ns\u001b[39m\u001b[39m'\u001b[39m] \u001b[39m=\u001b[39m \u001b[39mself\u001b[39m\u001b[39m.\u001b[39mget_local_scope(stack_depth)\n\u001b[1;32m   2413\u001b[0m \u001b[39mwith\u001b[39;00m \u001b[39mself\u001b[39m\u001b[39m.\u001b[39mbuiltin_trap:\n\u001b[0;32m-> 2414\u001b[0m     result \u001b[39m=\u001b[39m fn(\u001b[39m*\u001b[39;49margs, \u001b[39m*\u001b[39;49m\u001b[39m*\u001b[39;49mkwargs)\n\u001b[1;32m   2416\u001b[0m \u001b[39m# The code below prevents the output from being displayed\u001b[39;00m\n\u001b[1;32m   2417\u001b[0m \u001b[39m# when using magics with decodator @output_can_be_silenced\u001b[39;00m\n\u001b[1;32m   2418\u001b[0m \u001b[39m# when the last Python token in the expression is a ';'.\u001b[39;00m\n\u001b[1;32m   2419\u001b[0m \u001b[39mif\u001b[39;00m \u001b[39mgetattr\u001b[39m(fn, magic\u001b[39m.\u001b[39mMAGIC_OUTPUT_CAN_BE_SILENCED, \u001b[39mFalse\u001b[39;00m):\n",
      "File \u001b[0;32m~/.local/lib/python3.10/site-packages/ploomber_core/exceptions.py:109\u001b[0m, in \u001b[0;36mmodify_exceptions.<locals>.wrapper\u001b[0;34m(*args, **kwargs)\u001b[0m\n\u001b[1;32m    106\u001b[0m \u001b[39m@wraps\u001b[39m(fn)\n\u001b[1;32m    107\u001b[0m \u001b[39mdef\u001b[39;00m \u001b[39mwrapper\u001b[39m(\u001b[39m*\u001b[39margs, \u001b[39m*\u001b[39m\u001b[39m*\u001b[39mkwargs):\n\u001b[1;32m    108\u001b[0m     \u001b[39mtry\u001b[39;00m:\n\u001b[0;32m--> 109\u001b[0m         \u001b[39mreturn\u001b[39;00m fn(\u001b[39m*\u001b[39;49margs, \u001b[39m*\u001b[39;49m\u001b[39m*\u001b[39;49mkwargs)\n\u001b[1;32m    110\u001b[0m     \u001b[39mexcept\u001b[39;00m (\u001b[39mValueError\u001b[39;00m, \u001b[39mTypeError\u001b[39;00m) \u001b[39mas\u001b[39;00m e:\n\u001b[1;32m    111\u001b[0m         _add_community_link(e)\n",
      "File \u001b[0;32m~/.local/lib/python3.10/site-packages/sql/magic_plot.py:106\u001b[0m, in \u001b[0;36mSqlPlotMagic.execute\u001b[0;34m(self, line, cell, local_ns)\u001b[0m\n\u001b[1;32m     98\u001b[0m     \u001b[39mreturn\u001b[39;00m plot\u001b[39m.\u001b[39mboxplot(\n\u001b[1;32m     99\u001b[0m         table\u001b[39m=\u001b[39mtable,\n\u001b[1;32m    100\u001b[0m         column\u001b[39m=\u001b[39mcolumn,\n\u001b[0;32m   (...)\u001b[0m\n\u001b[1;32m    103\u001b[0m         conn\u001b[39m=\u001b[39m\u001b[39mNone\u001b[39;00m,\n\u001b[1;32m    104\u001b[0m     )\n\u001b[1;32m    105\u001b[0m \u001b[39melif\u001b[39;00m cmd\u001b[39m.\u001b[39margs\u001b[39m.\u001b[39mline[\u001b[39m0\u001b[39m] \u001b[39min\u001b[39;00m {\u001b[39m\"\u001b[39m\u001b[39mhist\u001b[39m\u001b[39m\"\u001b[39m, \u001b[39m\"\u001b[39m\u001b[39mhistogram\u001b[39m\u001b[39m\"\u001b[39m}:\n\u001b[0;32m--> 106\u001b[0m     \u001b[39mreturn\u001b[39;00m plot\u001b[39m.\u001b[39;49mhistogram(\n\u001b[1;32m    107\u001b[0m         table\u001b[39m=\u001b[39;49mtable,\n\u001b[1;32m    108\u001b[0m         column\u001b[39m=\u001b[39;49mcolumn,\n\u001b[1;32m    109\u001b[0m         bins\u001b[39m=\u001b[39;49mcmd\u001b[39m.\u001b[39;49margs\u001b[39m.\u001b[39;49mbins,\n\u001b[1;32m    110\u001b[0m         with_\u001b[39m=\u001b[39;49mwith_,\n\u001b[1;32m    111\u001b[0m         conn\u001b[39m=\u001b[39;49m\u001b[39mNone\u001b[39;49;00m,\n\u001b[1;32m    112\u001b[0m     )\n\u001b[1;32m    113\u001b[0m \u001b[39melif\u001b[39;00m cmd\u001b[39m.\u001b[39margs\u001b[39m.\u001b[39mline[\u001b[39m0\u001b[39m] \u001b[39min\u001b[39;00m {\u001b[39m\"\u001b[39m\u001b[39mbar\u001b[39m\u001b[39m\"\u001b[39m}:\n\u001b[1;32m    114\u001b[0m     \u001b[39mreturn\u001b[39;00m plot\u001b[39m.\u001b[39mbar(\n\u001b[1;32m    115\u001b[0m         table\u001b[39m=\u001b[39mtable,\n\u001b[1;32m    116\u001b[0m         column\u001b[39m=\u001b[39mcolumn,\n\u001b[0;32m   (...)\u001b[0m\n\u001b[1;32m    120\u001b[0m         conn\u001b[39m=\u001b[39m\u001b[39mNone\u001b[39;00m,\n\u001b[1;32m    121\u001b[0m     )\n",
      "File \u001b[0;32m~/.local/lib/python3.10/site-packages/ploomber_core/dependencies.py:40\u001b[0m, in \u001b[0;36mrequires.<locals>.decorator.<locals>.wrapper\u001b[0;34m(*args, **kwargs)\u001b[0m\n\u001b[1;32m     32\u001b[0m \u001b[39m@wraps\u001b[39m(f)\n\u001b[1;32m     33\u001b[0m \u001b[39mdef\u001b[39;00m \u001b[39mwrapper\u001b[39m(\u001b[39m*\u001b[39margs, \u001b[39m*\u001b[39m\u001b[39m*\u001b[39mkwargs):\n\u001b[1;32m     34\u001b[0m     check_installed(\n\u001b[1;32m     35\u001b[0m         pkgs\u001b[39m=\u001b[39mpkgs,\n\u001b[1;32m     36\u001b[0m         name\u001b[39m=\u001b[39mname \u001b[39mor\u001b[39;00m f\u001b[39m.\u001b[39m\u001b[39m__name__\u001b[39m,\n\u001b[1;32m     37\u001b[0m         extra_msg\u001b[39m=\u001b[39mextra_msg,\n\u001b[1;32m     38\u001b[0m         pip_names\u001b[39m=\u001b[39mpip_names,\n\u001b[1;32m     39\u001b[0m     )\n\u001b[0;32m---> 40\u001b[0m     \u001b[39mreturn\u001b[39;00m f(\u001b[39m*\u001b[39;49margs, \u001b[39m*\u001b[39;49m\u001b[39m*\u001b[39;49mkwargs)\n",
      "File \u001b[0;32m~/.local/lib/python3.10/site-packages/ploomber_core/telemetry/telemetry.py:752\u001b[0m, in \u001b[0;36mTelemetry.log_call.<locals>._log_call.<locals>.wrapper\u001b[0;34m(*args, **kwargs)\u001b[0m\n\u001b[1;32m    750\u001b[0m         result \u001b[39m=\u001b[39m func(\u001b[39m*\u001b[39minjected_args, \u001b[39m*\u001b[39m\u001b[39m*\u001b[39mkwargs)\n\u001b[1;32m    751\u001b[0m     \u001b[39melse\u001b[39;00m:\n\u001b[0;32m--> 752\u001b[0m         result \u001b[39m=\u001b[39m func(_payload, \u001b[39m*\u001b[39;49margs, \u001b[39m*\u001b[39;49m\u001b[39m*\u001b[39;49mkwargs)\n\u001b[1;32m    753\u001b[0m \u001b[39melse\u001b[39;00m:\n\u001b[1;32m    754\u001b[0m     result \u001b[39m=\u001b[39m func(\u001b[39m*\u001b[39margs, \u001b[39m*\u001b[39m\u001b[39m*\u001b[39mkwargs)\n",
      "File \u001b[0;32m~/.local/lib/python3.10/site-packages/sql/plot.py:481\u001b[0m, in \u001b[0;36mhistogram\u001b[0;34m(payload, table, column, bins, with_, conn, category, cmap, color, edgecolor, ax, facet)\u001b[0m\n\u001b[1;32m    479\u001b[0m \u001b[39melse\u001b[39;00m:\n\u001b[1;32m    480\u001b[0m     \u001b[39mfor\u001b[39;00m i, col \u001b[39min\u001b[39;00m \u001b[39menumerate\u001b[39m(column):\n\u001b[0;32m--> 481\u001b[0m         bin_, height, bin_size \u001b[39m=\u001b[39m _histogram(\n\u001b[1;32m    482\u001b[0m             table, col, bins, with_\u001b[39m=\u001b[39;49mwith_, conn\u001b[39m=\u001b[39;49mconn, facet\u001b[39m=\u001b[39;49mfacet\n\u001b[1;32m    483\u001b[0m         )\n\u001b[1;32m    484\u001b[0m         width \u001b[39m=\u001b[39m _get_bar_width(ax, bin_, bin_size)\n\u001b[1;32m    486\u001b[0m         \u001b[39mif\u001b[39;00m \u001b[39misinstance\u001b[39m(color, \u001b[39mlist\u001b[39m):\n",
      "File \u001b[0;32m~/.local/lib/python3.10/site-packages/ploomber_core/exceptions.py:109\u001b[0m, in \u001b[0;36mmodify_exceptions.<locals>.wrapper\u001b[0;34m(*args, **kwargs)\u001b[0m\n\u001b[1;32m    106\u001b[0m \u001b[39m@wraps\u001b[39m(fn)\n\u001b[1;32m    107\u001b[0m \u001b[39mdef\u001b[39;00m \u001b[39mwrapper\u001b[39m(\u001b[39m*\u001b[39margs, \u001b[39m*\u001b[39m\u001b[39m*\u001b[39mkwargs):\n\u001b[1;32m    108\u001b[0m     \u001b[39mtry\u001b[39;00m:\n\u001b[0;32m--> 109\u001b[0m         \u001b[39mreturn\u001b[39;00m fn(\u001b[39m*\u001b[39;49margs, \u001b[39m*\u001b[39;49m\u001b[39m*\u001b[39;49mkwargs)\n\u001b[1;32m    110\u001b[0m     \u001b[39mexcept\u001b[39;00m (\u001b[39mValueError\u001b[39;00m, \u001b[39mTypeError\u001b[39;00m) \u001b[39mas\u001b[39;00m e:\n\u001b[1;32m    111\u001b[0m         _add_community_link(e)\n",
      "File \u001b[0;32m~/.local/lib/python3.10/site-packages/sql/plot.py:522\u001b[0m, in \u001b[0;36m_histogram\u001b[0;34m(table, column, bins, with_, conn, facet)\u001b[0m\n\u001b[1;32m    519\u001b[0m use_backticks \u001b[39m=\u001b[39m conn\u001b[39m.\u001b[39mis_use_backtick_template()\n\u001b[1;32m    521\u001b[0m \u001b[39m# FIXME: we're computing all the with elements twice\u001b[39;00m\n\u001b[0;32m--> 522\u001b[0m min_, max_ \u001b[39m=\u001b[39m _min_max(conn, table, column, with_\u001b[39m=\u001b[39;49mwith_, use_backticks\u001b[39m=\u001b[39;49muse_backticks)\n\u001b[1;32m    524\u001b[0m \u001b[39m# Define all relevant filters here\u001b[39;00m\n\u001b[1;32m    525\u001b[0m filter_query_1 \u001b[39m=\u001b[39m \u001b[39mf\u001b[39m\u001b[39m'\u001b[39m\u001b[39m\"\u001b[39m\u001b[39m{\u001b[39;00mcolumn\u001b[39m}\u001b[39;00m\u001b[39m\"\u001b[39m\u001b[39m IS NOT NULL\u001b[39m\u001b[39m'\u001b[39m\n",
      "File \u001b[0;32m~/.local/lib/python3.10/site-packages/sql/plot.py:301\u001b[0m, in \u001b[0;36m_min_max\u001b[0;34m(con, table, column, with_, use_backticks)\u001b[0m\n\u001b[1;32m    298\u001b[0m template \u001b[39m=\u001b[39m Template(template_)\n\u001b[1;32m    299\u001b[0m query \u001b[39m=\u001b[39m template\u001b[39m.\u001b[39mrender(table\u001b[39m=\u001b[39mtable, column\u001b[39m=\u001b[39mcolumn)\n\u001b[0;32m--> 301\u001b[0m min_, max_ \u001b[39m=\u001b[39m con\u001b[39m.\u001b[39;49mexecute(query, with_)\u001b[39m.\u001b[39mfetchone()\n\u001b[1;32m    302\u001b[0m \u001b[39mreturn\u001b[39;00m min_, max_\n",
      "File \u001b[0;32m~/.local/lib/python3.10/site-packages/sql/connection/connection.py:462\u001b[0m, in \u001b[0;36mAbstractConnection.execute\u001b[0;34m(self, query, with_)\u001b[0m\n\u001b[1;32m    458\u001b[0m \u001b[39m\"\"\"\u001b[39;00m\n\u001b[1;32m    459\u001b[0m \u001b[39mExecutes SQL query on a given connection\u001b[39;00m\n\u001b[1;32m    460\u001b[0m \u001b[39m\"\"\"\u001b[39;00m\n\u001b[1;32m    461\u001b[0m query_prepared \u001b[39m=\u001b[39m \u001b[39mself\u001b[39m\u001b[39m.\u001b[39m_prepare_query(query, with_)\n\u001b[0;32m--> 462\u001b[0m \u001b[39mreturn\u001b[39;00m \u001b[39mself\u001b[39;49m\u001b[39m.\u001b[39;49mraw_execute(query_prepared)\n",
      "File \u001b[0;32m~/.local/lib/python3.10/site-packages/sql/connection/connection.py:687\u001b[0m, in \u001b[0;36mSQLAlchemyConnection.raw_execute\u001b[0;34m(self, query, parameters, with_)\u001b[0m\n\u001b[1;32m    685\u001b[0m \u001b[39melse\u001b[39;00m:\n\u001b[1;32m    686\u001b[0m     \u001b[39mtry\u001b[39;00m:\n\u001b[0;32m--> 687\u001b[0m         \u001b[39mreturn\u001b[39;00m \u001b[39mself\u001b[39;49m\u001b[39m.\u001b[39;49m_connection_execute(query)\n\u001b[1;32m    688\u001b[0m     \u001b[39mexcept\u001b[39;00m StatementError \u001b[39mas\u001b[39;00m e:\n\u001b[1;32m    689\u001b[0m         \u001b[39m# add a more helpful message if the users passes :variable but\u001b[39;00m\n\u001b[1;32m    690\u001b[0m         \u001b[39m# the feature isn't enabled\u001b[39;00m\n\u001b[1;32m    691\u001b[0m         \u001b[39mif\u001b[39;00m parameters \u001b[39mis\u001b[39;00m \u001b[39mNone\u001b[39;00m:\n",
      "File \u001b[0;32m~/.local/lib/python3.10/site-packages/sql/connection/connection.py:614\u001b[0m, in \u001b[0;36mSQLAlchemyConnection._connection_execute\u001b[0;34m(self, query, parameters)\u001b[0m\n\u001b[1;32m    612\u001b[0m     out \u001b[39m=\u001b[39m \u001b[39mself\u001b[39m\u001b[39m.\u001b[39m_connection\u001b[39m.\u001b[39mexecute(sqlalchemy\u001b[39m.\u001b[39mtext(query), \u001b[39m*\u001b[39m\u001b[39m*\u001b[39mparameters)\n\u001b[1;32m    613\u001b[0m \u001b[39melse\u001b[39;00m:\n\u001b[0;32m--> 614\u001b[0m     out \u001b[39m=\u001b[39m \u001b[39mself\u001b[39;49m\u001b[39m.\u001b[39;49m_connection\u001b[39m.\u001b[39;49mexecute(\n\u001b[1;32m    615\u001b[0m         sqlalchemy\u001b[39m.\u001b[39;49mtext(query), parameters\u001b[39m=\u001b[39;49mparameters\n\u001b[1;32m    616\u001b[0m     )\n\u001b[1;32m    618\u001b[0m \u001b[39mif\u001b[39;00m \u001b[39mself\u001b[39m\u001b[39m.\u001b[39m_requires_manual_commit:\n\u001b[1;32m    619\u001b[0m     \u001b[39m# calling connection.commit() when using duckdb-engine will yield\u001b[39;00m\n\u001b[1;32m    620\u001b[0m     \u001b[39m# empty results if we commit after a SELECT statement\u001b[39;00m\n\u001b[1;32m    621\u001b[0m     \u001b[39m# see: https://github.com/Mause/duckdb_engine/issues/734\u001b[39;00m\n\u001b[1;32m    622\u001b[0m     \u001b[39mif\u001b[39;00m is_select \u001b[39mand\u001b[39;00m \u001b[39mself\u001b[39m\u001b[39m.\u001b[39mdialect \u001b[39m==\u001b[39m \u001b[39m\"\u001b[39m\u001b[39mduckdb\u001b[39m\u001b[39m\"\u001b[39m:\n",
      "File \u001b[0;32m~/.local/lib/python3.10/site-packages/sqlalchemy/engine/base.py:1413\u001b[0m, in \u001b[0;36mConnection.execute\u001b[0;34m(self, statement, parameters, execution_options)\u001b[0m\n\u001b[1;32m   1411\u001b[0m     \u001b[39mraise\u001b[39;00m exc\u001b[39m.\u001b[39mObjectNotExecutableError(statement) \u001b[39mfrom\u001b[39;00m \u001b[39merr\u001b[39;00m\n\u001b[1;32m   1412\u001b[0m \u001b[39melse\u001b[39;00m:\n\u001b[0;32m-> 1413\u001b[0m     \u001b[39mreturn\u001b[39;00m meth(\n\u001b[1;32m   1414\u001b[0m         \u001b[39mself\u001b[39;49m,\n\u001b[1;32m   1415\u001b[0m         distilled_parameters,\n\u001b[1;32m   1416\u001b[0m         execution_options \u001b[39mor\u001b[39;49;00m NO_OPTIONS,\n\u001b[1;32m   1417\u001b[0m     )\n",
      "File \u001b[0;32m~/.local/lib/python3.10/site-packages/sqlalchemy/sql/elements.py:483\u001b[0m, in \u001b[0;36mClauseElement._execute_on_connection\u001b[0;34m(self, connection, distilled_params, execution_options)\u001b[0m\n\u001b[1;32m    481\u001b[0m     \u001b[39mif\u001b[39;00m TYPE_CHECKING:\n\u001b[1;32m    482\u001b[0m         \u001b[39massert\u001b[39;00m \u001b[39misinstance\u001b[39m(\u001b[39mself\u001b[39m, Executable)\n\u001b[0;32m--> 483\u001b[0m     \u001b[39mreturn\u001b[39;00m connection\u001b[39m.\u001b[39;49m_execute_clauseelement(\n\u001b[1;32m    484\u001b[0m         \u001b[39mself\u001b[39;49m, distilled_params, execution_options\n\u001b[1;32m    485\u001b[0m     )\n\u001b[1;32m    486\u001b[0m \u001b[39melse\u001b[39;00m:\n\u001b[1;32m    487\u001b[0m     \u001b[39mraise\u001b[39;00m exc\u001b[39m.\u001b[39mObjectNotExecutableError(\u001b[39mself\u001b[39m)\n",
      "File \u001b[0;32m~/.local/lib/python3.10/site-packages/sqlalchemy/engine/base.py:1637\u001b[0m, in \u001b[0;36mConnection._execute_clauseelement\u001b[0;34m(self, elem, distilled_parameters, execution_options)\u001b[0m\n\u001b[1;32m   1625\u001b[0m compiled_cache: Optional[CompiledCacheType] \u001b[39m=\u001b[39m execution_options\u001b[39m.\u001b[39mget(\n\u001b[1;32m   1626\u001b[0m     \u001b[39m\"\u001b[39m\u001b[39mcompiled_cache\u001b[39m\u001b[39m\"\u001b[39m, \u001b[39mself\u001b[39m\u001b[39m.\u001b[39mengine\u001b[39m.\u001b[39m_compiled_cache\n\u001b[1;32m   1627\u001b[0m )\n\u001b[1;32m   1629\u001b[0m compiled_sql, extracted_params, cache_hit \u001b[39m=\u001b[39m elem\u001b[39m.\u001b[39m_compile_w_cache(\n\u001b[1;32m   1630\u001b[0m     dialect\u001b[39m=\u001b[39mdialect,\n\u001b[1;32m   1631\u001b[0m     compiled_cache\u001b[39m=\u001b[39mcompiled_cache,\n\u001b[0;32m   (...)\u001b[0m\n\u001b[1;32m   1635\u001b[0m     linting\u001b[39m=\u001b[39m\u001b[39mself\u001b[39m\u001b[39m.\u001b[39mdialect\u001b[39m.\u001b[39mcompiler_linting \u001b[39m|\u001b[39m compiler\u001b[39m.\u001b[39mWARN_LINTING,\n\u001b[1;32m   1636\u001b[0m )\n\u001b[0;32m-> 1637\u001b[0m ret \u001b[39m=\u001b[39m \u001b[39mself\u001b[39;49m\u001b[39m.\u001b[39;49m_execute_context(\n\u001b[1;32m   1638\u001b[0m     dialect,\n\u001b[1;32m   1639\u001b[0m     dialect\u001b[39m.\u001b[39;49mexecution_ctx_cls\u001b[39m.\u001b[39;49m_init_compiled,\n\u001b[1;32m   1640\u001b[0m     compiled_sql,\n\u001b[1;32m   1641\u001b[0m     distilled_parameters,\n\u001b[1;32m   1642\u001b[0m     execution_options,\n\u001b[1;32m   1643\u001b[0m     compiled_sql,\n\u001b[1;32m   1644\u001b[0m     distilled_parameters,\n\u001b[1;32m   1645\u001b[0m     elem,\n\u001b[1;32m   1646\u001b[0m     extracted_params,\n\u001b[1;32m   1647\u001b[0m     cache_hit\u001b[39m=\u001b[39;49mcache_hit,\n\u001b[1;32m   1648\u001b[0m )\n\u001b[1;32m   1649\u001b[0m \u001b[39mif\u001b[39;00m has_events:\n\u001b[1;32m   1650\u001b[0m     \u001b[39mself\u001b[39m\u001b[39m.\u001b[39mdispatch\u001b[39m.\u001b[39mafter_execute(\n\u001b[1;32m   1651\u001b[0m         \u001b[39mself\u001b[39m,\n\u001b[1;32m   1652\u001b[0m         elem,\n\u001b[0;32m   (...)\u001b[0m\n\u001b[1;32m   1656\u001b[0m         ret,\n\u001b[1;32m   1657\u001b[0m     )\n",
      "File \u001b[0;32m~/.local/lib/python3.10/site-packages/sqlalchemy/engine/base.py:1841\u001b[0m, in \u001b[0;36mConnection._execute_context\u001b[0;34m(self, dialect, constructor, statement, parameters, execution_options, *args, **kw)\u001b[0m\n\u001b[1;32m   1836\u001b[0m     \u001b[39mreturn\u001b[39;00m \u001b[39mself\u001b[39m\u001b[39m.\u001b[39m_exec_insertmany_context(\n\u001b[1;32m   1837\u001b[0m         dialect,\n\u001b[1;32m   1838\u001b[0m         context,\n\u001b[1;32m   1839\u001b[0m     )\n\u001b[1;32m   1840\u001b[0m \u001b[39melse\u001b[39;00m:\n\u001b[0;32m-> 1841\u001b[0m     \u001b[39mreturn\u001b[39;00m \u001b[39mself\u001b[39;49m\u001b[39m.\u001b[39;49m_exec_single_context(\n\u001b[1;32m   1842\u001b[0m         dialect, context, statement, parameters\n\u001b[1;32m   1843\u001b[0m     )\n",
      "File \u001b[0;32m~/.local/lib/python3.10/site-packages/sqlalchemy/engine/base.py:1982\u001b[0m, in \u001b[0;36mConnection._exec_single_context\u001b[0;34m(self, dialect, context, statement, parameters)\u001b[0m\n\u001b[1;32m   1979\u001b[0m     result \u001b[39m=\u001b[39m context\u001b[39m.\u001b[39m_setup_result_proxy()\n\u001b[1;32m   1981\u001b[0m \u001b[39mexcept\u001b[39;00m \u001b[39mBaseException\u001b[39;00m \u001b[39mas\u001b[39;00m e:\n\u001b[0;32m-> 1982\u001b[0m     \u001b[39mself\u001b[39;49m\u001b[39m.\u001b[39;49m_handle_dbapi_exception(\n\u001b[1;32m   1983\u001b[0m         e, str_statement, effective_parameters, cursor, context\n\u001b[1;32m   1984\u001b[0m     )\n\u001b[1;32m   1986\u001b[0m \u001b[39mreturn\u001b[39;00m result\n",
      "File \u001b[0;32m~/.local/lib/python3.10/site-packages/sqlalchemy/engine/base.py:2339\u001b[0m, in \u001b[0;36mConnection._handle_dbapi_exception\u001b[0;34m(self, e, statement, parameters, cursor, context, is_sub_exec)\u001b[0m\n\u001b[1;32m   2337\u001b[0m \u001b[39melif\u001b[39;00m should_wrap:\n\u001b[1;32m   2338\u001b[0m     \u001b[39massert\u001b[39;00m sqlalchemy_exception \u001b[39mis\u001b[39;00m \u001b[39mnot\u001b[39;00m \u001b[39mNone\u001b[39;00m\n\u001b[0;32m-> 2339\u001b[0m     \u001b[39mraise\u001b[39;00m sqlalchemy_exception\u001b[39m.\u001b[39mwith_traceback(exc_info[\u001b[39m2\u001b[39m]) \u001b[39mfrom\u001b[39;00m \u001b[39me\u001b[39;00m\n\u001b[1;32m   2340\u001b[0m \u001b[39melse\u001b[39;00m:\n\u001b[1;32m   2341\u001b[0m     \u001b[39massert\u001b[39;00m exc_info[\u001b[39m1\u001b[39m] \u001b[39mis\u001b[39;00m \u001b[39mnot\u001b[39;00m \u001b[39mNone\u001b[39;00m\n",
      "File \u001b[0;32m~/.local/lib/python3.10/site-packages/sqlalchemy/engine/base.py:1963\u001b[0m, in \u001b[0;36mConnection._exec_single_context\u001b[0;34m(self, dialect, context, statement, parameters)\u001b[0m\n\u001b[1;32m   1961\u001b[0m                 \u001b[39mbreak\u001b[39;00m\n\u001b[1;32m   1962\u001b[0m     \u001b[39mif\u001b[39;00m \u001b[39mnot\u001b[39;00m evt_handled:\n\u001b[0;32m-> 1963\u001b[0m         \u001b[39mself\u001b[39;49m\u001b[39m.\u001b[39;49mdialect\u001b[39m.\u001b[39;49mdo_execute(\n\u001b[1;32m   1964\u001b[0m             cursor, str_statement, effective_parameters, context\n\u001b[1;32m   1965\u001b[0m         )\n\u001b[1;32m   1967\u001b[0m \u001b[39mif\u001b[39;00m \u001b[39mself\u001b[39m\u001b[39m.\u001b[39m_has_events \u001b[39mor\u001b[39;00m \u001b[39mself\u001b[39m\u001b[39m.\u001b[39mengine\u001b[39m.\u001b[39m_has_events:\n\u001b[1;32m   1968\u001b[0m     \u001b[39mself\u001b[39m\u001b[39m.\u001b[39mdispatch\u001b[39m.\u001b[39mafter_cursor_execute(\n\u001b[1;32m   1969\u001b[0m         \u001b[39mself\u001b[39m,\n\u001b[1;32m   1970\u001b[0m         cursor,\n\u001b[0;32m   (...)\u001b[0m\n\u001b[1;32m   1974\u001b[0m         context\u001b[39m.\u001b[39mexecutemany,\n\u001b[1;32m   1975\u001b[0m     )\n",
      "File \u001b[0;32m~/.local/lib/python3.10/site-packages/sqlalchemy/engine/default.py:920\u001b[0m, in \u001b[0;36mDefaultDialect.do_execute\u001b[0;34m(self, cursor, statement, parameters, context)\u001b[0m\n\u001b[1;32m    919\u001b[0m \u001b[39mdef\u001b[39;00m \u001b[39mdo_execute\u001b[39m(\u001b[39mself\u001b[39m, cursor, statement, parameters, context\u001b[39m=\u001b[39m\u001b[39mNone\u001b[39;00m):\n\u001b[0;32m--> 920\u001b[0m     cursor\u001b[39m.\u001b[39;49mexecute(statement, parameters)\n",
      "File \u001b[0;32m~/.local/lib/python3.10/site-packages/duckdb_engine/__init__.py:144\u001b[0m, in \u001b[0;36mConnectionWrapper.execute\u001b[0;34m(self, statement, parameters, context)\u001b[0m\n\u001b[1;32m    142\u001b[0m         \u001b[39mself\u001b[39m\u001b[39m.\u001b[39m__c\u001b[39m.\u001b[39mexecute(statement)\n\u001b[1;32m    143\u001b[0m     \u001b[39melse\u001b[39;00m:\n\u001b[0;32m--> 144\u001b[0m         \u001b[39mself\u001b[39;49m\u001b[39m.\u001b[39;49m__c\u001b[39m.\u001b[39;49mexecute(statement, parameters)\n\u001b[1;32m    145\u001b[0m \u001b[39mexcept\u001b[39;00m \u001b[39mRuntimeError\u001b[39;00m \u001b[39mas\u001b[39;00m e:\n\u001b[1;32m    146\u001b[0m     \u001b[39mif\u001b[39;00m e\u001b[39m.\u001b[39margs[\u001b[39m0\u001b[39m]\u001b[39m.\u001b[39mstartswith(\u001b[39m\"\u001b[39m\u001b[39mNot implemented Error\u001b[39m\u001b[39m\"\u001b[39m):\n",
      "\u001b[0;31mProgrammingError\u001b[0m: (duckdb.InvalidInputException) Invalid Input Error: Attempting to execute an unsuccessful or closed pending query result\nError: Invalid Error: Current transaction is aborted (please ROLLBACK)\n[SQL: WITH not_nulls AS (\nSELECT *\nFROM 'data/penguins.csv'\nWHERE bill_length_mm IS NOT NULL\nAND bill_depth_mm IS NOT NULL)\nSELECT\n    MIN(\"bill_length_mm\"),\n    MAX(\"bill_length_mm\")\nFROM \"not_nulls\"]\n(Background on this error at: https://sqlalche.me/e/20/f405)"
     ]
    },
    {
     "data": {
      "image/png": "[encoded data removed]",
      "text/plain": [
       "<Figure size 640x480 with 1 Axes>"
      ]
     },
     "metadata": {},
     "output_type": "display_data"
    }
   ],
   "source": [
    "%sql duckdb://\n",
    "%sqlplot histogram --column bill_length_mm bill_depth_mm --table not_nulls --with not_nulls"
   ]
  }
 ],
 "metadata": {
  "kernelspec": {
   "display_name": "Python 3",
   "language": "python",
   "name": "python3"
  },
  "language_info": {
   "codemirror_mode": {
    "name": "ipython",
    "version": 3
   },
   "file_extension": ".py",
   "mimetype": "text/x-python",
   "name": "python",
   "nbconvert_exporter": "python",
   "pygments_lexer": "ipython3",
   "version": "3.10.6"
  },
  "orig_nbformat": 4,
  "vscode": {
   "interpreter": {
    "hash": "e7370f93d1d0cde622a1f8e1c04877d8463912d04d973331ad4851f04de6915a"
   }
  }
 },
 "nbformat": 4,
 "nbformat_minor": 2
}
