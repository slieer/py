{
 "cells": [
  {
   "cell_type": "code",
   "execution_count": 1,
   "metadata": {},
   "outputs": [
    {
     "name": "stdout",
     "output_type": "stream",
     "text": [
      "CPU times: total: 15.6 ms\n",
      "Wall time: 5.44 s\n"
     ]
    }
   ],
   "source": [
    "%%time\n",
    "\n",
    "!pip install --upgrade pip --quiet\n",
    "!pip install pandas jupysql duckdb-engine matplotlib --quiet\n",
    "\n",
    "from pathlib import Path\n",
    "from urllib.request import urlretrieve\n",
    "\n",
    "#curr = Path()\n",
    "#print(curr.as_uri, curr.absolute())\n",
    "#f = Path(\"data/penguins.csv\")\n",
    "#print('isFile:',f.is_file(), f.absolute())\n",
    "\n",
    "if not Path(\"data/penguins.csv\").is_file():\n",
    "    urlretrieve(\n",
    "        \"https://raw.githubusercontent.com/mwaskom/seaborn-data/master/penguins.csv\",\n",
    "        \"penguins.csv\",\n",
    "    )"
   ]
  },
  {
   "cell_type": "code",
   "execution_count": 2,
   "metadata": {},
   "outputs": [
    {
     "data": {
      "text/html": [
       "<span style=\"None\">Connecting to &#x27;duckdb://&#x27;</span>"
      ],
      "text/plain": [
       "Connecting to 'duckdb://'"
      ]
     },
     "metadata": {},
     "output_type": "display_data"
    },
    {
     "data": {
      "text/html": [
       "<span style=\"None\">Running query in &#x27;duckdb://&#x27;</span>"
      ],
      "text/plain": [
       "Running query in 'duckdb://'"
      ]
     },
     "metadata": {},
     "output_type": "display_data"
    },
    {
     "data": {
      "text/html": [
       "<table>\n",
       "    <thead>\n",
       "        <tr>\n",
       "            <th>species</th>\n",
       "            <th>island</th>\n",
       "            <th>bill_length_mm</th>\n",
       "            <th>bill_depth_mm</th>\n",
       "            <th>flipper_length_mm</th>\n",
       "            <th>body_mass_g</th>\n",
       "            <th>sex</th>\n",
       "        </tr>\n",
       "    </thead>\n",
       "    <tbody>\n",
       "        <tr>\n",
       "            <td>Adelie</td>\n",
       "            <td>Torgersen</td>\n",
       "            <td>39.1</td>\n",
       "            <td>18.7</td>\n",
       "            <td>181</td>\n",
       "            <td>3750</td>\n",
       "            <td>MALE</td>\n",
       "        </tr>\n",
       "        <tr>\n",
       "            <td>Adelie</td>\n",
       "            <td>Torgersen</td>\n",
       "            <td>39.5</td>\n",
       "            <td>17.4</td>\n",
       "            <td>186</td>\n",
       "            <td>3800</td>\n",
       "            <td>FEMALE</td>\n",
       "        </tr>\n",
       "        <tr>\n",
       "            <td>Adelie</td>\n",
       "            <td>Torgersen</td>\n",
       "            <td>40.3</td>\n",
       "            <td>18.0</td>\n",
       "            <td>195</td>\n",
       "            <td>3250</td>\n",
       "            <td>FEMALE</td>\n",
       "        </tr>\n",
       "    </tbody>\n",
       "</table>"
      ],
      "text/plain": [
       "+---------+-----------+----------------+---------------+-------------------+-------------+--------+\n",
       "| species |   island  | bill_length_mm | bill_depth_mm | flipper_length_mm | body_mass_g |  sex   |\n",
       "+---------+-----------+----------------+---------------+-------------------+-------------+--------+\n",
       "|  Adelie | Torgersen |      39.1      |      18.7     |        181        |     3750    |  MALE  |\n",
       "|  Adelie | Torgersen |      39.5      |      17.4     |        186        |     3800    | FEMALE |\n",
       "|  Adelie | Torgersen |      40.3      |      18.0     |        195        |     3250    | FEMALE |\n",
       "+---------+-----------+----------------+---------------+-------------------+-------------+--------+"
      ]
     },
     "execution_count": 2,
     "metadata": {},
     "output_type": "execute_result"
    }
   ],
   "source": [
    "%load_ext sql\n",
    "%sql duckdb://\n",
    "\n",
    "\n",
    "%sql SELECT * FROM 'data/penguins.csv' LIMIT 3"
   ]
  },
  {
   "cell_type": "code",
   "execution_count": 3,
   "metadata": {},
   "outputs": [
    {
     "data": {
      "text/html": [
       "<span style=\"None\">Running query in &#x27;duckdb://&#x27;</span>"
      ],
      "text/plain": [
       "Running query in 'duckdb://'"
      ]
     },
     "metadata": {},
     "output_type": "display_data"
    },
    {
     "data": {
      "text/html": [
       "<table>\n",
       "    <thead>\n",
       "        <tr>\n",
       "            <th>species</th>\n",
       "            <th>island</th>\n",
       "            <th>bill_length_mm</th>\n",
       "            <th>bill_depth_mm</th>\n",
       "            <th>flipper_length_mm</th>\n",
       "            <th>body_mass_g</th>\n",
       "            <th>sex</th>\n",
       "        </tr>\n",
       "    </thead>\n",
       "    <tbody>\n",
       "        <tr>\n",
       "            <td>Adelie</td>\n",
       "            <td>Torgersen</td>\n",
       "            <td>40.3</td>\n",
       "            <td>18.0</td>\n",
       "            <td>195</td>\n",
       "            <td>3250</td>\n",
       "            <td>FEMALE</td>\n",
       "        </tr>\n",
       "        <tr>\n",
       "            <td>Adelie</td>\n",
       "            <td>Torgersen</td>\n",
       "            <td>42.0</td>\n",
       "            <td>20.2</td>\n",
       "            <td>190</td>\n",
       "            <td>4250</td>\n",
       "            <td>None</td>\n",
       "        </tr>\n",
       "        <tr>\n",
       "            <td>Adelie</td>\n",
       "            <td>Torgersen</td>\n",
       "            <td>41.1</td>\n",
       "            <td>17.6</td>\n",
       "            <td>182</td>\n",
       "            <td>3200</td>\n",
       "            <td>FEMALE</td>\n",
       "        </tr>\n",
       "    </tbody>\n",
       "</table>"
      ],
      "text/plain": [
       "+---------+-----------+----------------+---------------+-------------------+-------------+--------+\n",
       "| species |   island  | bill_length_mm | bill_depth_mm | flipper_length_mm | body_mass_g |  sex   |\n",
       "+---------+-----------+----------------+---------------+-------------------+-------------+--------+\n",
       "|  Adelie | Torgersen |      40.3      |      18.0     |        195        |     3250    | FEMALE |\n",
       "|  Adelie | Torgersen |      42.0      |      20.2     |        190        |     4250    |  None  |\n",
       "|  Adelie | Torgersen |      41.1      |      17.6     |        182        |     3200    | FEMALE |\n",
       "+---------+-----------+----------------+---------------+-------------------+-------------+--------+"
      ]
     },
     "execution_count": 3,
     "metadata": {},
     "output_type": "execute_result"
    }
   ],
   "source": [
    "%%sql\n",
    "SELECT *\n",
    "FROM 'data/penguins.csv'\n",
    "WHERE bill_length_mm > 40\n",
    "LIMIT 3"
   ]
  },
  {
   "cell_type": "code",
   "execution_count": 4,
   "metadata": {},
   "outputs": [
    {
     "data": {
      "text/html": [
       "<span style=\"None\">Running query in &#x27;duckdb://&#x27;</span>"
      ],
      "text/plain": [
       "Running query in 'duckdb://'"
      ]
     },
     "metadata": {},
     "output_type": "display_data"
    },
    {
     "name": "stdout",
     "output_type": "stream",
     "text": [
      "head:\n"
     ]
    },
    {
     "data": {
      "text/html": [
       "<div>\n",
       "<style scoped>\n",
       "    .dataframe tbody tr th:only-of-type {\n",
       "        vertical-align: middle;\n",
       "    }\n",
       "\n",
       "    .dataframe tbody tr th {\n",
       "        vertical-align: top;\n",
       "    }\n",
       "\n",
       "    .dataframe thead th {\n",
       "        text-align: right;\n",
       "    }\n",
       "</style>\n",
       "<table border=\"1\" class=\"dataframe\">\n",
       "  <thead>\n",
       "    <tr style=\"text-align: right;\">\n",
       "      <th></th>\n",
       "      <th>species</th>\n",
       "      <th>island</th>\n",
       "      <th>bill_length_mm</th>\n",
       "      <th>bill_depth_mm</th>\n",
       "      <th>flipper_length_mm</th>\n",
       "      <th>body_mass_g</th>\n",
       "      <th>sex</th>\n",
       "    </tr>\n",
       "  </thead>\n",
       "  <tbody>\n",
       "    <tr>\n",
       "      <th>0</th>\n",
       "      <td>Adelie</td>\n",
       "      <td>Torgersen</td>\n",
       "      <td>39.1</td>\n",
       "      <td>18.7</td>\n",
       "      <td>181.0</td>\n",
       "      <td>3750.0</td>\n",
       "      <td>MALE</td>\n",
       "    </tr>\n",
       "    <tr>\n",
       "      <th>1</th>\n",
       "      <td>Adelie</td>\n",
       "      <td>Torgersen</td>\n",
       "      <td>39.5</td>\n",
       "      <td>17.4</td>\n",
       "      <td>186.0</td>\n",
       "      <td>3800.0</td>\n",
       "      <td>FEMALE</td>\n",
       "    </tr>\n",
       "    <tr>\n",
       "      <th>2</th>\n",
       "      <td>Adelie</td>\n",
       "      <td>Torgersen</td>\n",
       "      <td>40.3</td>\n",
       "      <td>18.0</td>\n",
       "      <td>195.0</td>\n",
       "      <td>3250.0</td>\n",
       "      <td>FEMALE</td>\n",
       "    </tr>\n",
       "    <tr>\n",
       "      <th>3</th>\n",
       "      <td>Adelie</td>\n",
       "      <td>Torgersen</td>\n",
       "      <td>NaN</td>\n",
       "      <td>NaN</td>\n",
       "      <td>NaN</td>\n",
       "      <td>NaN</td>\n",
       "      <td>None</td>\n",
       "    </tr>\n",
       "    <tr>\n",
       "      <th>4</th>\n",
       "      <td>Adelie</td>\n",
       "      <td>Torgersen</td>\n",
       "      <td>36.7</td>\n",
       "      <td>19.3</td>\n",
       "      <td>193.0</td>\n",
       "      <td>3450.0</td>\n",
       "      <td>FEMALE</td>\n",
       "    </tr>\n",
       "  </tbody>\n",
       "</table>\n",
       "</div>"
      ],
      "text/plain": [
       "  species     island  bill_length_mm  bill_depth_mm  flipper_length_mm  \\\n",
       "0  Adelie  Torgersen            39.1           18.7              181.0   \n",
       "1  Adelie  Torgersen            39.5           17.4              186.0   \n",
       "2  Adelie  Torgersen            40.3           18.0              195.0   \n",
       "3  Adelie  Torgersen             NaN            NaN                NaN   \n",
       "4  Adelie  Torgersen            36.7           19.3              193.0   \n",
       "\n",
       "   body_mass_g     sex  \n",
       "0       3750.0    MALE  \n",
       "1       3800.0  FEMALE  \n",
       "2       3250.0  FEMALE  \n",
       "3          NaN    None  \n",
       "4       3450.0  FEMALE  "
      ]
     },
     "execution_count": 4,
     "metadata": {},
     "output_type": "execute_result"
    }
   ],
   "source": [
    "result = %sql SELECT * FROM 'data/penguins.csv'\n",
    "df = result.DataFrame()\n",
    "print('head:')\n",
    "df.head()\n"
   ]
  },
  {
   "cell_type": "code",
   "execution_count": 5,
   "metadata": {},
   "outputs": [
    {
     "data": {
      "text/html": [
       "<span style=\"None\">Running query in &#x27;duckdb://&#x27;</span>"
      ],
      "text/plain": [
       "Running query in 'duckdb://'"
      ]
     },
     "metadata": {},
     "output_type": "display_data"
    },
    {
     "data": {
      "text/html": [
       "<table>\n",
       "    <thead>\n",
       "        <tr>\n",
       "            <th>species</th>\n",
       "            <th>island</th>\n",
       "            <th>bill_length_mm</th>\n",
       "            <th>bill_depth_mm</th>\n",
       "            <th>flipper_length_mm</th>\n",
       "            <th>body_mass_g</th>\n",
       "            <th>sex</th>\n",
       "        </tr>\n",
       "    </thead>\n",
       "    <tbody>\n",
       "        <tr>\n",
       "            <td>Adelie</td>\n",
       "            <td>Torgersen</td>\n",
       "            <td>39.1</td>\n",
       "            <td>18.7</td>\n",
       "            <td>181</td>\n",
       "            <td>3750</td>\n",
       "            <td>MALE</td>\n",
       "        </tr>\n",
       "        <tr>\n",
       "            <td>Adelie</td>\n",
       "            <td>Torgersen</td>\n",
       "            <td>39.5</td>\n",
       "            <td>17.4</td>\n",
       "            <td>186</td>\n",
       "            <td>3800</td>\n",
       "            <td>FEMALE</td>\n",
       "        </tr>\n",
       "        <tr>\n",
       "            <td>Adelie</td>\n",
       "            <td>Torgersen</td>\n",
       "            <td>40.3</td>\n",
       "            <td>18.0</td>\n",
       "            <td>195</td>\n",
       "            <td>3250</td>\n",
       "            <td>FEMALE</td>\n",
       "        </tr>\n",
       "        <tr>\n",
       "            <td>Adelie</td>\n",
       "            <td>Torgersen</td>\n",
       "            <td>None</td>\n",
       "            <td>None</td>\n",
       "            <td>None</td>\n",
       "            <td>None</td>\n",
       "            <td>None</td>\n",
       "        </tr>\n",
       "        <tr>\n",
       "            <td>Adelie</td>\n",
       "            <td>Torgersen</td>\n",
       "            <td>36.7</td>\n",
       "            <td>19.3</td>\n",
       "            <td>193</td>\n",
       "            <td>3450</td>\n",
       "            <td>FEMALE</td>\n",
       "        </tr>\n",
       "    </tbody>\n",
       "</table>"
      ],
      "text/plain": [
       "+---------+-----------+----------------+---------------+-------------------+-------------+--------+\n",
       "| species |   island  | bill_length_mm | bill_depth_mm | flipper_length_mm | body_mass_g |  sex   |\n",
       "+---------+-----------+----------------+---------------+-------------------+-------------+--------+\n",
       "|  Adelie | Torgersen |      39.1      |      18.7     |        181        |     3750    |  MALE  |\n",
       "|  Adelie | Torgersen |      39.5      |      17.4     |        186        |     3800    | FEMALE |\n",
       "|  Adelie | Torgersen |      40.3      |      18.0     |        195        |     3250    | FEMALE |\n",
       "|  Adelie | Torgersen |      None      |      None     |        None       |     None    |  None  |\n",
       "|  Adelie | Torgersen |      36.7      |      19.3     |        193        |     3450    | FEMALE |\n",
       "+---------+-----------+----------------+---------------+-------------------+-------------+--------+"
      ]
     },
     "execution_count": 5,
     "metadata": {},
     "output_type": "execute_result"
    }
   ],
   "source": [
    "QUERY = \"\"\"\n",
    "SELECT * FROM 'data/penguins.csv' limit 5\n",
    "\"\"\"\n",
    "\n",
    "%sql {{QUERY}}"
   ]
  },
  {
   "cell_type": "code",
   "execution_count": null,
   "metadata": {},
   "outputs": [
    {
     "name": "stderr",
     "output_type": "stream",
     "text": [
      "UsageError: Line magic function `%sqlplot` not found.\n"
     ]
    }
   ],
   "source": [
    "%sqlplot boxplot --table 'data/penguins.csv' --column body_mass_g"
   ]
  },
  {
   "cell_type": "code",
   "execution_count": 6,
   "metadata": {},
   "outputs": [
    {
     "data": {
      "text/html": [
       "<span style=\"None\">Running query in &#x27;duckdb://&#x27;</span>"
      ],
      "text/plain": [
       "Running query in 'duckdb://'"
      ]
     },
     "metadata": {},
     "output_type": "display_data"
    },
    {
     "data": {
      "text/html": [
       "<table>\n",
       "    <thead>\n",
       "        <tr>\n",
       "            <th>island</th>\n",
       "            <th>count_star()</th>\n",
       "        </tr>\n",
       "    </thead>\n",
       "    <tbody>\n",
       "        <tr>\n",
       "            <td>Biscoe</td>\n",
       "            <td>168</td>\n",
       "        </tr>\n",
       "        <tr>\n",
       "            <td>Dream</td>\n",
       "            <td>124</td>\n",
       "        </tr>\n",
       "        <tr>\n",
       "            <td>Torgersen</td>\n",
       "            <td>52</td>\n",
       "        </tr>\n",
       "    </tbody>\n",
       "</table>"
      ],
      "text/plain": [
       "+-----------+--------------+\n",
       "|   island  | count_star() |\n",
       "+-----------+--------------+\n",
       "|   Biscoe  |     168      |\n",
       "|   Dream   |     124      |\n",
       "| Torgersen |      52      |\n",
       "+-----------+--------------+"
      ]
     },
     "execution_count": 6,
     "metadata": {},
     "output_type": "execute_result"
    }
   ],
   "source": [
    "%%sql\n",
    "SELECT island, COUNT(*)\n",
    "FROM 'data/penguins.csv'\n",
    "GROUP BY island\n",
    "ORDER BY COUNT(*) DESC"
   ]
  },
  {
   "cell_type": "code",
   "execution_count": 7,
   "metadata": {},
   "outputs": [
    {
     "data": {
      "text/html": [
       "<span style=\"None\">Running query in &#x27;duckdb://&#x27;</span>"
      ],
      "text/plain": [
       "Running query in 'duckdb://'"
      ]
     },
     "metadata": {},
     "output_type": "display_data"
    },
    {
     "data": {
      "text/html": [
       "<span style=\"None\">Skipping execution...</span>"
      ],
      "text/plain": [
       "Skipping execution..."
      ]
     },
     "metadata": {},
     "output_type": "display_data"
    }
   ],
   "source": [
    "%%sql --save biscoe --no-execute\n",
    "SELECT *\n",
    "FROM 'data/penguins.csv'\n",
    "WHERE island = 'Biscoe'"
   ]
  },
  {
   "cell_type": "code",
   "execution_count": null,
   "metadata": {},
   "outputs": [
    {
     "data": {
      "text/plain": [
       "<Axes: title={'center': \"'body_mass_g' from 'biscoe'\"}, ylabel='body_mass_g'>"
      ]
     },
     "execution_count": 9,
     "metadata": {},
     "output_type": "execute_result"
    },
    {
     "data": {
      "image/png": "[encoded data removed]",
      "text/plain": [
       "<Figure size 640x480 with 1 Axes>"
      ]
     },
     "metadata": {},
     "output_type": "display_data"
    }
   ],
   "source": [
    "%sqlplot boxplot --table biscoe --column body_mass_g --with biscoe"
   ]
  },
  {
   "cell_type": "code",
   "execution_count": null,
   "metadata": {},
   "outputs": [
    {
     "data": {
      "text/plain": [
       "<Axes: title={'center': \"'body_mass_g' from 'data/penguins.csv'\"}, xlabel='body_mass_g', ylabel='Count'>"
      ]
     },
     "execution_count": 10,
     "metadata": {},
     "output_type": "execute_result"
    },
    {
     "data": {
      "image/png": "[encoded data removed]",
      "text/plain": [
       "<Figure size 640x480 with 1 Axes>"
      ]
     },
     "metadata": {},
     "output_type": "display_data"
    }
   ],
   "source": [
    "%sqlplot histogram --table 'data/penguins.csv' --column body_mass_g "
   ]
  },
  {
   "cell_type": "code",
   "execution_count": null,
   "metadata": {},
   "outputs": [
    {
     "data": {
      "text/plain": [
       "<Axes: title={'center': \"'body_mass_g' from 'data/penguins.csv'\"}, xlabel='body_mass_g', ylabel='Count'>"
      ]
     },
     "execution_count": 11,
     "metadata": {},
     "output_type": "execute_result"
    },
    {
     "data": {
      "image/png": "[encoded data removed]",
      "text/plain": [
       "<Figure size 640x480 with 1 Axes>"
      ]
     },
     "metadata": {},
     "output_type": "display_data"
    }
   ],
   "source": [
    "%sqlplot histogram --table 'data/penguins.csv' --column body_mass_g  --bins 100"
   ]
  },
  {
   "cell_type": "code",
   "execution_count": null,
   "metadata": {},
   "outputs": [],
   "source": []
  }
 ],
 "metadata": {
  "kernelspec": {
   "display_name": "Python 3",
   "language": "python",
   "name": "python3"
  },
  "language_info": {
   "codemirror_mode": {
    "name": "ipython",
    "version": 3
   },
   "file_extension": ".py",
   "mimetype": "text/x-python",
   "name": "python",
   "nbconvert_exporter": "python",
   "pygments_lexer": "ipython3",
   "version": "3.11.6"
  },
  "orig_nbformat": 4,
  "vscode": {
   "interpreter": {
    "hash": "e7370f93d1d0cde622a1f8e1c04877d8463912d04d973331ad4851f04de6915a"
   }
  }
 },
 "nbformat": 4,
 "nbformat_minor": 2
}
