{
 "cells": [
  {
   "cell_type": "code",
   "execution_count": 117,
   "metadata": {},
   "outputs": [
    {
     "name": "stdout",
     "output_type": "stream",
     "text": [
      "向量:\n",
      " [2 3 4]\n",
      "元素类型,行列数，维数, 元素个数，字节数: int64 (3,) 1 3 24\n",
      "向量\n",
      " [2 3 4]\n",
      "矩阵:\n",
      " [[1 3 4]\n",
      " [2 3 5]]\n",
      "zero向量:\n",
      " [0. 0. 0. 0. 0. 0. 0. 0. 0. 0.]\n",
      "zero方阵:\n",
      " [[0. 0. 0. 0. 0.]\n",
      " [0. 0. 0. 0. 0.]\n",
      " [0. 0. 0. 0. 0.]\n",
      " [0. 0. 0. 0. 0.]\n",
      " [0. 0. 0. 0. 0.]]\n",
      "zero向量:\n",
      " [0. 0. 0. 0. 0. 0. 0. 0. 0. 0. 0. 0. 0. 0. 0. 0. 0. 0. 0. 0. 0. 0. 0. 0.]\n",
      "三维张量,所有元素初始化为1\n",
      " [[[1. 1. 1.]\n",
      "  [1. 1. 1.]\n",
      "  [1. 1. 1.]]\n",
      "\n",
      " [[1. 1. 1.]\n",
      "  [1. 1. 1.]\n",
      "  [1. 1. 1.]]]\n",
      "toList:\n",
      " [2, 3, 4]\n"
     ]
    }
   ],
   "source": [
    "import numpy as np\n",
    "\n",
    "#一维数组，向量\n",
    "a = np.array([2,3,4])\n",
    "print('向量:\\n', a)\n",
    "print('元素类型,行列数，维数, 元素个数，字节数:', a.dtype, a.shape, a.ndim, a.size, a.nbytes)\n",
    "\n",
    "print(\"向量\\n\", np.array((2,3,4)))\n",
    "print('矩阵:\\n', np.array([(1,3,4),(2,3,5)]))\n",
    "\n",
    "print('zero向量:\\n', np.zeros(10))\n",
    "print('zero方阵:\\n', np.zeros((5,5)))\n",
    "print('zero向量:\\n', np.zeros(3*2*4))\n",
    "print('三维张量,所有元素初始化为1\\n', np.ones((2,3,3)))\n",
    "\n",
    "print('toList:\\n', a.tolist())"
   ]
  },
  {
   "cell_type": "code",
   "execution_count": 75,
   "metadata": {},
   "outputs": [
    {
     "name": "stdout",
     "output_type": "stream",
     "text": [
      "rand, 3*4矩阵\n",
      " [[0.46362494 0.14411614 0.27939739 0.54839003]\n",
      " [0.109593   0.19734139 0.05230977 0.29930861]\n",
      " [0.18125342 0.07083283 0.93067922 0.19693583]]\n",
      "rand(0,10), 7*4矩阵:\n",
      " [[3 7 1 5]\n",
      " [8 0 7 2]\n",
      " [5 9 8 9]\n",
      " [8 8 2 5]\n",
      " [2 0 1 7]\n",
      " [6 4 8 4]\n",
      " [0 1 4 0]]\n",
      "三维张量，元素未初始化:\n",
      " [4.66582678e-310 0.00000000e+000 6.95037521e-310 6.95037658e-310\n",
      " 6.95037521e-310 6.95037531e-310 6.95037464e-310 6.95037521e-310\n",
      " 6.95037658e-310 6.95037553e-310 6.95037567e-310 6.95037567e-310\n",
      " 6.95037650e-310 6.95037649e-310 6.95037648e-310 6.95037464e-310\n",
      " 6.95037567e-310 6.95037568e-310 6.95037568e-310 6.95037568e-310\n",
      " 6.95037567e-310 6.95037568e-310 6.95037567e-310 6.95037567e-310\n",
      " 6.95037568e-310 6.95037553e-310 1.10670705e-321]\n",
      "arange:\n",
      " [0 1 2 3 4]\n",
      "3*3矩阵, 顺序填充:\n",
      " [[ 3  4  5]\n",
      " [ 6  7  8]\n",
      " [ 9 10 11]]\n",
      "从0开始填充, 3*5矩阵:\n",
      " [[ 0  1  2  3  4  5  6  7]\n",
      " [ 8  9 10 11 12 13 14 15]\n",
      " [16 17 18 19 20 21 22 23]]\n",
      "x[1:, ::2]:\n",
      " [[  0   1   2   3   4   5   6   7]\n",
      " [-99   9 -99  11 -99  13 -99  15]\n",
      " [-99  17 -99  19 -99  21 -99  23]]\n",
      "x.max(axis=1):\n",
      " [ 7 15 23]\n",
      "samples:\n",
      " [ 0.10594406  0.89257565 -0.19294684 -0.41023514  0.78449342 -0.51256719\n",
      " -1.33196933  1.16825275  0.51789251  0.34459232]\n"
     ]
    }
   ],
   "source": [
    "a = np.random.rand(3,4)\n",
    "print('rand, 3*4矩阵\\n', a)\n",
    "arr = np.random.randint(0, 10, (7, 4))\n",
    "print('rand(0,10), 7*4矩阵:\\n', arr)\n",
    "\n",
    "print('三维张量，元素未初始化:\\n', np.empty(3*3*3))\n",
    "\n",
    "\"\"\"\n",
    "np.arange([start, ]stop, [step, ]dtype=None)\n",
    "start: 起始值,默认值为0,Optional((可选）。\n",
    "end: 结束值(不含)。\n",
    "step: 步长,默认值为1\n",
    "dtype: 默认为None, 从其他输入值中推测, Optional(可选)\n",
    "\"\"\"\n",
    "print(\"从0到5,不包括6,arange:\\n\", np.arange(5))\n",
    "\n",
    "a_0 = np.arange(3,12).reshape(3,3)\n",
    "print('3*3矩阵, 顺序填充:\\n', a_0)\n",
    "\n",
    "x = np.arange(24, dtype=np.int64).reshape(3, 8)\n",
    "print('从0开始填充, 3*5矩阵:\\n', x)\n",
    "\n",
    "x[1:, ::2] = -99\n",
    "print('x[1:, ::2]:\\n', x)\n",
    "\n",
    "xx = x.max(axis=1)\n",
    "print('x.max(axis=1):\\n', xx)"
   ]
  },
  {
   "cell_type": "code",
   "execution_count": 26,
   "metadata": {},
   "outputs": [
    {
     "name": "stdout",
     "output_type": "stream",
     "text": [
      "生成数组时指定数据类型\n",
      "float64\n",
      "使用astype复制数组并转换数据类型\n",
      "float16\n",
      "使用astype将float转换为int时小数部分舍掉\n",
      "[1 2 4 5 6 7]\n",
      "使用astype把字符串转换为数组, 如果失败抛出异常\n",
      "[1.2323  4.54545 6.34   ]\n",
      "astype使用其他数组的数据类型作为参数\n",
      "[0. 1. 2. 3. 4. 5. 6. 7. 8. 9.]\n",
      "0 1\n"
     ]
    }
   ],
   "source": [
    "\n",
    "print('生成数组时指定数据类型')\n",
    "arr = np.array([1,2,43,545],dtype=np.float64)\n",
    "print(arr.dtype)\n",
    " \n",
    "print('使用astype复制数组并转换数据类型')\n",
    "int_arr = np.array([1,23,454,56,54])\n",
    "float_arr = int_arr.astype(np.float16)\n",
    "print(float_arr.dtype)\n",
    " \n",
    "print('使用astype将float转换为int时小数部分舍掉')\n",
    "float_arr2 = np.array([1.34,2.54,4.23432,5.45454,6.54,7.5])\n",
    "int_arr2 = float_arr2.astype(np.int16)\n",
    "print(int_arr2)\n",
    " \n",
    "print('使用astype把字符串转换为数组, 如果失败抛出异常')\n",
    "str_arr = np.array([1.2323,4.54545,6.34],dtype = np.string_)\n",
    "float_arr3 = str_arr.astype(dtype = np.float32)\n",
    "print(float_arr3)\n",
    " \n",
    "print('astype使用其他数组的数据类型作为参数')\n",
    "int_arr3 = np.arange(10)\n",
    "float_arr4 = np.array([2.34,4.34],dtype=np.float64)\n",
    "print(int_arr3.astype(float_arr4.dtype))\n",
    "\n",
    "print(int_arr3[0],int_arr3[1])\n"
   ]
  },
  {
   "cell_type": "code",
   "execution_count": 112,
   "metadata": {},
   "outputs": [
    {
     "name": "stdout",
     "output_type": "stream",
     "text": [
      "['__call__', '__class__', '__delattr__', '__dir__', '__doc__', '__eq__', '__format__', '__ge__', '__getattribute__', '__gt__', '__hash__', '__init__', '__init_subclass__', '__le__', '__lt__', '__module__', '__name__', '__ne__', '__new__', '__qualname__', '__reduce__', '__reduce_ex__', '__repr__', '__self__', '__setattr__', '__sizeof__', '__str__', '__subclasshook__', '__text_signature__']\n",
      "max,max1\n",
      " 3 (3, 1)\n",
      "向量+:\n",
      " [2 4 6]\n",
      "向量-:\n",
      " [0 0 0]\n",
      "向量*:\n",
      " [1 4 9]\n",
      "向量/:\n",
      " [1. 1. 1.]\n",
      "xx:\n",
      " [[0]\n",
      " [1]\n",
      " [2]\n",
      " [3]]\n",
      "data3:\n",
      " [[0. 0. 0. 0.]\n",
      " [1. 1. 1. 1.]\n",
      " [2. 2. 2. 2.]\n",
      " [3. 3. 3. 3.]]\n",
      "data3 +5: [[5. 5. 5. 5.]\n",
      " [6. 6. 6. 6.]\n",
      " [7. 7. 7. 7.]\n",
      " [8. 8. 8. 8.]]\n",
      "data3 -5: [[-5. -5. -5. -5.]\n",
      " [-4. -4. -4. -4.]\n",
      " [-3. -3. -3. -3.]\n",
      " [-2. -2. -2. -2.]]\n",
      "data3 *5: [[ 0.  0.  0.  0.]\n",
      " [ 5.  5.  5.  5.]\n",
      " [10. 10. 10. 10.]\n",
      " [15. 15. 15. 15.]]\n",
      "data3 *5: [[0.  0.  0.  0. ]\n",
      " [0.2 0.2 0.2 0.2]\n",
      " [0.4 0.4 0.4 0.4]\n",
      " [0.6 0.6 0.6 0.6]]\n",
      "a[:,newaxis]:\n",
      " [[ 0.]\n",
      " [10.]\n",
      " [20.]\n",
      " [30.]]\n",
      "a[:,newaxis] + b:\n",
      " [[ 1.  2.  3.]\n",
      " [21. 22. 23.]\n",
      " [41. 42. 43.]\n",
      " [61. 62. 63.]]\n"
     ]
    }
   ],
   "source": [
    "#print(dir(np.array))\n",
    "data = np.array([1,2,3])\n",
    "max = np.max(data)\n",
    "agg = data.max(),data.min()\n",
    "print('max,max1\\n',max, agg)\n",
    "\n",
    "data1 = np.array([1,2,3])\n",
    "print(\"向量+:\\n\", data + data1)\n",
    "print(\"向量-:\\n\", data - data1)\n",
    "print(\"向量*:\\n\", data * data1)\n",
    "print(\"向量/:\\n\", data / data1)\n",
    "\n",
    "xx = np.arange(4).reshape(4, 1)\n",
    "print('xx:\\n', xx)\n",
    "data3 = np.dot(xx, np.ones((1, 4)))\n",
    "print('data3:\\n', data3)\n",
    "\n",
    "print('data3 +5:', data3 +5)\n",
    "print('data3 -5:', data3 -5)\n",
    "print('data3 *5:', data3 *5)\n",
    "print('data3 *5:', data3 /5)\n",
    "\n",
    "from numpy import array, newaxis\n",
    "a = array([0.0, 10.0, 20.0, 30.0])\n",
    "print('a[:,newaxis]:\\n', a[:,newaxis])\n",
    "b = array([1.0, 2.0, 3.0])\n",
    "c = a[:,newaxis] + b\n",
    "print('a[:,newaxis] + b:\\n', a[:,newaxis] + c)"
   ]
  },
  {
   "cell_type": "code",
   "execution_count": 176,
   "metadata": {},
   "outputs": [
    {
     "name": "stdout",
     "output_type": "stream",
     "text": [
      "a10:\n",
      " [[1 1 1]\n",
      " [2 2 2]]\n",
      "a10:\n",
      " [[1 1]\n",
      " [1 2]\n",
      " [2 2]]\n",
      "a10 变更为一维数组:\n",
      " [1 1 1 2 2 2]\n",
      "(2, 3)\n",
      "np.reshape(a12, newshape=(3, 2)):\n",
      " [[1 1]\n",
      " [1 2]\n",
      " [2 2]]\n",
      "a15.shape:\n",
      " (4, 6)\n",
      "a15-1: (1, 4, 6)\n",
      "a15-2: (1, 4, 6)\n",
      "a15-3: (1, 4, 6)\n",
      "a15-4: (4, 6, 1)\n",
      "a15-5: (4, 1, 6)\n",
      "a15-6: (4, 1, 6)\n"
     ]
    },
    {
     "data": {
      "text/plain": [
       "array([[1],\n",
       "       [2],\n",
       "       [3],\n",
       "       [4],\n",
       "       [5]])"
      ]
     },
     "execution_count": 176,
     "metadata": {},
     "output_type": "execute_result"
    }
   ],
   "source": [
    "a10 = np.array([[1,1,1],[2,2,2]])\n",
    "print('a10:\\n', a10)\n",
    "\n",
    "a10.shape = (3,2)\n",
    "print('a10:\\n', a10)\n",
    "\n",
    "a10.shape = (a10.size)\n",
    "print('a10 变更为一维数组:\\n', a10)\n",
    "\n",
    "a11 = np.array([[1,1,1],[2,2,2]])\n",
    "\n",
    "\"\"\"\n",
    "当order='C'时, 与省略order时相同, 是将源数组拉伸成一维数组 (0到5的6个自然数) 后再重组成(2,3)的数组。\n",
    "当order='A'时与order='C'时排列的完全相同。\n",
    "当order='F'时是Fortran-like index ordering\n",
    "\"\"\"\n",
    "a11.reshape((6,), order=\"A\")\n",
    "\n",
    "a12 = np.array([[1,1,1],[2,2,2]])\n",
    "print(a12.shape)\n",
    "a13 = np.reshape(a12, newshape=(3, 2))\n",
    "print(\"np.reshape(a12, newshape=(3, 2)):\\n\", a13)\n",
    "\n",
    "\n",
    "a14 = np.arange(24)\n",
    "a15 = np.reshape(a14, (4, 6))\n",
    "print(\"a15.shape:\\n\", a15.shape)\n",
    "#print(\"a15:\\n\", a15)\n",
    "\n",
    "print(\"a15-1:\", a15[np.newaxis, :     ].shape)\n",
    "print(\"a15-2:\", a15[np.newaxis,:, :].shape)\n",
    "print(\"a15-3:\", a15[np.newaxis     ].shape)\n",
    "\n",
    "print(\"a15-4:\", a15[:, :, np.newaxis].shape)\n",
    "\n",
    "print(\"a15-5:\", a15[:, np.newaxis].shape)\n",
    "print(\"a15-6:\", a15[:, np.newaxis, :].shape)\n",
    "\n",
    "#多维变一维\n",
    "a15.flatten()\n",
    "\n",
    "a16 = np.arange(1,6)\n",
    "a16.shape\n",
    "np.expand_dims(a16,axis=1)\n",
    "\n",
    "\n"
   ]
  },
  {
   "cell_type": "code",
   "execution_count": 130,
   "metadata": {},
   "outputs": [
    {
     "name": "stdout",
     "output_type": "stream",
     "text": [
      "samples:\n",
      " [-0.55549518  0.41374747 -1.11885182  0.2348352  -0.20158765 -0.47385004\n",
      "  0.24344763 -0.21357905 -0.57140653  0.19990399]\n"
     ]
    },
    {
     "data": {
      "text/plain": [
       "array([[1, 2, 3],\n",
       "       [0, 3, 5]])"
      ]
     },
     "execution_count": 130,
     "metadata": {},
     "output_type": "execute_result"
    }
   ],
   "source": [
    "# Generate normally distributed random numbers:\n",
    "rng = np.random.default_rng()\n",
    "samples = rng.normal(size=10)\n",
    "print(\"samples:\\n\", samples)\n",
    "\n",
    "x = np.array([[1,3, 2], [3, 5, 0]])\n",
    "np.sort(x)\n",
    "\n",
    "\n",
    "a = np.array([1, 2, 3, 4])\n",
    "b = np.array([5, 6, 7, 8])\n",
    "np.concatenate((a, b))\n",
    "\n",
    "x = np.array([[1, 2], [3, 4]])\n",
    "y = np.array([[5, 6]])\n",
    "np.concatenate((x, y), axis=0)"
   ]
  },
  {
   "cell_type": "code",
   "execution_count": null,
   "metadata": {},
   "outputs": [],
   "source": [
    "#https://numpy.org/doc/stable/user/absolute_beginners.html#indexing-and-slicing"
   ]
  }
 ],
 "metadata": {
  "kernelspec": {
   "display_name": "Python 3",
   "language": "python",
   "name": "python3"
  },
  "language_info": {
   "codemirror_mode": {
    "name": "ipython",
    "version": 3
   },
   "file_extension": ".py",
   "mimetype": "text/x-python",
   "name": "python",
   "nbconvert_exporter": "python",
   "pygments_lexer": "ipython3",
   "version": "3.10.6 (main, May 29 2023, 11:10:38) [GCC 11.3.0]"
  },
  "orig_nbformat": 4,
  "vscode": {
   "interpreter": {
    "hash": "e7370f93d1d0cde622a1f8e1c04877d8463912d04d973331ad4851f04de6915a"
   }
  }
 },
 "nbformat": 4,
 "nbformat_minor": 2
}
