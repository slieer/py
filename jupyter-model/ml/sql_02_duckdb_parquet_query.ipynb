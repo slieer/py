{
 "cells": [
  {
   "cell_type": "code",
   "execution_count": 2,
   "metadata": {},
   "outputs": [
    {
     "name": "stdout",
     "output_type": "stream",
     "text": [
      "Requirement already satisfied: pyarrow in d:\\users\\skyworth\\python\\python311\\lib\\site-packages (13.0.0)\n",
      "Requirement already satisfied: numpy>=1.16.6 in d:\\users\\skyworth\\python\\python311\\lib\\site-packages (from pyarrow) (1.24.2)\n",
      "Requirement already satisfied: fastparquet in d:\\users\\skyworth\\python\\python311\\lib\\site-packages (2023.10.1)\n",
      "Requirement already satisfied: pandas>=1.5.0 in d:\\users\\skyworth\\python\\python311\\lib\\site-packages (from fastparquet) (2.1.2)\n",
      "Requirement already satisfied: numpy>=1.20.3 in d:\\users\\skyworth\\python\\python311\\lib\\site-packages (from fastparquet) (1.24.2)\n",
      "Requirement already satisfied: cramjam>=2.3 in d:\\users\\skyworth\\python\\python311\\lib\\site-packages (from fastparquet) (2.7.0)\n",
      "Requirement already satisfied: fsspec in d:\\users\\skyworth\\python\\python311\\lib\\site-packages (from fastparquet) (2023.10.0)\n",
      "Requirement already satisfied: packaging in d:\\users\\skyworth\\python\\python311\\lib\\site-packages (from fastparquet) (23.0)\n",
      "Requirement already satisfied: python-dateutil>=2.8.2 in c:\\users\\skyworth\\appdata\\roaming\\python\\python311\\site-packages (from pandas>=1.5.0->fastparquet) (2.8.2)\n",
      "Requirement already satisfied: pytz>=2020.1 in d:\\users\\skyworth\\python\\python311\\lib\\site-packages (from pandas>=1.5.0->fastparquet) (2023.3.post1)\n",
      "Requirement already satisfied: tzdata>=2022.1 in d:\\users\\skyworth\\python\\python311\\lib\\site-packages (from pandas>=1.5.0->fastparquet) (2023.3)\n",
      "Requirement already satisfied: six>=1.5 in c:\\users\\skyworth\\appdata\\roaming\\python\\python311\\site-packages (from python-dateutil>=2.8.2->pandas>=1.5.0->fastparquet) (1.16.0)\n"
     ]
    }
   ],
   "source": [
    "# JupySQL Plotting with DuckDB\n",
    "# https://duckdb.org/2023/02/24/jupysql.html\n",
    "\n",
    "!pip install pyarrow\n",
    "!pip install fastparquet"
   ]
  },
  {
   "cell_type": "code",
   "execution_count": 3,
   "metadata": {},
   "outputs": [
    {
     "name": "stdout",
     "output_type": "stream",
     "text": [
      "parquet tets file:data/test_excel_output.xlsx exist.\n",
      "Data frame takes\n"
     ]
    },
    {
     "name": "stderr",
     "output_type": "stream",
     "text": [
      "<timed exec>:15: FutureWarning: The argument 'use_nullable_dtypes' is deprecated and will be removed in a future version.\n"
     ]
    },
    {
     "ename": "ArrowMemoryError",
     "evalue": "malloc of size 78845824 failed",
     "output_type": "error",
     "traceback": [
      "\u001b[1;31m---------------------------------------------------------------------------\u001b[0m",
      "\u001b[1;31mArrowMemoryError\u001b[0m                          Traceback (most recent call last)",
      "File \u001b[1;32m<timed exec>:15\u001b[0m\n",
      "File \u001b[1;32md:\\Users\\skyworth\\Python\\Python311\\Lib\\site-packages\\pandas\\io\\parquet.py:670\u001b[0m, in \u001b[0;36mread_parquet\u001b[1;34m(path, engine, columns, storage_options, use_nullable_dtypes, dtype_backend, filesystem, filters, **kwargs)\u001b[0m\n\u001b[0;32m    667\u001b[0m     use_nullable_dtypes \u001b[39m=\u001b[39m \u001b[39mFalse\u001b[39;00m\n\u001b[0;32m    668\u001b[0m check_dtype_backend(dtype_backend)\n\u001b[1;32m--> 670\u001b[0m \u001b[39mreturn\u001b[39;00m impl\u001b[39m.\u001b[39;49mread(\n\u001b[0;32m    671\u001b[0m     path,\n\u001b[0;32m    672\u001b[0m     columns\u001b[39m=\u001b[39;49mcolumns,\n\u001b[0;32m    673\u001b[0m     filters\u001b[39m=\u001b[39;49mfilters,\n\u001b[0;32m    674\u001b[0m     storage_options\u001b[39m=\u001b[39;49mstorage_options,\n\u001b[0;32m    675\u001b[0m     use_nullable_dtypes\u001b[39m=\u001b[39;49muse_nullable_dtypes,\n\u001b[0;32m    676\u001b[0m     dtype_backend\u001b[39m=\u001b[39;49mdtype_backend,\n\u001b[0;32m    677\u001b[0m     filesystem\u001b[39m=\u001b[39;49mfilesystem,\n\u001b[0;32m    678\u001b[0m     \u001b[39m*\u001b[39;49m\u001b[39m*\u001b[39;49mkwargs,\n\u001b[0;32m    679\u001b[0m )\n",
      "File \u001b[1;32md:\\Users\\skyworth\\Python\\Python311\\Lib\\site-packages\\pandas\\io\\parquet.py:279\u001b[0m, in \u001b[0;36mPyArrowImpl.read\u001b[1;34m(self, path, columns, filters, use_nullable_dtypes, dtype_backend, storage_options, filesystem, **kwargs)\u001b[0m\n\u001b[0;32m    271\u001b[0m \u001b[39mtry\u001b[39;00m:\n\u001b[0;32m    272\u001b[0m     pa_table \u001b[39m=\u001b[39m \u001b[39mself\u001b[39m\u001b[39m.\u001b[39mapi\u001b[39m.\u001b[39mparquet\u001b[39m.\u001b[39mread_table(\n\u001b[0;32m    273\u001b[0m         path_or_handle,\n\u001b[0;32m    274\u001b[0m         columns\u001b[39m=\u001b[39mcolumns,\n\u001b[1;32m   (...)\u001b[0m\n\u001b[0;32m    277\u001b[0m         \u001b[39m*\u001b[39m\u001b[39m*\u001b[39mkwargs,\n\u001b[0;32m    278\u001b[0m     )\n\u001b[1;32m--> 279\u001b[0m     result \u001b[39m=\u001b[39m pa_table\u001b[39m.\u001b[39;49mto_pandas(\u001b[39m*\u001b[39;49m\u001b[39m*\u001b[39;49mto_pandas_kwargs)\n\u001b[0;32m    281\u001b[0m     \u001b[39mif\u001b[39;00m manager \u001b[39m==\u001b[39m \u001b[39m\"\u001b[39m\u001b[39marray\u001b[39m\u001b[39m\"\u001b[39m:\n\u001b[0;32m    282\u001b[0m         result \u001b[39m=\u001b[39m result\u001b[39m.\u001b[39m_as_manager(\u001b[39m\"\u001b[39m\u001b[39marray\u001b[39m\u001b[39m\"\u001b[39m, copy\u001b[39m=\u001b[39m\u001b[39mFalse\u001b[39;00m)\n",
      "File \u001b[1;32md:\\Users\\skyworth\\Python\\Python311\\Lib\\site-packages\\pyarrow\\array.pxi:867\u001b[0m, in \u001b[0;36mpyarrow.lib._PandasConvertible.to_pandas\u001b[1;34m()\u001b[0m\n",
      "File \u001b[1;32md:\\Users\\skyworth\\Python\\Python311\\Lib\\site-packages\\pyarrow\\table.pxi:4085\u001b[0m, in \u001b[0;36mpyarrow.lib.Table._to_pandas\u001b[1;34m()\u001b[0m\n",
      "File \u001b[1;32md:\\Users\\skyworth\\Python\\Python311\\Lib\\site-packages\\pyarrow\\pandas_compat.py:772\u001b[0m, in \u001b[0;36mtable_to_blockmanager\u001b[1;34m(options, table, categories, ignore_metadata, types_mapper)\u001b[0m\n\u001b[0;32m    770\u001b[0m _check_data_column_metadata_consistency(all_columns)\n\u001b[0;32m    771\u001b[0m columns \u001b[39m=\u001b[39m _deserialize_column_index(table, all_columns, column_indexes)\n\u001b[1;32m--> 772\u001b[0m blocks \u001b[39m=\u001b[39m _table_to_blocks(options, table, categories, ext_columns_dtypes)\n\u001b[0;32m    774\u001b[0m axes \u001b[39m=\u001b[39m [columns, index]\n\u001b[0;32m    775\u001b[0m \u001b[39mreturn\u001b[39;00m BlockManager(blocks, axes)\n",
      "File \u001b[1;32md:\\Users\\skyworth\\Python\\Python311\\Lib\\site-packages\\pyarrow\\pandas_compat.py:1120\u001b[0m, in \u001b[0;36m_table_to_blocks\u001b[1;34m(options, block_table, categories, extension_columns)\u001b[0m\n\u001b[0;32m   1115\u001b[0m \u001b[39mdef\u001b[39;00m \u001b[39m_table_to_blocks\u001b[39m(options, block_table, categories, extension_columns):\n\u001b[0;32m   1116\u001b[0m     \u001b[39m# Part of table_to_blockmanager\u001b[39;00m\n\u001b[0;32m   1117\u001b[0m \n\u001b[0;32m   1118\u001b[0m     \u001b[39m# Convert an arrow table to Block from the internal pandas API\u001b[39;00m\n\u001b[0;32m   1119\u001b[0m     columns \u001b[39m=\u001b[39m block_table\u001b[39m.\u001b[39mcolumn_names\n\u001b[1;32m-> 1120\u001b[0m     result \u001b[39m=\u001b[39m pa\u001b[39m.\u001b[39;49mlib\u001b[39m.\u001b[39;49mtable_to_blocks(options, block_table, categories,\n\u001b[0;32m   1121\u001b[0m                                     \u001b[39mlist\u001b[39;49m(extension_columns\u001b[39m.\u001b[39;49mkeys()))\n\u001b[0;32m   1122\u001b[0m     \u001b[39mreturn\u001b[39;00m [_reconstruct_block(item, columns, extension_columns)\n\u001b[0;32m   1123\u001b[0m             \u001b[39mfor\u001b[39;00m item \u001b[39min\u001b[39;00m result]\n",
      "File \u001b[1;32md:\\Users\\skyworth\\Python\\Python311\\Lib\\site-packages\\pyarrow\\table.pxi:3008\u001b[0m, in \u001b[0;36mpyarrow.lib.table_to_blocks\u001b[1;34m()\u001b[0m\n",
      "File \u001b[1;32md:\\Users\\skyworth\\Python\\Python311\\Lib\\site-packages\\pyarrow\\error.pxi:117\u001b[0m, in \u001b[0;36mpyarrow.lib.check_status\u001b[1;34m()\u001b[0m\n",
      "\u001b[1;31mArrowMemoryError\u001b[0m: malloc of size 78845824 failed"
     ]
    }
   ],
   "source": [
    "%%time\n",
    "\n",
    "import os\n",
    "from urllib.request import urlretrieve\n",
    "import pandas as pd\n",
    "\n",
    "my_file = 'data/test_excel_output.xlsx'\n",
    "if os.path.exists(my_file):\n",
    "    print('parquet tets file:%s exist.' %my_file)\n",
    "else:\n",
    "    #执行下载任务，保存到data目录\n",
    "    _ = urlretrieve(\"https://d37ci6vzurychx.cloudfront.net/trip-data/yellow_tripdata_2022-01.parquet\",  \"data/yellow_tripdata_2022-01.parquet\")\n",
    "\n",
    "import pyarrow.parquet as pq\n",
    "\n",
    "print(f\"Data frame takes\")        \n",
    "df = pd.read_parquet(\"data/yellow_tripdata_2022-01.parquet\", engine='auto', columns=None, use_nullable_dtypes=False)\n",
    "df_mb = df.memory_usage().sum() / (1024 ** 2)\n",
    "print(f\"Data frame takes {df_mb:.0f} MB\") \n",
    "\n",
    "#所以将CSV类型转换成parquet可以变得更快，更小；   \n",
    "\n",
    "import matplotlib.pyplot as plt\n",
    "\n",
    "plt.boxplot(df.trip_distance)\n",
    "_ = plt.title(\"Trip distance\")\n",
    "\n"
   ]
  },
  {
   "cell_type": "code",
   "execution_count": 1,
   "metadata": {},
   "outputs": [
    {
     "data": {
      "text/html": [
       "<span style=\"None\">Connecting to &#x27;duckdb://&#x27;</span>"
      ],
      "text/plain": [
       "Connecting to 'duckdb://'"
      ]
     },
     "metadata": {},
     "output_type": "display_data"
    },
    {
     "data": {
      "text/html": [
       "<span style=\"None\">Running query in &#x27;duckdb://&#x27;</span>"
      ],
      "text/plain": [
       "Running query in 'duckdb://'"
      ]
     },
     "metadata": {},
     "output_type": "display_data"
    },
    {
     "data": {
      "text/html": [
       "<table>\n",
       "    <thead>\n",
       "        <tr>\n",
       "            <th>VendorID</th>\n",
       "            <th>tpep_pickup_datetime</th>\n",
       "            <th>tpep_dropoff_datetime</th>\n",
       "            <th>passenger_count</th>\n",
       "            <th>trip_distance</th>\n",
       "            <th>RatecodeID</th>\n",
       "            <th>store_and_fwd_flag</th>\n",
       "            <th>PULocationID</th>\n",
       "            <th>DOLocationID</th>\n",
       "            <th>payment_type</th>\n",
       "            <th>fare_amount</th>\n",
       "            <th>extra</th>\n",
       "            <th>mta_tax</th>\n",
       "            <th>tip_amount</th>\n",
       "            <th>tolls_amount</th>\n",
       "            <th>improvement_surcharge</th>\n",
       "            <th>total_amount</th>\n",
       "            <th>congestion_surcharge</th>\n",
       "            <th>airport_fee</th>\n",
       "        </tr>\n",
       "    </thead>\n",
       "    <tbody>\n",
       "        <tr>\n",
       "            <td>1</td>\n",
       "            <td>2022-01-01 00:35:40</td>\n",
       "            <td>2022-01-01 00:53:29</td>\n",
       "            <td>2.0</td>\n",
       "            <td>3.8</td>\n",
       "            <td>1.0</td>\n",
       "            <td>N</td>\n",
       "            <td>142</td>\n",
       "            <td>236</td>\n",
       "            <td>1</td>\n",
       "            <td>14.5</td>\n",
       "            <td>3.0</td>\n",
       "            <td>0.5</td>\n",
       "            <td>3.65</td>\n",
       "            <td>0.0</td>\n",
       "            <td>0.3</td>\n",
       "            <td>21.95</td>\n",
       "            <td>2.5</td>\n",
       "            <td>0.0</td>\n",
       "        </tr>\n",
       "        <tr>\n",
       "            <td>1</td>\n",
       "            <td>2022-01-01 00:33:43</td>\n",
       "            <td>2022-01-01 00:42:07</td>\n",
       "            <td>1.0</td>\n",
       "            <td>2.1</td>\n",
       "            <td>1.0</td>\n",
       "            <td>N</td>\n",
       "            <td>236</td>\n",
       "            <td>42</td>\n",
       "            <td>1</td>\n",
       "            <td>8.0</td>\n",
       "            <td>0.5</td>\n",
       "            <td>0.5</td>\n",
       "            <td>4.0</td>\n",
       "            <td>0.0</td>\n",
       "            <td>0.3</td>\n",
       "            <td>13.3</td>\n",
       "            <td>0.0</td>\n",
       "            <td>0.0</td>\n",
       "        </tr>\n",
       "        <tr>\n",
       "            <td>2</td>\n",
       "            <td>2022-01-01 00:53:21</td>\n",
       "            <td>2022-01-01 01:02:19</td>\n",
       "            <td>1.0</td>\n",
       "            <td>0.97</td>\n",
       "            <td>1.0</td>\n",
       "            <td>N</td>\n",
       "            <td>166</td>\n",
       "            <td>166</td>\n",
       "            <td>1</td>\n",
       "            <td>7.5</td>\n",
       "            <td>0.5</td>\n",
       "            <td>0.5</td>\n",
       "            <td>1.76</td>\n",
       "            <td>0.0</td>\n",
       "            <td>0.3</td>\n",
       "            <td>10.56</td>\n",
       "            <td>0.0</td>\n",
       "            <td>0.0</td>\n",
       "        </tr>\n",
       "    </tbody>\n",
       "</table>"
      ],
      "text/plain": [
       "+----------+----------------------+-----------------------+-----------------+---------------+------------+--------------------+--------------+--------------+--------------+-------------+-------+---------+------------+--------------+-----------------------+--------------+----------------------+-------------+\n",
       "| VendorID | tpep_pickup_datetime | tpep_dropoff_datetime | passenger_count | trip_distance | RatecodeID | store_and_fwd_flag | PULocationID | DOLocationID | payment_type | fare_amount | extra | mta_tax | tip_amount | tolls_amount | improvement_surcharge | total_amount | congestion_surcharge | airport_fee |\n",
       "+----------+----------------------+-----------------------+-----------------+---------------+------------+--------------------+--------------+--------------+--------------+-------------+-------+---------+------------+--------------+-----------------------+--------------+----------------------+-------------+\n",
       "|    1     | 2022-01-01 00:35:40  |  2022-01-01 00:53:29  |       2.0       |      3.8      |    1.0     |         N          |     142      |     236      |      1       |     14.5    |  3.0  |   0.5   |    3.65    |     0.0      |          0.3          |    21.95     |         2.5          |     0.0     |\n",
       "|    1     | 2022-01-01 00:33:43  |  2022-01-01 00:42:07  |       1.0       |      2.1      |    1.0     |         N          |     236      |      42      |      1       |     8.0     |  0.5  |   0.5   |    4.0     |     0.0      |          0.3          |     13.3     |         0.0          |     0.0     |\n",
       "|    2     | 2022-01-01 00:53:21  |  2022-01-01 01:02:19  |       1.0       |      0.97     |    1.0     |         N          |     166      |     166      |      1       |     7.5     |  0.5  |   0.5   |    1.76    |     0.0      |          0.3          |    10.56     |         0.0          |     0.0     |\n",
       "+----------+----------------------+-----------------------+-----------------+---------------+------------+--------------------+--------------+--------------+--------------+-------------+-------+---------+------------+--------------+-----------------------+--------------+----------------------+-------------+"
      ]
     },
     "execution_count": 1,
     "metadata": {},
     "output_type": "execute_result"
    }
   ],
   "source": [
    "%load_ext sql\n",
    "%sql duckdb://\n",
    "\n",
    "%sql select * from 'data/yellow_tripdata_2022-01.parquet' LIMIT 3"
   ]
  },
  {
   "cell_type": "code",
   "execution_count": 18,
   "metadata": {},
   "outputs": [],
   "source": [
    "%reload_ext sql\n",
    "%sql duckdb://"
   ]
  },
  {
   "cell_type": "code",
   "execution_count": 23,
   "metadata": {},
   "outputs": [
    {
     "data": {
      "text/html": [
       "<span style=\"None\">Running query in &#x27;duckdb://&#x27;</span>"
      ],
      "text/plain": [
       "Running query in 'duckdb://'"
      ]
     },
     "metadata": {},
     "output_type": "display_data"
    },
    {
     "data": {
      "text/html": [
       "<table>\n",
       "    <thead>\n",
       "        <tr>\n",
       "            <th>数据量</th>\n",
       "        </tr>\n",
       "    </thead>\n",
       "    <tbody>\n",
       "        <tr>\n",
       "            <td>2463931</td>\n",
       "        </tr>\n",
       "    </tbody>\n",
       "</table>"
      ],
      "text/plain": [
       "+---------+\n",
       "|  数据量 |\n",
       "+---------+\n",
       "| 2463931 |\n",
       "+---------+"
      ]
     },
     "execution_count": 23,
     "metadata": {},
     "output_type": "execute_result"
    }
   ],
   "source": [
    "%%sql\n",
    "SELECT count(1) as 数据量 \n",
    "FROM \"data/yellow_tripdata_2022-01.parquet\""
   ]
  },
  {
   "cell_type": "code",
   "execution_count": 24,
   "metadata": {},
   "outputs": [
    {
     "data": {
      "text/html": [
       "<span style=\"None\">Running query in &#x27;duckdb://&#x27;</span>"
      ],
      "text/plain": [
       "Running query in 'duckdb://'"
      ]
     },
     "metadata": {},
     "output_type": "display_data"
    },
    {
     "data": {
      "text/html": [
       "<table>\n",
       "    <thead>\n",
       "        <tr>\n",
       "            <th>q1</th>\n",
       "            <th>median</th>\n",
       "            <th>q3</th>\n",
       "        </tr>\n",
       "    </thead>\n",
       "    <tbody>\n",
       "    </tbody>\n",
       "</table>"
      ],
      "text/plain": [
       "+----+--------+----+\n",
       "| q1 | median | q3 |\n",
       "+----+--------+----+\n",
       "+----+--------+----+"
      ]
     },
     "execution_count": 24,
     "metadata": {},
     "output_type": "execute_result"
    }
   ],
   "source": [
    "%%sql\n",
    "-- We calculate the percentiles all at once and \n",
    "-- then convert from list format into separate columns\n",
    "-- (Improving performance by reducing duplicate work)\n",
    "WITH stats AS (\n",
    "  SELECT\n",
    "    percentile_disc([0.25, 0.50, 0.75]) WITHIN GROUP \n",
    "      (ORDER BY \"trip_distance\") AS percentiles\n",
    "  FROM \"data/yellow_tripdata_2022-01.parquet\"\n",
    ")\n",
    "SELECT\n",
    "  percentiles[1] AS q1,\n",
    "  percentiles[2] AS median,\n",
    "  percentiles[3] AS q3\n",
    "FROM stats;\n"
   ]
  },
  {
   "cell_type": "code",
   "execution_count": 26,
   "metadata": {},
   "outputs": [
    {
     "data": {
      "text/plain": [
       "<Axes: title={'center': \"'trip_distance' from 'data/yellow_tripdata_2022-01.parquet'\"}, ylabel='trip_distance'>"
      ]
     },
     "execution_count": 26,
     "metadata": {},
     "output_type": "execute_result"
    },
    {
     "data": {
      "image/png": "[encoded data removed]",
      "text/plain": [
       "<Figure size 640x480 with 1 Axes>"
      ]
     },
     "metadata": {},
     "output_type": "display_data"
    }
   ],
   "source": [
    "%sqlplot boxplot --table data/yellow_tripdata_2022-01.parquet --column trip_distance"
   ]
  },
  {
   "cell_type": "code",
   "execution_count": 27,
   "metadata": {},
   "outputs": [
    {
     "data": {
      "text/html": [
       "<span style=\"None\">Running query in &#x27;duckdb://&#x27;</span>"
      ],
      "text/plain": [
       "Running query in 'duckdb://'"
      ]
     },
     "metadata": {},
     "output_type": "display_data"
    },
    {
     "data": {
      "text/html": [
       "<table>\n",
       "    <thead>\n",
       "        <tr>\n",
       "            <th>quantile_disc(0.99 ORDER BY trip_distance)</th>\n",
       "        </tr>\n",
       "    </thead>\n",
       "    <tbody>\n",
       "        <tr>\n",
       "            <td>19.7</td>\n",
       "        </tr>\n",
       "    </tbody>\n",
       "</table>"
      ],
      "text/plain": [
       "+--------------------------------------------+\n",
       "| quantile_disc(0.99 ORDER BY trip_distance) |\n",
       "+--------------------------------------------+\n",
       "|                    19.7                    |\n",
       "+--------------------------------------------+"
      ]
     },
     "execution_count": 27,
     "metadata": {},
     "output_type": "execute_result"
    }
   ],
   "source": [
    "%%sql\n",
    "SELECT percentile_disc(0.99) WITHIN GROUP (ORDER BY trip_distance)\n",
    "FROM 'data/yellow_tripdata_2022-01.parquet'"
   ]
  },
  {
   "cell_type": "code",
   "execution_count": 34,
   "metadata": {},
   "outputs": [
    {
     "data": {
      "text/html": [
       "<span style=\"None\">Running query in &#x27;duckdb://&#x27;</span>"
      ],
      "text/plain": [
       "Running query in 'duckdb://'"
      ]
     },
     "metadata": {},
     "output_type": "display_data"
    },
    {
     "data": {
      "text/html": [
       "<span style=\"None\">Skipping execution...</span>"
      ],
      "text/plain": [
       "Skipping execution..."
      ]
     },
     "metadata": {},
     "output_type": "display_data"
    }
   ],
   "source": [
    "%%sql --save no_outliers --no-execute\n",
    "SELECT *\n",
    "FROM 'data/yellow_tripdata_2022-01.parquet'\n",
    "WHERE trip_distance < 19.7"
   ]
  },
  {
   "cell_type": "code",
   "execution_count": 35,
   "metadata": {},
   "outputs": [
    {
     "data": {
      "text/plain": [
       "<Axes: title={'center': \"'trip_distance' from 'no_outliers'\"}, ylabel='trip_distance'>"
      ]
     },
     "execution_count": 35,
     "metadata": {},
     "output_type": "execute_result"
    },
    {
     "data": {
      "image/png": "[encoded data removed]",
      "text/plain": [
       "<Figure size 640x480 with 1 Axes>"
      ]
     },
     "metadata": {},
     "output_type": "display_data"
    }
   ],
   "source": [
    "%sqlplot boxplot --table no_outliers --column trip_distance --with no_outliers"
   ]
  },
  {
   "cell_type": "code",
   "execution_count": 40,
   "metadata": {},
   "outputs": [
    {
     "data": {
      "text/plain": [
       "<Axes: title={'center': \"'trip_distance' from 'no_outliers'\"}, xlabel='trip_distance', ylabel='Count'>"
      ]
     },
     "execution_count": 40,
     "metadata": {},
     "output_type": "execute_result"
    },
    {
     "data": {
      "image/png": "[encoded data removed]",
      "text/plain": [
       "<Figure size 640x480 with 1 Axes>"
      ]
     },
     "metadata": {},
     "output_type": "display_data"
    }
   ],
   "source": [
    "%sqlplot histogram --table no_outliers --column trip_distance --with no_outliers\n"
   ]
  }
 ],
 "metadata": {
  "kernelspec": {
   "display_name": "Python 3",
   "language": "python",
   "name": "python3"
  },
  "language_info": {
   "codemirror_mode": {
    "name": "ipython",
    "version": 3
   },
   "file_extension": ".py",
   "mimetype": "text/x-python",
   "name": "python",
   "nbconvert_exporter": "python",
   "pygments_lexer": "ipython3",
   "version": "3.11.2"
  },
  "orig_nbformat": 4
 },
 "nbformat": 4,
 "nbformat_minor": 2
}
