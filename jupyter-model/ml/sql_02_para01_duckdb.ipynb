{
 "cells": [
  {
   "cell_type": "code",
   "execution_count": 1,
   "metadata": {},
   "outputs": [
    {
     "name": "stdout",
     "output_type": "stream",
     "text": [
      "CPU times: total: 31.2 ms\n",
      "Wall time: 6.18 s\n"
     ]
    }
   ],
   "source": [
    "%%time\n",
    "!pip install --upgrade pip --quiet\n",
    "!pip install pandas jupysql duckdb-engine matplotlib --quiet"
   ]
  },
  {
   "cell_type": "code",
   "execution_count": 19,
   "metadata": {},
   "outputs": [
    {
     "name": "stdout",
     "output_type": "stream",
     "text": [
      "The sql extension is already loaded. To reload it, use:\n",
      "  %reload_ext sql\n"
     ]
    },
    {
     "data": {
      "text/html": [
       "<span style=\"None\">Running query in &#x27;duckdb://&#x27;</span>"
      ],
      "text/plain": [
       "Running query in 'duckdb://'"
      ]
     },
     "metadata": {},
     "output_type": "display_data"
    },
    {
     "data": {
      "text/html": [
       "<span style=\"None\">Running query in &#x27;duckdb://&#x27;</span>"
      ],
      "text/plain": [
       "Running query in 'duckdb://'"
      ]
     },
     "metadata": {},
     "output_type": "display_data"
    },
    {
     "data": {
      "text/html": [
       "<table>\n",
       "    <thead>\n",
       "        <tr>\n",
       "            <th>replace(b, b[1], '*')</th>\n",
       "            <th>count(1)</th>\n",
       "        </tr>\n",
       "    </thead>\n",
       "    <tbody>\n",
       "        <tr>\n",
       "            <td>*巍</td>\n",
       "            <td>16</td>\n",
       "        </tr>\n",
       "        <tr>\n",
       "            <td>*晓军</td>\n",
       "            <td>16</td>\n",
       "        </tr>\n",
       "        <tr>\n",
       "            <td>*正喜</td>\n",
       "            <td>16</td>\n",
       "        </tr>\n",
       "        <tr>\n",
       "            <td>*胜</td>\n",
       "            <td>16</td>\n",
       "        </tr>\n",
       "        <tr>\n",
       "            <td>*娟</td>\n",
       "            <td>16</td>\n",
       "        </tr>\n",
       "        <tr>\n",
       "            <td>*泓宇</td>\n",
       "            <td>16</td>\n",
       "        </tr>\n",
       "        <tr>\n",
       "            <td>*轶璇</td>\n",
       "            <td>15</td>\n",
       "        </tr>\n",
       "        <tr>\n",
       "            <td>*径</td>\n",
       "            <td>14</td>\n",
       "        </tr>\n",
       "        <tr>\n",
       "            <td>*勇</td>\n",
       "            <td>13</td>\n",
       "        </tr>\n",
       "        <tr>\n",
       "            <td>*新宇</td>\n",
       "            <td>13</td>\n",
       "        </tr>\n",
       "    </tbody>\n",
       "</table>\n",
       "<span style=\"font-style:italic;text-align:center;\">Truncated to <a href=\"https://jupysql.ploomber.io/en/latest/api/configuration.html#displaylimit\">displaylimit</a> of 10.</span>"
      ],
      "text/plain": [
       "+-----------------------+----------+\n",
       "| replace(b, b[1], '*') | count(1) |\n",
       "+-----------------------+----------+\n",
       "|          *巍          |    16    |\n",
       "|         *晓军         |    16    |\n",
       "|         *正喜         |    16    |\n",
       "|          *胜          |    16    |\n",
       "|          *娟          |    16    |\n",
       "|         *泓宇         |    16    |\n",
       "|         *轶璇         |    15    |\n",
       "|          *径          |    14    |\n",
       "|          *勇          |    13    |\n",
       "|         *新宇         |    13    |\n",
       "+-----------------------+----------+\n",
       "Truncated to displaylimit of 10."
      ]
     },
     "execution_count": 19,
     "metadata": {},
     "output_type": "execute_result"
    }
   ],
   "source": [
    "%load_ext sql\n",
    "%sql duckdb://\n",
    "\n",
    "#%config SqlMagic.displaylimit = None\n",
    "\n",
    "from pathlib import Path\n",
    "from urllib.request import urlretrieve\n",
    "\n",
    "#curr = Path()\n",
    "#print(curr.as_uri, curr.absolute())\n",
    "#f = Path(\"data/penguins.csv\")\n",
    "#print('isFile:',f.is_file(), f.absolute())\n",
    "\n",
    "%sql SELECT * FROM 'data/emp_work_time.csv' LIMIT 3\n",
    "\n",
    "%sql SELECT replace(b, b[1], '*'),count(1) FROM 'data/emp_work_time.csv' group by b order by count(1) desc;\n",
    "\n"
   ]
  },
  {
   "cell_type": "code",
   "execution_count": null,
   "metadata": {},
   "outputs": [
    {
     "data": {
      "text/html": [
       "<span style=\"None\">Running query in &#x27;duckdb://&#x27;</span>"
      ],
      "text/plain": [
       "Running query in 'duckdb://'"
      ]
     },
     "metadata": {},
     "output_type": "display_data"
    },
    {
     "data": {
      "text/html": [
       "<span style=\"None\">Running query in &#x27;duckdb://&#x27;</span>"
      ],
      "text/plain": [
       "Running query in 'duckdb://'"
      ]
     },
     "metadata": {},
     "output_type": "display_data"
    },
    {
     "name": "stdout",
     "output_type": "stream",
     "text": [
      "no such file:data/test_excel_output.xlsx\n"
     ]
    },
    {
     "data": {
      "text/html": [
       "<span style=\"None\">Running query in &#x27;duckdb://&#x27;</span>"
      ],
      "text/plain": [
       "Running query in 'duckdb://'"
      ]
     },
     "metadata": {},
     "output_type": "display_data"
    },
    {
     "data": {
      "text/html": [
       "<table>\n",
       "    <thead>\n",
       "        <tr>\n",
       "            <th>Count</th>\n",
       "        </tr>\n",
       "    </thead>\n",
       "    <tbody>\n",
       "    </tbody>\n",
       "</table>"
      ],
      "text/plain": [
       "+-------+\n",
       "| Count |\n",
       "+-------+\n",
       "+-------+"
      ]
     },
     "execution_count": 9,
     "metadata": {},
     "output_type": "execute_result"
    }
   ],
   "source": [
    "%reload_ext sql\n",
    "%sql duckdb://\n",
    "\n",
    "%sql INSTALL spatial;\n",
    "%sql LOAD spatial;\n",
    "\n",
    "import os\n",
    "my_file = 'data/test_excel_output.xlsx'\n",
    "if os.path.exists(my_file):\n",
    "    os.remove(my_file)\n",
    " #os.unlink(my_file)\n",
    "else:\n",
    "    print('no such file:%s' %my_file)\n",
    "\n",
    "#导入excel测试\n",
    "%sql COPY (SELECT 'zhai' as name, 'man' as sex, '1' as age) TO '{{my_file}}' WITH (FORMAT GDAL, DRIVER 'xlsx');"
   ]
  },
  {
   "cell_type": "code",
   "execution_count": 20,
   "metadata": {},
   "outputs": [
    {
     "data": {
      "text/html": [
       "<span style=\"None\">Running query in &#x27;duckdb://&#x27;</span>"
      ],
      "text/plain": [
       "Running query in 'duckdb://'"
      ]
     },
     "metadata": {},
     "output_type": "display_data"
    },
    {
     "data": {
      "text/html": [
       "<table>\n",
       "    <thead>\n",
       "        <tr>\n",
       "            <th>a</th>\n",
       "            <th>b</th>\n",
       "            <th>start_</th>\n",
       "            <th>StartTime</th>\n",
       "            <th>EndTime</th>\n",
       "        </tr>\n",
       "    </thead>\n",
       "    <tbody>\n",
       "        <tr>\n",
       "            <td>SDT14789</td>\n",
       "            <td>肖正喜</td>\n",
       "            <td>07:24:28</td>\n",
       "            <td>2023-10-08 07:24:28</td>\n",
       "            <td>2023-10-08 19:07:06</td>\n",
       "        </tr>\n",
       "        <tr>\n",
       "            <td>SDT14316</td>\n",
       "            <td>郑胜</td>\n",
       "            <td>07:26:57</td>\n",
       "            <td>2023-10-09 07:26:57</td>\n",
       "            <td>2023-10-09 20:07:00</td>\n",
       "        </tr>\n",
       "        <tr>\n",
       "            <td>SDT14789</td>\n",
       "            <td>肖正喜</td>\n",
       "            <td>07:37:12</td>\n",
       "            <td>2023-10-26 07:37:12</td>\n",
       "            <td>2023-10-26 19:15:31</td>\n",
       "        </tr>\n",
       "        <tr>\n",
       "            <td>SDT14789</td>\n",
       "            <td>肖正喜</td>\n",
       "            <td>07:42:54</td>\n",
       "            <td>2023-10-25 07:42:54</td>\n",
       "            <td>2023-10-25 19:57:30</td>\n",
       "        </tr>\n",
       "        <tr>\n",
       "            <td>SDT50158</td>\n",
       "            <td>汪王铭派</td>\n",
       "            <td>07:42:56</td>\n",
       "            <td>2023-10-25 07:42:56</td>\n",
       "            <td>2023-10-25 18:54:49</td>\n",
       "        </tr>\n",
       "        <tr>\n",
       "            <td>SDT13898</td>\n",
       "            <td>吴娟</td>\n",
       "            <td>07:43:50</td>\n",
       "            <td>2023-10-20 07:43:50</td>\n",
       "            <td>2023-10-20 18:30:00</td>\n",
       "        </tr>\n",
       "        <tr>\n",
       "            <td>SDT14789</td>\n",
       "            <td>肖正喜</td>\n",
       "            <td>07:44:46</td>\n",
       "            <td>2023-10-24 07:44:46</td>\n",
       "            <td>2023-10-24 18:57:37</td>\n",
       "        </tr>\n",
       "        <tr>\n",
       "            <td>SDT13898</td>\n",
       "            <td>吴娟</td>\n",
       "            <td>07:46:02</td>\n",
       "            <td>2023-10-13 07:46:02</td>\n",
       "            <td>2023-10-13 12:21:49</td>\n",
       "        </tr>\n",
       "        <tr>\n",
       "            <td>SDT16243</td>\n",
       "            <td>曲径</td>\n",
       "            <td>07:46:19</td>\n",
       "            <td>2023-10-20 07:46:19</td>\n",
       "            <td>2023-10-20 18:30:00</td>\n",
       "        </tr>\n",
       "        <tr>\n",
       "            <td>SDT16243</td>\n",
       "            <td>曲径</td>\n",
       "            <td>07:47:55</td>\n",
       "            <td>2023-10-24 07:47:55</td>\n",
       "            <td>2023-10-24 19:35:13</td>\n",
       "        </tr>\n",
       "    </tbody>\n",
       "</table>\n",
       "<span style=\"font-style:italic;text-align:center;\">Truncated to <a href=\"https://jupysql.ploomber.io/en/latest/api/configuration.html#displaylimit\">displaylimit</a> of 10.</span>"
      ],
      "text/plain": [
       "+----------+----------+----------+---------------------+---------------------+\n",
       "|    a     |    b     |  start_  |      StartTime      |       EndTime       |\n",
       "+----------+----------+----------+---------------------+---------------------+\n",
       "| SDT14789 |  肖正喜  | 07:24:28 | 2023-10-08 07:24:28 | 2023-10-08 19:07:06 |\n",
       "| SDT14316 |   郑胜   | 07:26:57 | 2023-10-09 07:26:57 | 2023-10-09 20:07:00 |\n",
       "| SDT14789 |  肖正喜  | 07:37:12 | 2023-10-26 07:37:12 | 2023-10-26 19:15:31 |\n",
       "| SDT14789 |  肖正喜  | 07:42:54 | 2023-10-25 07:42:54 | 2023-10-25 19:57:30 |\n",
       "| SDT50158 | 汪王铭派 | 07:42:56 | 2023-10-25 07:42:56 | 2023-10-25 18:54:49 |\n",
       "| SDT13898 |   吴娟   | 07:43:50 | 2023-10-20 07:43:50 | 2023-10-20 18:30:00 |\n",
       "| SDT14789 |  肖正喜  | 07:44:46 | 2023-10-24 07:44:46 | 2023-10-24 18:57:37 |\n",
       "| SDT13898 |   吴娟   | 07:46:02 | 2023-10-13 07:46:02 | 2023-10-13 12:21:49 |\n",
       "| SDT16243 |   曲径   | 07:46:19 | 2023-10-20 07:46:19 | 2023-10-20 18:30:00 |\n",
       "| SDT16243 |   曲径   | 07:47:55 | 2023-10-24 07:47:55 | 2023-10-24 19:35:13 |\n",
       "+----------+----------+----------+---------------------+---------------------+\n",
       "Truncated to displaylimit of 10."
      ]
     },
     "execution_count": 20,
     "metadata": {},
     "output_type": "execute_result"
    }
   ],
   "source": [
    "%sql select * from 'data/emp_work_time.csv' order by start_ limit 10"
   ]
  },
  {
   "cell_type": "code",
   "execution_count": 23,
   "metadata": {},
   "outputs": [
    {
     "data": {
      "text/html": [
       "<span style=\"None\">Running query in &#x27;duckdb://&#x27;</span>"
      ],
      "text/plain": [
       "Running query in 'duckdb://'"
      ]
     },
     "metadata": {},
     "output_type": "display_data"
    }
   ],
   "source": [
    "%%sql result << SELECT a, b, start_, \n",
    "StartTime\n",
    "FROM 'data/emp_work_time.csv'\n",
    "\n",
    "\n"
   ]
  },
  {
   "cell_type": "code",
   "execution_count": 24,
   "metadata": {},
   "outputs": [
    {
     "name": "stdout",
     "output_type": "stream",
     "text": [
      "head:\n"
     ]
    },
    {
     "data": {
      "text/html": [
       "<div>\n",
       "<style scoped>\n",
       "    .dataframe tbody tr th:only-of-type {\n",
       "        vertical-align: middle;\n",
       "    }\n",
       "\n",
       "    .dataframe tbody tr th {\n",
       "        vertical-align: top;\n",
       "    }\n",
       "\n",
       "    .dataframe thead th {\n",
       "        text-align: right;\n",
       "    }\n",
       "</style>\n",
       "<table border=\"1\" class=\"dataframe\">\n",
       "  <thead>\n",
       "    <tr style=\"text-align: right;\">\n",
       "      <th></th>\n",
       "      <th>a</th>\n",
       "      <th>b</th>\n",
       "      <th>start_</th>\n",
       "      <th>StartTime</th>\n",
       "    </tr>\n",
       "  </thead>\n",
       "  <tbody>\n",
       "    <tr>\n",
       "      <th>0</th>\n",
       "      <td>SDT14789</td>\n",
       "      <td>肖正喜</td>\n",
       "      <td>07:24:28</td>\n",
       "      <td>2023-10-08 07:24:28</td>\n",
       "    </tr>\n",
       "    <tr>\n",
       "      <th>1</th>\n",
       "      <td>SDT14316</td>\n",
       "      <td>郑胜</td>\n",
       "      <td>07:26:57</td>\n",
       "      <td>2023-10-09 07:26:57</td>\n",
       "    </tr>\n",
       "    <tr>\n",
       "      <th>2</th>\n",
       "      <td>SDT14789</td>\n",
       "      <td>肖正喜</td>\n",
       "      <td>07:37:12</td>\n",
       "      <td>2023-10-26 07:37:12</td>\n",
       "    </tr>\n",
       "    <tr>\n",
       "      <th>3</th>\n",
       "      <td>SDT14789</td>\n",
       "      <td>肖正喜</td>\n",
       "      <td>07:42:54</td>\n",
       "      <td>2023-10-25 07:42:54</td>\n",
       "    </tr>\n",
       "    <tr>\n",
       "      <th>4</th>\n",
       "      <td>SDT50158</td>\n",
       "      <td>汪王铭派</td>\n",
       "      <td>07:42:56</td>\n",
       "      <td>2023-10-25 07:42:56</td>\n",
       "    </tr>\n",
       "  </tbody>\n",
       "</table>\n",
       "</div>"
      ],
      "text/plain": [
       "          a     b    start_           StartTime\n",
       "0  SDT14789   肖正喜  07:24:28 2023-10-08 07:24:28\n",
       "1  SDT14316    郑胜  07:26:57 2023-10-09 07:26:57\n",
       "2  SDT14789   肖正喜  07:37:12 2023-10-26 07:37:12\n",
       "3  SDT14789   肖正喜  07:42:54 2023-10-25 07:42:54\n",
       "4  SDT50158  汪王铭派  07:42:56 2023-10-25 07:42:56"
      ]
     },
     "execution_count": 24,
     "metadata": {},
     "output_type": "execute_result"
    }
   ],
   "source": [
    "df = result.DataFrame()\n",
    "print('head:')\n",
    "df.head()\n"
   ]
  },
  {
   "cell_type": "code",
   "execution_count": 26,
   "metadata": {},
   "outputs": [
    {
     "data": {
      "text/html": [
       "<span style=\"None\">Running query in &#x27;duckdb://&#x27;</span>"
      ],
      "text/plain": [
       "Running query in 'duckdb://'"
      ]
     },
     "metadata": {},
     "output_type": "display_data"
    },
    {
     "name": "stderr",
     "output_type": "stream",
     "text": [
      "RuntimeError: If using snippets, you may pass the --with argument explicitly.\n",
      "For more details please refer: https://jupysql.ploomber.io/en/latest/compose.html#with-argument\n",
      "\n",
      "\n",
      "Original error message from DB driver:\n",
      "(duckdb.duckdb.ParserException) Parser Error: syntax error at or near \"StartTime\"\n",
      "LINE 1: SELECT strftime(TIMESTAMP StartTime, '%A, %-d %B %Y - %I:%M:%S %p...\n",
      "                                  ^\n",
      "[SQL: SELECT strftime(TIMESTAMP StartTime, '%A, %-d %B %Y - %I:%M:%S %p' ) from 'data/emp_work_time.csv']\n",
      "(Background on this error at: https://sqlalche.me/e/20/f405)\n",
      "\n",
      "If you need help solving this issue, send us a message: https://ploomber.io/community\n"
     ]
    }
   ],
   "source": [
    "%sql SELECT strftime(TIMESTAMP StartTime, '%A, %-d %B %Y - %I:%M:%S %p') from 'data/emp_work_time.csv'"
   ]
  }
 ],
 "metadata": {
  "kernelspec": {
   "display_name": "Python 3",
   "language": "python",
   "name": "python3"
  },
  "language_info": {
   "codemirror_mode": {
    "name": "ipython",
    "version": 3
   },
   "file_extension": ".py",
   "mimetype": "text/x-python",
   "name": "python",
   "nbconvert_exporter": "python",
   "pygments_lexer": "ipython3",
   "version": "3.11.6"
  },
  "orig_nbformat": 4,
  "vscode": {
   "interpreter": {
    "hash": "e7370f93d1d0cde622a1f8e1c04877d8463912d04d973331ad4851f04de6915a"
   }
  }
 },
 "nbformat": 4,
 "nbformat_minor": 2
}
