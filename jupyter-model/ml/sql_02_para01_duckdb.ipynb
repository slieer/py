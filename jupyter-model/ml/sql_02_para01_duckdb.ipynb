{
 "cells": [
  {
   "cell_type": "code",
   "execution_count": 10,
   "metadata": {},
   "outputs": [
    {
     "name": "stdout",
     "output_type": "stream",
     "text": [
      "CPU times: total: 15.6 ms\n",
      "Wall time: 9.81 s\n"
     ]
    }
   ],
   "source": [
    "%%time\n",
    "!pip install --upgrade pip --quiet\n",
    "!pip install pandas jupysql duckdb-engine matplotlib --quiet"
   ]
  },
  {
   "cell_type": "code",
   "execution_count": 11,
   "metadata": {},
   "outputs": [
    {
     "name": "stdout",
     "output_type": "stream",
     "text": [
      "The sql extension is already loaded. To reload it, use:\n",
      "  %reload_ext sql\n"
     ]
    },
    {
     "data": {
      "text/html": [
       "<span style=\"None\">Running query in &#x27;duckdb://&#x27;</span>"
      ],
      "text/plain": [
       "Running query in 'duckdb://'"
      ]
     },
     "metadata": {},
     "output_type": "display_data"
    },
    {
     "data": {
      "text/html": [
       "<table>\n",
       "    <thead>\n",
       "        <tr>\n",
       "            <th>island</th>\n",
       "            <th>sex</th>\n",
       "        </tr>\n",
       "    </thead>\n",
       "    <tbody>\n",
       "        <tr>\n",
       "            <td>Torgersen</td>\n",
       "            <td>MALE</td>\n",
       "        </tr>\n",
       "        <tr>\n",
       "            <td>Torgersen</td>\n",
       "            <td>FEMALE</td>\n",
       "        </tr>\n",
       "        <tr>\n",
       "            <td>Torgersen</td>\n",
       "            <td>FEMALE</td>\n",
       "        </tr>\n",
       "        <tr>\n",
       "            <td>Torgersen</td>\n",
       "            <td>None</td>\n",
       "        </tr>\n",
       "        <tr>\n",
       "            <td>Torgersen</td>\n",
       "            <td>FEMALE</td>\n",
       "        </tr>\n",
       "    </tbody>\n",
       "</table>"
      ],
      "text/plain": [
       "+-----------+--------+\n",
       "|   island  |  sex   |\n",
       "+-----------+--------+\n",
       "| Torgersen |  MALE  |\n",
       "| Torgersen | FEMALE |\n",
       "| Torgersen | FEMALE |\n",
       "| Torgersen |  None  |\n",
       "| Torgersen | FEMALE |\n",
       "+-----------+--------+"
      ]
     },
     "execution_count": 11,
     "metadata": {},
     "output_type": "execute_result"
    }
   ],
   "source": [
    "%load_ext sql\n",
    "%sql duckdb://\n",
    "\n",
    "dynamic_limit = 5\n",
    "dynamic_column = \"island, sex\"\n",
    "%sql SELECT {{dynamic_column}} FROM 'data/penguins.csv' LIMIT {{dynamic_limit}}"
   ]
  },
  {
   "cell_type": "code",
   "execution_count": 5,
   "metadata": {},
   "outputs": [
    {
     "name": "stdout",
     "output_type": "stream",
     "text": [
      "The sql extension is already loaded. To reload it, use:\n",
      "  %reload_ext sql\n"
     ]
    }
   ],
   "source": [
    "%load_ext sql\n",
    "%sql duckdb://\n",
    "\n",
    "sex = (\"MALE\", \"FEMALE\")\n",
    "islands = [\"Torgersen\", \"Biscoe\", \"Dream\"]"
   ]
  },
  {
   "cell_type": "code",
   "execution_count": 6,
   "metadata": {},
   "outputs": [
    {
     "data": {
      "text/html": [
       "<span style=\"None\">Running query in &#x27;duckdb://&#x27;</span>"
      ],
      "text/plain": [
       "Running query in 'duckdb://'"
      ]
     },
     "metadata": {},
     "output_type": "display_data"
    },
    {
     "data": {
      "text/html": [
       "<table>\n",
       "    <thead>\n",
       "        <tr>\n",
       "            <th>sex</th>\n",
       "            <th>Torgersen_body_mass_g</th>\n",
       "            <th>Biscoe_body_mass_g</th>\n",
       "            <th>Dream_body_mass_g</th>\n",
       "        </tr>\n",
       "    </thead>\n",
       "    <tbody>\n",
       "        <tr>\n",
       "            <td>MALE</td>\n",
       "            <td>4034.782608695652</td>\n",
       "            <td>5104.518072289156</td>\n",
       "            <td>3987.0967741935483</td>\n",
       "        </tr>\n",
       "        <tr>\n",
       "            <td>FEMALE</td>\n",
       "            <td>3395.8333333333335</td>\n",
       "            <td>4319.375</td>\n",
       "            <td>3446.311475409836</td>\n",
       "        </tr>\n",
       "    </tbody>\n",
       "</table>"
      ],
      "text/plain": [
       "+--------+-----------------------+--------------------+--------------------+\n",
       "|  sex   | Torgersen_body_mass_g | Biscoe_body_mass_g | Dream_body_mass_g  |\n",
       "+--------+-----------------------+--------------------+--------------------+\n",
       "|  MALE  |   4034.782608695652   | 5104.518072289156  | 3987.0967741935483 |\n",
       "| FEMALE |   3395.8333333333335  |      4319.375      | 3446.311475409836  |\n",
       "+--------+-----------------------+--------------------+--------------------+"
      ]
     },
     "execution_count": 6,
     "metadata": {},
     "output_type": "execute_result"
    }
   ],
   "source": [
    "%%sql --save avg_body_mass\n",
    "select \n",
    "    sex,\n",
    "    {% for island in islands %}\n",
    "    avg(case when island = '{{island}}' then body_mass_g end) as {{island}}_body_mass_g,\n",
    "    {% endfor %}\n",
    "from 'data/penguins.csv'\n",
    "where sex in {{sex}}\n",
    "group by sex "
   ]
  },
  {
   "cell_type": "code",
   "execution_count": 7,
   "metadata": {},
   "outputs": [
    {
     "name": "stdout",
     "output_type": "stream",
     "text": [
      "select\n",
      "    sex,\n",
      "\n",
      "    avg(case when island = 'Torgersen' then body_mass_g end) as Torgersen_body_mass_g,\n",
      "\n",
      "    avg(case when island = 'Biscoe' then body_mass_g end) as Biscoe_body_mass_g,\n",
      "\n",
      "    avg(case when island = 'Dream' then body_mass_g end) as Dream_body_mass_g,\n",
      "\n",
      "from 'data/penguins.csv'\n",
      "where sex in ('MALE', 'FEMALE')\n",
      "group by sex\n"
     ]
    }
   ],
   "source": [
    "final = %sqlcmd snippets avg_body_mass\n",
    "print(final)"
   ]
  },
  {
   "cell_type": "code",
   "execution_count": 8,
   "metadata": {},
   "outputs": [
    {
     "data": {
      "text/html": [
       "<span style=\"None\">Running query in &#x27;duckdb://&#x27;</span>"
      ],
      "text/plain": [
       "Running query in 'duckdb://'"
      ]
     },
     "metadata": {},
     "output_type": "display_data"
    },
    {
     "data": {
      "text/html": [
       "<table>\n",
       "    <thead>\n",
       "        <tr>\n",
       "            <th>newDate</th>\n",
       "        </tr>\n",
       "    </thead>\n",
       "    <tbody>\n",
       "        <tr>\n",
       "            <td>2014-09-04</td>\n",
       "        </tr>\n",
       "    </tbody>\n",
       "</table>"
      ],
      "text/plain": [
       "+------------+\n",
       "|  newDate   |\n",
       "+------------+\n",
       "| 2014-09-04 |\n",
       "+------------+"
      ]
     },
     "execution_count": 8,
     "metadata": {},
     "output_type": "execute_result"
    }
   ],
   "source": [
    "%sql duckdb://\n",
    "%sql select DATE '2011-12-09' + 1000 as newDate;"
   ]
  },
  {
   "cell_type": "code",
   "execution_count": 9,
   "metadata": {},
   "outputs": [
    {
     "name": "stdout",
     "output_type": "stream",
     "text": [
      "The sql extension is already loaded. To reload it, use:\n",
      "  %reload_ext sql\n"
     ]
    },
    {
     "data": {
      "text/html": [
       "<span style=\"None\">Running query in &#x27;duckdb://&#x27;</span>"
      ],
      "text/plain": [
       "Running query in 'duckdb://'"
      ]
     },
     "metadata": {},
     "output_type": "display_data"
    },
    {
     "data": {
      "text/html": [
       "<span style=\"None\">Running query in &#x27;duckdb://&#x27;</span>"
      ],
      "text/plain": [
       "Running query in 'duckdb://'"
      ]
     },
     "metadata": {},
     "output_type": "display_data"
    },
    {
     "data": {
      "text/html": [
       "<table>\n",
       "    <thead>\n",
       "        <tr>\n",
       "            <th>replace(b, b[1], '*')</th>\n",
       "            <th>count(1)</th>\n",
       "        </tr>\n",
       "    </thead>\n",
       "    <tbody>\n",
       "        <tr>\n",
       "            <td>*巍</td>\n",
       "            <td>16</td>\n",
       "        </tr>\n",
       "        <tr>\n",
       "            <td>*正喜</td>\n",
       "            <td>16</td>\n",
       "        </tr>\n",
       "        <tr>\n",
       "            <td>*晓军</td>\n",
       "            <td>16</td>\n",
       "        </tr>\n",
       "        <tr>\n",
       "            <td>*泓宇</td>\n",
       "            <td>16</td>\n",
       "        </tr>\n",
       "        <tr>\n",
       "            <td>*胜</td>\n",
       "            <td>16</td>\n",
       "        </tr>\n",
       "        <tr>\n",
       "            <td>*娟</td>\n",
       "            <td>16</td>\n",
       "        </tr>\n",
       "        <tr>\n",
       "            <td>*轶璇</td>\n",
       "            <td>15</td>\n",
       "        </tr>\n",
       "        <tr>\n",
       "            <td>*径</td>\n",
       "            <td>14</td>\n",
       "        </tr>\n",
       "        <tr>\n",
       "            <td>*勇</td>\n",
       "            <td>13</td>\n",
       "        </tr>\n",
       "        <tr>\n",
       "            <td>*新宇</td>\n",
       "            <td>13</td>\n",
       "        </tr>\n",
       "    </tbody>\n",
       "</table>\n",
       "<span style=\"font-style:italic;text-align:center;\">Truncated to <a href=\"https://jupysql.ploomber.io/en/latest/api/configuration.html#displaylimit\">displaylimit</a> of 10.</span>"
      ],
      "text/plain": [
       "+-----------------------+----------+\n",
       "| replace(b, b[1], '*') | count(1) |\n",
       "+-----------------------+----------+\n",
       "|          *巍          |    16    |\n",
       "|         *正喜         |    16    |\n",
       "|         *晓军         |    16    |\n",
       "|         *泓宇         |    16    |\n",
       "|          *胜          |    16    |\n",
       "|          *娟          |    16    |\n",
       "|         *轶璇         |    15    |\n",
       "|          *径          |    14    |\n",
       "|          *勇          |    13    |\n",
       "|         *新宇         |    13    |\n",
       "+-----------------------+----------+\n",
       "Truncated to displaylimit of 10."
      ]
     },
     "execution_count": 9,
     "metadata": {},
     "output_type": "execute_result"
    }
   ],
   "source": [
    "%load_ext sql\n",
    "%sql duckdb://\n",
    "\n",
    "#%config SqlMagic.displaylimit = None\n",
    "\n",
    "from pathlib import Path\n",
    "from urllib.request import urlretrieve\n",
    "\n",
    "#curr = Path()\n",
    "#print(curr.as_uri, curr.absolute())\n",
    "#f = Path(\"data/penguins.csv\")\n",
    "#print('isFile:',f.is_file(), f.absolute())\n",
    "\n",
    "%sql SELECT * FROM 'data/emp_work_time.csv' LIMIT 3\n",
    "\n",
    "%sql SELECT replace(b, b[1], '*'),count(1) FROM 'data/emp_work_time.csv' group by b order by count(1) desc;\n",
    "\n"
   ]
  },
  {
   "cell_type": "code",
   "execution_count": null,
   "metadata": {},
   "outputs": [
    {
     "data": {
      "text/html": [
       "<span style=\"None\">Running query in &#x27;duckdb://&#x27;</span>"
      ],
      "text/plain": [
       "Running query in 'duckdb://'"
      ]
     },
     "metadata": {},
     "output_type": "display_data"
    },
    {
     "data": {
      "text/html": [
       "<span style=\"None\">Running query in &#x27;duckdb://&#x27;</span>"
      ],
      "text/plain": [
       "Running query in 'duckdb://'"
      ]
     },
     "metadata": {},
     "output_type": "display_data"
    },
    {
     "name": "stdout",
     "output_type": "stream",
     "text": [
      "no such file:data/test_excel_output.xlsx\n"
     ]
    },
    {
     "data": {
      "text/html": [
       "<span style=\"None\">Running query in &#x27;duckdb://&#x27;</span>"
      ],
      "text/plain": [
       "Running query in 'duckdb://'"
      ]
     },
     "metadata": {},
     "output_type": "display_data"
    },
    {
     "data": {
      "text/html": [
       "<table>\n",
       "    <thead>\n",
       "        <tr>\n",
       "            <th>Count</th>\n",
       "        </tr>\n",
       "    </thead>\n",
       "    <tbody>\n",
       "    </tbody>\n",
       "</table>"
      ],
      "text/plain": [
       "+-------+\n",
       "| Count |\n",
       "+-------+\n",
       "+-------+"
      ]
     },
     "execution_count": 9,
     "metadata": {},
     "output_type": "execute_result"
    }
   ],
   "source": [
    "%reload_ext sql\n",
    "%sql duckdb://\n",
    "\n",
    "%sql INSTALL spatial;\n",
    "%sql LOAD spatial;\n",
    "\n",
    "import os\n",
    "my_file = 'data/test_excel_output.xlsx'\n",
    "if os.path.exists(my_file):\n",
    "    os.remove(my_file)\n",
    " #os.unlink(my_file)\n",
    "else:\n",
    "    print('no such file:%s' %my_file)\n",
    "\n",
    "#导入excel测试\n",
    "%sql COPY (SELECT 'zhai' as name, 'man' as sex, '1' as age) TO '{{my_file}}' WITH (FORMAT GDAL, DRIVER 'xlsx');"
   ]
  }
 ],
 "metadata": {
  "kernelspec": {
   "display_name": "Python 3",
   "language": "python",
   "name": "python3"
  },
  "language_info": {
   "codemirror_mode": {
    "name": "ipython",
    "version": 3
   },
   "file_extension": ".py",
   "mimetype": "text/x-python",
   "name": "python",
   "nbconvert_exporter": "python",
   "pygments_lexer": "ipython3",
   "version": "3.11.6"
  },
  "orig_nbformat": 4,
  "vscode": {
   "interpreter": {
    "hash": "e7370f93d1d0cde622a1f8e1c04877d8463912d04d973331ad4851f04de6915a"
   }
  }
 },
 "nbformat": 4,
 "nbformat_minor": 2
}
