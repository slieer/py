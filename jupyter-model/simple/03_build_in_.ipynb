{
 "cells": [
  {
   "cell_type": "code",
   "execution_count": null,
   "metadata": {},
   "outputs": [],
   "source": [
    "\"\"\"\n",
    "在Python 3.4之前,涉及路径相关操作,都用os模块解决,尤其是os.path这个子模块非常有用。\n",
    "在Python 3.4之后,pathlib成为标准库模块,其使用面向对象的编程方式来表示文件系统路径,丰富了路径处理的方法。\n",
    "\n",
    "1) pathlib优势\n",
    "相对于传统的os及os.path,pathlib具体如下优势:\n",
    "\n",
    "pathlib实现统一管理,解决了传统操作导入模块不统一问题；\n",
    "pathlib使得在不同操作系统之间切换非常简单;\n",
    "pathlib是面向对象的,路径处理更灵活方便,解决了传统路径和字符串并不等价的问题；\n",
    "pathlib简化了很多操作,简单易用。\n",
    "\n",
    "\"\"\"\n",
    "from pathlib import Path\n",
    "\n",
    "#返回文件当前所在目录\n",
    "Path.cwd()\n",
    "#返回电脑用户的目录\n",
    "Path.home()\n",
    "\n",
    "\n"
   ]
  }
 ],
 "metadata": {
  "kernelspec": {
   "display_name": "Python 3",
   "language": "python",
   "name": "python3"
  },
  "language_info": {
   "name": "python",
   "version": "3.10.6 (main, May 29 2023, 11:10:38) [GCC 11.3.0]"
  },
  "orig_nbformat": 4,
  "vscode": {
   "interpreter": {
    "hash": "e7370f93d1d0cde622a1f8e1c04877d8463912d04d973331ad4851f04de6915a"
   }
  }
 },
 "nbformat": 4,
 "nbformat_minor": 2
}
