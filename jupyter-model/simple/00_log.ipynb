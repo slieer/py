{
 "cells": [
  {
   "cell_type": "code",
   "execution_count": 9,
   "metadata": {},
   "outputs": [],
   "source": [
    "#encoding = utf-8\n",
    "###\n",
    " # @ Description: 日志封装文件\n",
    " # @ Author: fatih\n",
    " # @ Date: 2020-12-30 10:48:00\n",
    " # @ FilePath: \\mechineInfo\\utils\\log.py\n",
    " # @ LastEditors: fatih\n",
    " # @ LastEditTime: 2021-01-11 16:18:30\n",
    "###\n",
    "import logging\n",
    "# 既把日志输出到控制台， 还要写入日志文件\n",
    "class Logger():\n",
    "    def __init__(self, logname=\"info\", loglevel=logging.DEBUG, loggername=None):\n",
    "        '''\n",
    "           指定保存日志的文件路径，日志级别，以及调用文件\n",
    "           将日志存入到指定的文件中\n",
    "        '''\n",
    "        # 创建一个logger\n",
    "        self.logger = logging.getLogger(loggername)\n",
    "        self.logger.setLevel(loglevel)\n",
    "        # 创建一个handler，用于写入日志文件\n",
    "        fh = logging.FileHandler(logname)\n",
    "        fh.setLevel(loglevel)\n",
    "        if not self.logger.handlers:\n",
    "        #或者使用如下语句判断\n",
    "        #if not self.logger.hasHandlers():\n",
    "\n",
    "            # 再创建一个handler，用于输出到控制台\n",
    "            ch = logging.StreamHandler()\n",
    "            ch.setLevel(loglevel)\n",
    "            # 定义handler的输出格式\n",
    "            # formatter = logging.Formatter('%(asctime)s - %(name)s - %(levelname)s - %(message)s')\n",
    "            formatter = logging.Formatter('[%(levelname)s]%(asctime)s %(filename)s:%(lineno)d: %(message)s')\n",
    "            fh.setFormatter(formatter)\n",
    "            ch.setFormatter(formatter)\n",
    "            # 给logger添加handler\n",
    "            self.logger.addHandler(fh)\n",
    "            self.logger.addHandler(ch)\n",
    "            \n",
    "            self.logger.fatal(\"add handler\")\n",
    "        #self.logger.fatal(\"set logger\")\n",
    "    def getLog(self):\n",
    "        #self.logger.fatal(\"get logger\")\n",
    "        return self.logger"
   ]
  },
  {
   "cell_type": "code",
   "execution_count": 10,
   "metadata": {},
   "outputs": [
    {
     "name": "stderr",
     "output_type": "stream",
     "text": [
      "[INFO]2023-07-02 08:44:16,862 3092530931.py:3: test log\n"
     ]
    }
   ],
   "source": [
    "logger = Logger()\n",
    "log = logger.getLog()\n",
    "log.info('test log')"
   ]
  }
 ],
 "metadata": {
  "kernelspec": {
   "display_name": "Python 3",
   "language": "python",
   "name": "python3"
  },
  "language_info": {
   "codemirror_mode": {
    "name": "ipython",
    "version": 3
   },
   "file_extension": ".py",
   "mimetype": "text/x-python",
   "name": "python",
   "nbconvert_exporter": "python",
   "pygments_lexer": "ipython3",
   "version": "3.10.6"
  },
  "orig_nbformat": 4,
  "vscode": {
   "interpreter": {
    "hash": "e7370f93d1d0cde622a1f8e1c04877d8463912d04d973331ad4851f04de6915a"
   }
  }
 },
 "nbformat": 4,
 "nbformat_minor": 2
}
