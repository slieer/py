{
 "cells": [
  {
   "cell_type": "code",
   "execution_count": 3,
   "metadata": {},
   "outputs": [
    {
     "name": "stderr",
     "output_type": "stream",
     "text": [
      "06/17/2023 10:31:01 PM simpleLog test info log: InfoLog\n",
      "06/17/2023 10:31:01 PM no=default no, ver=default ver\n"
     ]
    },
    {
     "name": "stdout",
     "output_type": "stream",
     "text": [
      "hello world version v1.0\n",
      "世界，你好! zhai\n",
      "abc\n",
      " xyz\n",
      " zxb\n",
      " 2023-06-17 22:31:01\n",
      "username: zhai, domain: www.baidu.com\n",
      "getInfo.status: 1\n"
     ]
    }
   ],
   "source": [
    "#基本函数、打印功能测试\n",
    "#\n",
    "import logging\n",
    "from datetime import datetime\n",
    "\n",
    "def simple():\n",
    "    print('hello world version v1.0')\n",
    "    print('世界，你好! %s' %('zhai'))\n",
    "    \n",
    "    today = datetime.now()\n",
    "    print('%s %s %s %s' %('abc\\n','xyz\\n','zxb\\n',today.strftime('%Y-%m-%d %H:%M:%S')))\n",
    "    \n",
    "    username = 'zhai'\n",
    "    domain = \"www.baidu.com\"\n",
    "    print('username: %s, domain: %s' %(username, domain))\n",
    "    \n",
    "    getInfo = {'status' : 1}\n",
    "    print(\"getInfo.status: %s\" %(getInfo['status']))\n",
    "    \n",
    "logging.basicConfig(level=logging.DEBUG, format='%(asctime)s %(message)s', datefmt='%m/%d/%Y %I:%M:%S %p')\n",
    "\n",
    "def simpleLog():\n",
    "    logging.info(\"simpleLog test info log: %s\" %('InfoLog'))\n",
    "\n",
    "# 基本对象和初始化测试\n",
    "class Basic:\n",
    "    def __init__(self, no='default no', ver='default ver'):\n",
    "        self.no=no\n",
    "        self.ver=ver\n",
    "    def printProperties(self):\n",
    "        logging.debug('no=%s, ver=%s' %(self.no, self.ver))\n",
    "        \n",
    "# 函数调用测试\n",
    "simple()\n",
    "# log 打印测试\n",
    "simpleLog()\n",
    "#类对象测试\n",
    "basic = Basic()\n",
    "basic.printProperties()"
   ]
  },
  {
   "cell_type": "code",
   "execution_count": 2,
   "metadata": {},
   "outputs": [
    {
     "name": "stderr",
     "output_type": "stream",
     "text": [
      "06/17/2023 10:25:37 PM no=default no, ver=default ver\n",
      "06/17/2023 10:25:37 PM no=1, ver=test\n"
     ]
    },
    {
     "name": "stdout",
     "output_type": "stream",
     "text": [
      "hello world version v1.0\n",
      "世界，你好! zhai\n",
      "abc\n",
      " xyz\n",
      " zxb\n",
      " 2023-06-17 22:25:37.983526\n",
      "username: zhai, domain: www.baiud.com\n",
      "getInfo.status: 1\n"
     ]
    }
   ],
   "source": [
    "# main主函数方式测试\n",
    "if __name__ == '__main__':\n",
    "    simple()\n",
    "    a = Basic()\n",
    "    a.printProperties()\n",
    "    b = Basic(1, 'test')\n",
    "    b.printProperties()\n",
    "    "
   ]
  }
 ],
 "metadata": {
  "kernelspec": {
   "display_name": "Python 3",
   "language": "python",
   "name": "python3"
  },
  "language_info": {
   "codemirror_mode": {
    "name": "ipython",
    "version": 3
   },
   "file_extension": ".py",
   "mimetype": "text/x-python",
   "name": "python",
   "nbconvert_exporter": "python",
   "pygments_lexer": "ipython3",
   "version": "3.10.6 (main, May 29 2023, 11:10:38) [GCC 11.3.0]"
  },
  "orig_nbformat": 4,
  "vscode": {
   "interpreter": {
    "hash": "e7370f93d1d0cde622a1f8e1c04877d8463912d04d973331ad4851f04de6915a"
   }
  }
 },
 "nbformat": 4,
 "nbformat_minor": 2
}
