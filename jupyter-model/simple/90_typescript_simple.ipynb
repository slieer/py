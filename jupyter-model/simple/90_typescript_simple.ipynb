{
 "cells": [
  {
   "cell_type": "code",
   "execution_count": 1,
   "metadata": {},
   "outputs": [
    {
     "name": "stdout",
     "output_type": "stream",
     "text": [
      "sudo: npm: command not found\n"
     ]
    },
    {
     "name": "stdout",
     "output_type": "stream",
     "text": [
      "sudo: npm: command not found\n"
     ]
    }
   ],
   "source": [
    "#sudo vi /etc/sudoers \n",
    "#如果使用这种方式，保存时需要用\"wq!\"强制保存，否则会提示只读不能保存。\n",
    "#组用户sudo都不需要密码\n",
    "#%admin ALL=(ALL) NOPASSWD: ALL\n",
    "#admin是用户组名。意味着admin组的所有成员都可以不用密码使用sudo。\n",
    "\n",
    "#用户sudo不需要密码\n",
    "#zhai ALL=(ALL) NOPASSWD: ALL\n",
    "1\n",
    "#zhai是用户名，加在配置文件最后一行。\n",
    "!sudo npm install -g itypescript\n",
    "!sudo npm install -g typescript"
   ]
  }
 ],
 "metadata": {
  "kernelspec": {
   "display_name": "3.10.15",
   "language": "python",
   "name": "python3"
  },
  "language_info": {
   "codemirror_mode": {
    "name": "ipython",
    "version": 3
   },
   "file_extension": ".py",
   "mimetype": "text/x-python",
   "name": "python",
   "nbconvert_exporter": "python",
   "pygments_lexer": "ipython3",
   "version": "3.10.15"
  },
  "orig_nbformat": 4
 },
 "nbformat": 4,
 "nbformat_minor": 2
}
