{
 "cells": [
  {
   "cell_type": "code",
   "execution_count": 3,
   "metadata": {},
   "outputs": [
    {
     "name": "stdout",
     "output_type": "stream",
     "text": [
      "\u001b[K\u001b[?25h\u001b[37;40mnpm\u001b[0m \u001b[0m\u001b[30;43mWARN\u001b[0m \u001b[0m\u001b[35mdeprecated\u001b[0m uuid@3.4.0: Please upgrade  to version 7 or higher.  Older versions may use Math.random() in certain circumstances, which is known to be problematic.  See https://v8.dev/blog/math-random for details.\n",
      "\u001b[0m\u001b[37;40mnpm\u001b[0m \u001b[0m\u001b[30;43mWARN\u001b[0m \u001b[0m\u001b[35mdeprecated\u001b[0m uuid@3.4.0: Please upgrade  to version 7 or higher.  Older versions may use Math.random() in certain circumstances, which is known to be problematic.  See https://v8.dev/blog/math-random for details.\n",
      "\u001b[K\u001b[?25h              \u001b[27m] - reify:typescript: \u001b[32;40mtiming\u001b[0m \u001b[35mreifyNode:node_modules/itypescr\u001b[0m\u001b[Kt/\u001b[0m\u001b[Knod\u001b[0m\u001b[K\n",
      "changed 12 packages, and audited 13 packages in 4s\n",
      "\n",
      "found \u001b[32m\u001b[1m0\u001b[22m\u001b[39m vulnerabilities\n",
      "\u001b[K\u001b[?25h              \u001b[27m] \\ reify:typescript: \u001b[7msill\u001b[0m \u001b[35maudit\u001b[0m bulk request { typescript:\u001b[0m\u001b[Kt:\u001b[0m\u001b[K\n",
      "changed 1 package, and audited 2 packages in 1s\n",
      "\n",
      "found \u001b[32m\u001b[1m0\u001b[22m\u001b[39m vulnerabilities\n"
     ]
    }
   ],
   "source": [
    "#sudo vi /etc/sudoers \n",
    "#如果使用这种方式，保存时需要用\"wq!\"强制保存，否则会提示只读不能保存。\n",
    "#组用户sudo都不需要密码\n",
    "#%admin ALL=(ALL) NOPASSWD: ALL\n",
    "#admin是用户组名。意味着admin组的所有成员都可以不用密码使用sudo。\n",
    "\n",
    "#用户sudo不需要密码\n",
    "#zhai ALL=(ALL) NOPASSWD: ALL\n",
    "1\n",
    "#zhai是用户名，加在配置文件最后一行。\n",
    "!sudo npm install -g itypescript\n",
    "!sudo npm install -g typescript"
   ]
  }
 ],
 "metadata": {
  "kernelspec": {
   "display_name": "Python 3",
   "language": "python",
   "name": "python3"
  },
  "language_info": {
   "codemirror_mode": {
    "name": "ipython",
    "version": 3
   },
   "file_extension": ".py",
   "mimetype": "text/x-python",
   "name": "python",
   "nbconvert_exporter": "python",
   "pygments_lexer": "ipython3",
   "version": "3.10.6"
  },
  "orig_nbformat": 4,
  "vscode": {
   "interpreter": {
    "hash": "e7370f93d1d0cde622a1f8e1c04877d8463912d04d973331ad4851f04de6915a"
   }
  }
 },
 "nbformat": 4,
 "nbformat_minor": 2
}
