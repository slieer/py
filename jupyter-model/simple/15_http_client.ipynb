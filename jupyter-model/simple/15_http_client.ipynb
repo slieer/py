{
 "cells": [
  {
   "attachments": {},
   "cell_type": "markdown",
   "metadata": {},
   "source": [
    "#urllib：Python2和Python3内置的网络请求库，Python3的urllib实际是Python2版本中urllib和urllib2的合并\n",
    "#urllib2：它只存在于Python2版本的内置库中，功能与urllib基本类似，主要是urllib的增强。urllib、urllib2都是python的内置标准库；\n",
    "#urllib3：Python2和Python3均可以使用，但这不是标准库，需要使用pip安装使用，urllib3提供了线程安全池和文件post等，该模块是服务于升级的http 1.1标准，且拥有高效http连接池管理及http代理服务的功能库,但其并非python内\n",
    "#requests：requests是基于urllib3封装的,继承了urllib2的所有特性,遵循Apache2 Licensed开源协议的HTTP库，支持HTTP连接保持和连接池，支持使用cookie保持会话，支持文件上传，支持自动响应内容的编码，支持国际化的URL和POST数据自动编码。如他的口号HTTP for Humans所说,这才是给人用的HTTP库,实际使用过程中更方便,能够大大的提高使用效率,缩短写代码的时间。\n"
   ]
  },
  {
   "cell_type": "code",
   "execution_count": 10,
   "metadata": {},
   "outputs": [
    {
     "name": "stderr",
     "output_type": "stream",
     "text": [
      "INFO:root:200\n"
     ]
    },
    {
     "name": "stdout",
     "output_type": "stream",
     "text": [
      "send: b'GET / HTTP/1.1\\r\\nHost: www.python.org\\r\\nAccept-Encoding: identity\\r\\n\\r\\n'\n",
      "reply: 'HTTP/1.1 301 Moved Permanently\\r\\n'\n",
      "header: Connection: close\n",
      "header: Content-Length: 0\n",
      "header: Server: Varnish\n",
      "header: Retry-After: 0\n",
      "header: Location: https://www.python.org/\n",
      "header: Accept-Ranges: bytes\n",
      "header: Date: Wed, 05 Jul 2023 07:31:21 GMT\n",
      "header: Via: 1.1 varnish\n",
      "header: X-Served-By: cache-nrt-rjtf7700023-NRT\n",
      "header: X-Cache: HIT\n",
      "header: X-Cache-Hits: 0\n",
      "header: X-Timer: S1688542281.141312,VS0,VE0\n",
      "header: Strict-Transport-Security: max-age=63072000; includeSubDomains; preload\n",
      "301 Moved Permanently\n",
      "\n"
     ]
    }
   ],
   "source": [
    "import http\n",
    "import logging\n",
    "from http import HTTPStatus\n",
    "\n",
    "logging.basicConfig(level=logging.DEBUG)\n",
    "logger = logging.getLogger(__name__)\n",
    "http.client.HTTPConnection.debuglevel = 1\n",
    "\n",
    "#list(HTTPStatus)\n",
    "logging.info(HTTPStatus.OK)\n",
    "\n",
    "con = http.client.HTTPConnection('www.python.org', timeout=10)\n",
    "# 发起请求，请求方式，url\n",
    "con.request(\"GET\",\"/\", headers={})\n",
    "# 获取响应\n",
    "res = con.getresponse()\n",
    "# 获取响应正文\n",
    "print(res.status, res.reason)\n",
    "content = res.read().decode(\"utf8\")\n",
    "print(content)\n",
    "con.close() "
   ]
  },
  {
   "cell_type": "code",
   "execution_count": 26,
   "metadata": {},
   "outputs": [
    {
     "name": "stdout",
     "output_type": "stream",
     "text": [
      "{\n",
      "  \"args\": {}, \n",
      "  \"headers\": {\n",
      "    \"Accept-Encoding\": \"identity\", \n",
      "    \"Host\": \"httpbin.org\", \n",
      "    \"User-Agent\": \"Mozilla/5.0 (Macintosh; Intel Mac OS X 10_13_5) AppleWebKit/537.36 (KHTML, like Gecko) Chrome/66.0.3359.181 Safari/537.36\", \n",
      "    \"X-Amzn-Trace-Id\": \"Root=1-64a5210f-11f9e2d715b693805bfddf8e\"\n",
      "  }, \n",
      "  \"origin\": \"103.126.24.27\", \n",
      "  \"url\": \"http://httpbin.org/get\"\n",
      "}\n",
      "\n",
      "{\n",
      "  \"args\": {}, \n",
      "  \"data\": \"\", \n",
      "  \"files\": {}, \n",
      "  \"form\": {\n",
      "    \"hello\": \"world\"\n",
      "  }, \n",
      "  \"headers\": {\n",
      "    \"Accept-Encoding\": \"identity\", \n",
      "    \"Content-Length\": \"11\", \n",
      "    \"Content-Type\": \"application/x-www-form-urlencoded\", \n",
      "    \"Host\": \"httpbin.org\", \n",
      "    \"User-Agent\": \"Python-urllib/3.11\", \n",
      "    \"X-Amzn-Trace-Id\": \"Root=1-64a52111-7d5517261ff9d2407d6993e8\"\n",
      "  }, \n",
      "  \"json\": null, \n",
      "  \"origin\": \"103.126.24.27\", \n",
      "  \"url\": \"http://httpbin.org/post\"\n",
      "}\n",
      "\n"
     ]
    }
   ],
   "source": [
    "from urllib import request\n",
    "import logging\n",
    "#logging.basicConfig(level=logging.DEBUG)\n",
    "#logger = logging.getLogger(__name__)\n",
    "\n",
    "url = \"http://httpbin.org/get\"\n",
    "headers = {'user-agent': 'Mozilla/5.0 (Macintosh; Intel Mac OS X 10_13_5) AppleWebKit/537.36 (KHTML, like Gecko) Chrome/66.0.3359.181 Safari/537.36'}\n",
    "\n",
    "req = request.Request(url=url, headers=headers) # 传递的Request对象\n",
    "res = request.urlopen(req)\n",
    "print(res.read().decode())\n",
    "\n",
    "\n",
    "req = request.Request(method='post', url=url, headers=headers)\n",
    "res = request.urlopen(\"http://httpbin.org/post\", data=b'hello=world')\n",
    "print(res.read().decode())"
   ]
  },
  {
   "cell_type": "code",
   "execution_count": 15,
   "metadata": {},
   "outputs": [
    {
     "name": "stdout",
     "output_type": "stream",
     "text": [
      "Requirement already satisfied: pip in d:\\users\\skyworth\\python\\python311\\lib\\site-packages (23.1.2)\n",
      "Requirement already satisfied: urllib3 in d:\\users\\skyworth\\python\\python311\\lib\\site-packages (1.26.15)\n"
     ]
    }
   ],
   "source": [
    "!python.exe -m pip install --upgrade pip\n",
    "!pip install urllib3"
   ]
  },
  {
   "cell_type": "code",
   "execution_count": 2,
   "metadata": {},
   "outputs": [
    {
     "name": "stderr",
     "output_type": "stream",
     "text": [
      "DEBUG:urllib3.connectionpool:Starting new HTTP connection (1): httpbin.org:80\n"
     ]
    },
    {
     "name": "stdout",
     "output_type": "stream",
     "text": [
      "send: b'GET /get HTTP/1.1\\r\\nHost: httpbin.org\\r\\nAccept-Encoding: identity\\r\\nUser-Agent: python-urllib3/1.26.15\\r\\n\\r\\n'\n",
      "reply: 'HTTP/1.1 200 OK\\r\\n'\n",
      "header: Date: Wed, 05 Jul 2023 08:04:07 GMT\n",
      "header: Content-Type: application/json\n",
      "header: Content-Length: 279\n",
      "header: Connection: keep-alive\n",
      "header: Server: gunicorn/19.9.0\n",
      "header: Access-Control-Allow-Origin: *\n",
      "header: Access-Control-Allow-Credentials: true\n"
     ]
    },
    {
     "name": "stderr",
     "output_type": "stream",
     "text": [
      "DEBUG:urllib3.connectionpool:http://httpbin.org:80 \"GET /get HTTP/1.1\" 200 279\n"
     ]
    },
    {
     "name": "stdout",
     "output_type": "stream",
     "text": [
      "send: b'POST /post HTTP/1.1\\r\\nHost: httpbin.org\\r\\nAccept-Encoding: identity\\r\\nContent-Length: 129\\r\\nContent-Type: multipart/form-data; boundary=bb7515f8744accd128a7a9a6ae5064bc\\r\\nX-Something: value\\r\\nUser-Agent: python-urllib3/1.26.15\\r\\n\\r\\n'\n",
      "send: b'--bb7515f8744accd128a7a9a6ae5064bc\\r\\nContent-Disposition: form-data; name=\"hello\"\\r\\n\\r\\nworld\\r\\n--bb7515f8744accd128a7a9a6ae5064bc--\\r\\n'\n"
     ]
    },
    {
     "name": "stderr",
     "output_type": "stream",
     "text": [
      "DEBUG:urllib3.connectionpool:http://httpbin.org:80 \"POST /post HTTP/1.1\" 200 513\n"
     ]
    },
    {
     "name": "stdout",
     "output_type": "stream",
     "text": [
      "reply: 'HTTP/1.1 200 OK\\r\\n'\n",
      "header: Date: Wed, 05 Jul 2023 08:04:09 GMT\n",
      "header: Content-Type: application/json\n",
      "header: Content-Length: 513\n",
      "header: Connection: keep-alive\n",
      "header: Server: gunicorn/19.9.0\n",
      "header: Access-Control-Allow-Origin: *\n",
      "header: Access-Control-Allow-Credentials: true\n"
     ]
    },
    {
     "data": {
      "text/plain": [
       "b'{\\n  \"args\": {}, \\n  \"data\": \"\", \\n  \"files\": {}, \\n  \"form\": {\\n    \"hello\": \"world\"\\n  }, \\n  \"headers\": {\\n    \"Accept-Encoding\": \"identity\", \\n    \"Content-Length\": \"129\", \\n    \"Content-Type\": \"multipart/form-data; boundary=bb7515f8744accd128a7a9a6ae5064bc\", \\n    \"Host\": \"httpbin.org\", \\n    \"User-Agent\": \"python-urllib3/1.26.15\", \\n    \"X-Amzn-Trace-Id\": \"Root=1-64a523f8-43f987ca2e01824e2a3136e2\", \\n    \"X-Something\": \"value\"\\n  }, \\n  \"json\": null, \\n  \"origin\": \"103.126.24.27\", \\n  \"url\": \"http://httpbin.org/post\"\\n}\\n'"
      ]
     },
     "execution_count": 2,
     "metadata": {},
     "output_type": "execute_result"
    }
   ],
   "source": [
    "import http\n",
    "import logging\n",
    "from http import HTTPStatus\n",
    "import urllib3\n",
    "\n",
    "logging.basicConfig(level=logging.DEBUG)\n",
    "logger = logging.getLogger(__name__)\n",
    "http.client.HTTPConnection.debuglevel = 1\n",
    "\n",
    "\n",
    "http = urllib3.PoolManager()  # 线程池生成请求\n",
    "resp = http.request('GET', 'http://httpbin.org/get')\n",
    "resp.status\n",
    "resp.data\n",
    "\n",
    "\n",
    "headers = {'X-Something': 'value'}\n",
    "resp = http.request('POST', 'http://httpbin.org/post', headers=headers, fields={'hello': 'world'})\n",
    "\n",
    "resp.status\n",
    "resp.data\n"
   ]
  },
  {
   "cell_type": "code",
   "execution_count": 4,
   "metadata": {},
   "outputs": [
    {
     "name": "stderr",
     "output_type": "stream",
     "text": [
      "DEBUG:urllib3.connectionpool:Starting new HTTP connection (1): fanyi.baidu.com:80\n",
      "DEBUG:urllib3.connectionpool:http://fanyi.baidu.com:80 \"POST /sug HTTP/1.1\" 301 0\n",
      "DEBUG:urllib3.connectionpool:Starting new HTTPS connection (1): fanyi.baidu.com:443\n",
      "DEBUG:urllib3.connectionpool:https://fanyi.baidu.com:443 \"GET /sug HTTP/1.1\" 200 67\n"
     ]
    },
    {
     "name": "stdout",
     "output_type": "stream",
     "text": [
      "send: b'POST /sug HTTP/1.1\\r\\nHost: fanyi.baidu.com\\r\\nUser-Agent: python-requests/2.28.2\\r\\nAccept-Encoding: gzip, deflate\\r\\nAccept: */*\\r\\nConnection: keep-alive\\r\\nContent-Length: 21\\r\\nContent-Type: application/x-www-form-urlencoded\\r\\n\\r\\n'\n",
      "send: b'kw=%E6%98%A5%E9%A3%8E'\n",
      "reply: 'HTTP/1.1 301 Moved Permanently\\r\\n'\n",
      "header: Location: https://fanyi.baidu.com/sug\n",
      "header: Date: Wed, 05 Jul 2023 08:07:11 GMT\n",
      "header: Content-Length: 0\n",
      "header: Content-Type: text/plain; charset=utf-8\n",
      "send: b'GET /sug HTTP/1.1\\r\\nHost: fanyi.baidu.com\\r\\nUser-Agent: python-requests/2.28.2\\r\\nAccept-Encoding: gzip, deflate\\r\\nAccept: */*\\r\\nConnection: keep-alive\\r\\n\\r\\n'\n",
      "reply: 'HTTP/1.1 200 OK\\r\\n'\n",
      "header: Cache-Control: no-cache, private\n",
      "header: Content-Encoding: gzip\n",
      "header: Content-Type: application/json\n",
      "header: Date: Wed, 05 Jul 2023 08:07:11 GMT\n",
      "header: P3p: CP=\" OTI DSP COR IVA OUR IND COM \"\n",
      "header: Server: Apache\n",
      "header: Set-Cookie: BAIDUID=5942A8DD8472CA2D836146370C6C2EF0:FG=1; expires=Thu, 04-Jul-24 08:07:11 GMT; max-age=31536000; path=/; domain=.baidu.com; version=1\n",
      "header: Tracecode: 04314598192633622282070516\n",
      "header: Vary: Accept-Encoding\n",
      "header: Content-Length: 67\n",
      "{'errno': 1000, 'errmsg': '未知错误'}\n"
     ]
    }
   ],
   "source": [
    "#requests使用了urllib3的库\n",
    "import requests\n",
    "import logging\n",
    "import http\n",
    "\n",
    "logging.basicConfig(level=logging.DEBUG)\n",
    "logger = logging.getLogger(__name__)\n",
    "http.client.HTTPConnection.debuglevel = 1\n",
    "\n",
    "baseurl = 'http://fanyi.baidu.com/sug'\n",
    "keyword = '春风'\n",
    "data = {\n",
    "    'kw': keyword\n",
    "}\n",
    "\n",
    "rsp = requests.post(url=baseurl, data=data)\n",
    "json_data = rsp.json()\n",
    "print(json_data)\n",
    "\n",
    "#for i in json_data['data']:\n",
    "#    print(i['k'], '---->', i['v'])"
   ]
  }
 ],
 "metadata": {
  "kernelspec": {
   "display_name": "Python 3",
   "language": "python",
   "name": "python3"
  },
  "language_info": {
   "codemirror_mode": {
    "name": "ipython",
    "version": 3
   },
   "file_extension": ".py",
   "mimetype": "text/x-python",
   "name": "python",
   "nbconvert_exporter": "python",
   "pygments_lexer": "ipython3",
   "version": "3.11.2"
  },
  "orig_nbformat": 4
 },
 "nbformat": 4,
 "nbformat_minor": 2
}
