{
 "cells": [
  {
   "cell_type": "code",
   "execution_count": 1,
   "metadata": {},
   "outputs": [
    {
     "name": "stderr",
     "output_type": "stream",
     "text": [
      "07/02/2023 08:46:30 AM test logging.\n"
     ]
    }
   ],
   "source": [
    "import logging\n",
    "logging.basicConfig(level=logging.DEBUG, format='%(asctime)s %(message)s', datefmt='%m/%d/%Y %I:%M:%S %p')\n",
    "logging.info('test logging.')"
   ]
  },
  {
   "cell_type": "code",
   "execution_count": 5,
   "metadata": {},
   "outputs": [
    {
     "name": "stderr",
     "output_type": "stream",
     "text": [
      "07/02/2023 08:46:49 AM debug message\n",
      "07/02/2023 08:46:49 AM info message\n",
      "07/02/2023 08:46:49 AM warning message\n",
      "07/02/2023 08:46:49 AM error message\n",
      "07/02/2023 08:46:49 AM critical message\n"
     ]
    }
   ],
   "source": [
    "# 创建对象\n",
    "logger = logging.getLogger('mylogger')\n",
    "\n",
    "if not logger.hasHandlers():\n",
    "    # 创建一个输出到控制台的handler\n",
    "    console_handler = logging.StreamHandler()\n",
    "    console_handler.setLevel(logging.NOTSET)\n",
    "    # 创建一个输出到文件的handler\n",
    "    #file_handler = logging.FileHandler('mylog.log')\n",
    "    #file_handler.setLevel(logging.DEBUG)\n",
    "\n",
    "    # 创建一个格式化器\n",
    "    formatter = logging.Formatter('%(asctime)s - %(levelname)s - %(message)s')\n",
    "    # 将格式化器添加到handler\n",
    "    console_handler.setFormatter(formatter)\n",
    "    #file_handler.setFormatter(formatter)\n",
    "\n",
    "    # 将handler添加到logger\n",
    "    logger.addHandler(console_handler)\n",
    "    #logger.addHandler(file_handler)\n",
    "\n",
    "# 输出日志\n",
    "logger.debug('debug message')\n",
    "logger.info('info message')\n",
    "logger.warning('warning message')\n",
    "logger.error('error message')\n",
    "logger.critical('critical message')"
   ]
  },
  {
   "cell_type": "code",
   "execution_count": 6,
   "metadata": {},
   "outputs": [
    {
     "name": "stderr",
     "output_type": "stream",
     "text": [
      "07/02/2023 08:47:15 AM 113 base 16: 275\n",
      "07/02/2023 08:47:15 AM ord: 32735, 23567, 25996 \n",
      "07/02/2023 08:47:15 AM logging test.\n",
      "07/02/2023 08:47:15 AM 0\n",
      "07/02/2023 08:47:15 AM 0, zhai\n",
      "07/02/2023 08:47:15 AM isinstance: True\n"
     ]
    }
   ],
   "source": [
    "# 转化字符串到数字\n",
    "logger.info('113 base 16: %s' %int(\"113\", base=16))\n",
    "\n",
    "# 返回 Unicode code point for a one-character string.\n",
    "# 32735\n",
    "logger.info('ord: %s, %s, %s ' %(ord('翟'), ord('小'), ord('斌')))\n",
    "\n",
    "class Basic:\n",
    "    #静态方法\n",
    "    @staticmethod\n",
    "    def test():\n",
    "        logging.info('logging test.')\n",
    "    \n",
    "    #类初始化和默认值\n",
    "    def __init__(self,id=0, name='zhai') -> None:\n",
    "        self.id=id\n",
    "        self.name=name\n",
    "\n",
    "    def tostring(self):\n",
    "        logging.info('%s, %s' %(self.id, self.name))\n",
    "\n",
    "class Ext(Basic):\n",
    "    pass\n",
    "\n",
    "Basic.test()\n",
    "one = Basic()\n",
    "logger.info('%s' %one.id)\n",
    "logger.info('%s, %s' %(one.id, one.name))\n",
    "logger.info(\"isinstance: %s\", isinstance(Basic(), Basic))"
   ]
  },
  {
   "cell_type": "code",
   "execution_count": null,
   "metadata": {},
   "outputs": [],
   "source": []
  },
  {
   "cell_type": "code",
   "execution_count": 7,
   "metadata": {},
   "outputs": [
    {
     "name": "stderr",
     "output_type": "stream",
     "text": [
      "07/02/2023 08:47:30 AM <_io.TextIOWrapper name='./data/sdt.csv' mode='r' encoding='utf-8'>\n",
      "07/02/2023 08:47:30 AM 测试1: 1,翟小斌,语文,100\n",
      "\n",
      "07/02/2023 08:47:30 AM 测试1: 2,翟小斌,数学,80\n",
      "\n",
      "07/02/2023 08:47:30 AM 测试1: 1,李佳,语文,100\n",
      "\n",
      "07/02/2023 08:47:30 AM 测试1: 2,李佳,数学,80\n",
      "\n",
      "07/02/2023 08:47:30 AM 测试1: 1,瑞超,语文,100\n",
      "\n",
      "07/02/2023 08:47:30 AM 测试1: 2,瑞超,数学,80\n",
      "\n",
      "07/02/2023 08:47:30 AM 测试1: 1,瑞敏,语文,100\n",
      "\n",
      "07/02/2023 08:47:30 AM 测试1: 2,瑞敏,数学,80\n",
      "07/02/2023 08:47:30 AM 测试2: 1,翟小斌,语文,100\n",
      "07/02/2023 08:47:30 AM 测试2: 2,翟小斌,数学,80\n",
      "07/02/2023 08:47:30 AM 测试2: 1,李佳,语文,100\n",
      "07/02/2023 08:47:30 AM 测试2: 2,李佳,数学,80\n",
      "07/02/2023 08:47:30 AM 测试2: 1,瑞超,语文,100\n",
      "07/02/2023 08:47:30 AM 测试2: 2,瑞超,数学,80\n",
      "07/02/2023 08:47:30 AM 测试2: 1,瑞敏,语文,100\n",
      "07/02/2023 08:47:30 AM 测试2: 2,瑞敏,数学,80\n"
     ]
    }
   ],
   "source": [
    "try:\n",
    "    # r(只读），r+（读写），w（只写）, w+（读写）， a(追加），a+（追加读）\n",
    "    file = open('./data/sdt.csv', 'r', encoding=\"utf-8\")\n",
    "    logging.info('%s', file)\n",
    "    for line in file:\n",
    "        logging.info('测试1: %s', line)\n",
    "    #返回包含size行的列表, size 未指定则返回全部行。\n",
    "    file.close()\n",
    "    \n",
    "    with open('./data/sdt.csv', 'r', encoding=\"utf-8\") as sdtFile:\n",
    "        for line in sdtFile:\n",
    "            logging.info('测试2: %s', line.strip())\n",
    "        sdtFile.close()    \n",
    "    \n",
    "except IOError:\n",
    "    logging.error('打开文件异常')\n"
   ]
  },
  {
   "cell_type": "code",
   "execution_count": 23,
   "metadata": {},
   "outputs": [
    {
     "name": "stderr",
     "output_type": "stream",
     "text": [
      "07/02/2023 03:19:32 PM type: <class 'tuple'>, <class 'tuple'>, <class 'tuple'>\n",
      "07/02/2023 03:19:32 PM tuple3:('2', '3', '4')\n",
      "07/02/2023 03:19:32 PM t1:('a', 'b', 'c')\n",
      "07/02/2023 03:19:32 PM t2:(1, 2, 3, 4)\n",
      "07/02/2023 03:19:32 PM toTuple:[0, 5, 10, 15, 20, 25]\n",
      "07/02/2023 03:19:32 PM toList:(2, 4, 6, 8)\n",
      "07/02/2023 03:19:32 PM tuple_10 op: 5, 1, 3\n",
      "07/02/2023 03:19:32 PM tuple.index(x): x not in tuple\n"
     ]
    }
   ],
   "source": [
    "\"\"\"\n",
    "元组的特点\n",
    "不可变的数据类型;\n",
    "有序的数据类型;\n",
    "支持索引和切片;\n",
    "可以通过 for 和 while 循环来查元素;\n",
    "元组内可以存储任意的数据类型;\n",
    "\"\"\"\n",
    "\n",
    "import logging\n",
    "logging.basicConfig(level=logging.DEBUG, format='%(asctime)s %(message)s', datefmt='%m/%d/%Y %I:%M:%S %p')\n",
    "\n",
    "#logging.info(dir(tuple))\n",
    "tupleEmpty_1 = ()\n",
    "tupleEmpty_2 = tuple()\n",
    "tupleSingle_1 = 1,\n",
    "tupleSingle_2 = (1,)\n",
    "\n",
    "tuple2 = (1,3,4,5, 'aa', [1,2,3])\n",
    "tuple3 = \"2\", \"3\", \"4\"\n",
    "logging.info('type: %s, %s, %s', \n",
    "             type(tupleEmpty_1),\n",
    "             type(tupleEmpty_2),\n",
    "             type(tuple2)\n",
    "             )\n",
    "\n",
    "logging.info('tuple3:%s', tuple3)\n",
    "\n",
    "t1 = tuple('abc')\n",
    "logging.info('t1:%s', t1)\n",
    "t2 = tuple([1, 2, 3, 4])\n",
    "logging.info('t2:%s', t2)\n",
    "#print('t2:%s', t2)\n",
    "\n",
    "#元组转List\n",
    "logging.info(\"toTuple:%s\", list(range(0, 30, 5)))\n",
    "\n",
    "list_ = [2,4,6,8]\n",
    "logging.info(\"toList:%s\", tuple(list_))\n",
    "\n",
    "tuple_10 = 1,3,5\n",
    "logging.info(\"tuple_10 op: %s, %s, %s\", max(tuple_10), min(tuple_10), len(tuple_10))\n",
    "\n",
    "try:\n",
    "    tuple_10.index(2)\n",
    "except ValueError as err:\n",
    "    logging.error(err)\n",
    "    pass\n",
    "finally:\n",
    "    pass\n"
   ]
  },
  {
   "cell_type": "code",
   "execution_count": 25,
   "metadata": {},
   "outputs": [
    {
     "name": "stderr",
     "output_type": "stream",
     "text": [
      "07/02/2023 03:21:19 PM list[0]: red\n",
      "07/02/2023 03:21:19 PM list[0]: ['red', 'green']\n",
      "07/02/2023 03:21:19 PM list[-1]: black\n",
      "07/02/2023 03:21:19 PM list[-1]: ['yellow', 'white', 'black']\n",
      "07/02/2023 03:21:19 PM list[-1]: ['red', 'green', 'blue', 'yellow', 'white', 'black']\n",
      "07/02/2023 03:21:19 PM list[-1]: ['yellow', 'white']\n",
      "07/02/2023 03:21:19 PM len(list): 7\n",
      "07/02/2023 03:21:19 PM list3: ['red', 'green', 'blue', 'yellow', 'white', 'black', 'blank', 'aaa', 'bbb']\n",
      "07/02/2023 03:21:19 PM list4: [['red', 'green', 'blue', 'yellow', 'white', 'black', 'blank'], ['aaa', 'bbb']]\n",
      "07/02/2023 03:21:19 PM list5: <map object at 0x7f2cdc36c0d0>\n",
      "07/02/2023 03:21:19 PM list5: red_1\n",
      "07/02/2023 03:21:19 PM list5: green_1\n",
      "07/02/2023 03:21:19 PM list5: blue_1\n",
      "07/02/2023 03:21:19 PM list5: yellow_1\n",
      "07/02/2023 03:21:19 PM list5: white_1\n",
      "07/02/2023 03:21:19 PM list5: black_1\n",
      "07/02/2023 03:21:19 PM list5: blank_1\n",
      "07/02/2023 03:21:19 PM list6: green\n",
      "07/02/2023 03:21:19 PM [1, 2, 3]\n"
     ]
    }
   ],
   "source": [
    "\"\"\"\"\n",
    "# 查看对象的属性、方法\n",
    "#logging.info(dir(list))\n",
    "List 操作测试\n",
    "\"\"\"\n",
    "# 切片操作\n",
    "list1 = ['red', 'green', 'blue', 'yellow', 'white', 'black']\n",
    "logging.info(\"list[0]: %s\" %list1[0])\n",
    "#尾不包含\n",
    "logging.info(\"list[0]: %s\" %list1[0:2])\n",
    "logging.info(\"list[-1]: %s\" %list1[-1])\n",
    "logging.info(\"list[-1]: %s\" %list1[-3:])\n",
    "logging.info(\"list[-1]: %s\" %list1[-10:])\n",
    "logging.info(\"list[-1]: %s\" %list1[-3:-1])\n",
    "\n",
    "list1.append('blank')\n",
    "logging.info('len(list): %s', len(list1))\n",
    "list2 = ['aaa','bbb']\n",
    "\n",
    "list3 = list1 + list2\n",
    "logging.info('list3: %s', list3)\n",
    "\n",
    "list4 = [list1, list2]\n",
    "logging.info('list4: %s', list4)\n",
    "\n",
    "# map 映射操作\n",
    "list5 = map(lambda x : x + '_1', list1)\n",
    "logging.info('list5: %s', list5)\n",
    "for l1 in list5:\n",
    "    logging.info('list5: %s', l1)\n",
    "\n",
    "# 过滤操作\n",
    "list6 = filter(lambda x : x.startswith('green'), list1)\n",
    "for l2 in list6:\n",
    "    logging.info('list6: %s', l2)\n",
    "\n",
    "l2 = list((1, 2, 3))\n",
    "logging.info('%s', l2)"
   ]
  },
  {
   "cell_type": "code",
   "execution_count": 58,
   "metadata": {},
   "outputs": [
    {
     "name": "stderr",
     "output_type": "stream",
     "text": [
      "06/22/2023 09:09:36 AM dict_keys(['name', 'sex', 'birthday'])\n",
      "06/22/2023 09:09:36 AM zhaixiaobin\n",
      "06/22/2023 09:09:36 AM man\n",
      "06/22/2023 09:09:36 AM 1993-04-12 09:09:36.089094\n",
      "06/22/2023 09:09:36 AM --------------\n",
      "06/22/2023 09:09:36 AM len(c): 0, list(c): [], dict_items([])\n",
      "06/22/2023 09:09:36 AM c: dict_items([('i', 1), ('j', 2), ('k', 3), ('g', 3)])\n"
     ]
    }
   ],
   "source": [
    "\"\"\"\n",
    "#dic test\n",
    "#字典测试\n",
    "\"\"\"\n",
    "import datetime as datetime_\n",
    "from datetime import datetime\n",
    "from dateutil.relativedelta import relativedelta\n",
    "\n",
    "monthDateTime = datetime.now() - relativedelta(years=30) - datetime_.timedelta(weeks=10, days=1)\n",
    "dict1 = {'name' : 'zhaixiaobin'}\n",
    "dict1[\"sex\"] =  'man'\n",
    "dict1['birthday'] = monthDateTime\n",
    "\n",
    "#根据key遍历\n",
    "logging.info('%s', dict1.keys())\n",
    "for key in dict1.keys():\n",
    "    logging.info(dict1[key])\n",
    "    \n",
    "a0 = {}\n",
    "a0['a'] = ''\n",
    "a0['b'] = ''\n",
    "a0['c'] = 'zhai'\n",
    "b = {'one': 1, 'two': 2,  'three': 3}\n",
    "\n",
    "a = dict(one=1, two=2, three=3)\n",
    "\n",
    "c = dict(zip(['one', 'two', 'three','four'], [1,2,3], {}))\n",
    "logging.info('--------------')\n",
    "logging.info('len(c): %s, list(c): %s, %s', len(c), list(c), c.items())\n",
    "d = dict([('a', 1), ('b', 2), ('c', 3)])\n",
    "\n",
    "e = dict({'three': 3, 'one': 1, 'two': 2})\n",
    "f = dict({'one': 1, 'three': 3}, two=2)\n",
    "\n",
    "class Counter(dict):\n",
    "    def __missing__(slef, key):\n",
    "        return 0\n",
    "    \n",
    "c0 = Counter()\n",
    "c0['i'] = 1\n",
    "c0['j'] = 2\n",
    "c0['k'] = 3\n",
    "\n",
    "c0['g'] += 3\n",
    "\n",
    "logging.info('c: %s' %c0.items())"
   ]
  },
  {
   "cell_type": "code",
   "execution_count": 60,
   "metadata": {},
   "outputs": [
    {
     "name": "stderr",
     "output_type": "stream",
     "text": [
      "06/22/2023 09:20:13 AM s: 1\n",
      "06/22/2023 09:20:13 AM s: 2\n",
      "06/22/2023 09:20:13 AM s: 3\n",
      "06/22/2023 09:20:13 AM s: 4\n",
      "06/22/2023 09:20:13 AM s: 5\n"
     ]
    },
    {
     "name": "stdout",
     "output_type": "stream",
     "text": [
      "{'cherry', 'banana'}\n"
     ]
    }
   ],
   "source": [
    "#logging.info(dir(set))\n",
    "set1 = {'apple', 'orange', 'banana'}\n",
    "\n",
    "set2 = set((1, 2, 3, 3, 4, 5))\n",
    "for s in set2:\n",
    "    logging.info('s: %s', s)\n",
    "\n",
    "x = {\"apple\", \"banana\", \"cherry\"}\n",
    "y = {\"google\", \"microsoft\", \"apple\"}\n",
    "#交集\n",
    "z = x.difference(y)\n",
    "print(z)\n",
    "\n",
    "x.intersection(y)\n",
    "\n",
    "\n",
    "# 序列\n",
    "#logging.info(dir(enumerate))"
   ]
  },
  {
   "cell_type": "code",
   "execution_count": 34,
   "metadata": {},
   "outputs": [
    {
     "name": "stderr",
     "output_type": "stream",
     "text": [
      "07/02/2023 03:28:57 PM [1, 9, 25, 49, 81]\n",
      "07/02/2023 03:28:57 PM {16, 64, 4, 36}\n"
     ]
    }
   ],
   "source": [
    "#logging.info(dir(map))\n",
    "#logging.info(dir(filter))\n",
    "def square(x):\n",
    "    return x * x\n",
    "\n",
    "list_10 = [1,3,5,7, 9]\n",
    "list_11 = map(square, list_10)\n",
    "logging.info(list(list_11))\n",
    "\n",
    "tuple_21 = 2,4,6,8\n",
    "logging.info(set(map(square, tuple_21)))"
   ]
  }
 ],
 "metadata": {
  "kernelspec": {
   "display_name": "Python 3",
   "language": "python",
   "name": "python3"
  },
  "language_info": {
   "codemirror_mode": {
    "name": "ipython",
    "version": 3
   },
   "file_extension": ".py",
   "mimetype": "text/x-python",
   "name": "python",
   "nbconvert_exporter": "python",
   "pygments_lexer": "ipython3",
   "version": "3.10.6 (main, May 29 2023, 11:10:38) [GCC 11.3.0]"
  },
  "orig_nbformat": 4,
  "vscode": {
   "interpreter": {
    "hash": "e7370f93d1d0cde622a1f8e1c04877d8463912d04d973331ad4851f04de6915a"
   }
  }
 },
 "nbformat": 4,
 "nbformat_minor": 2
}
