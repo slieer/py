{
 "cells": [
  {
   "cell_type": "code",
   "execution_count": 2,
   "metadata": {},
   "outputs": [
    {
     "data": {
      "text/plain": [
       "'K67ELGEFN7KgWe4HiQbk6A'"
      ]
     },
     "execution_count": 2,
     "metadata": {},
     "output_type": "execute_result"
    }
   ],
   "source": [
    "\"\"\"\n",
    "在Python 3.4之前,涉及路径相关操作,都用os模块解决,尤其是os.path这个子模块非常有用。\n",
    "在Python 3.4之后,pathlib成为标准库模块,其使用面向对象的编程方式来表示文件系统路径,丰富了路径处理的方法。\n",
    "\n",
    "1) pathlib优势\n",
    "相对于传统的os及os.path,pathlib具体如下优势:\n",
    "\n",
    "pathlib实现统一管理,解决了传统操作导入模块不统一问题；\n",
    "pathlib使得在不同操作系统之间切换非常简单;\n",
    "pathlib是面向对象的,路径处理更灵活方便,解决了传统路径和字符串并不等价的问题；\n",
    "pathlib简化了很多操作,简单易用。\n",
    "\n",
    "\"\"\"\n",
    "from pathlib import Path\n",
    "\n",
    "#返回文件当前所在目录\n",
    "Path.cwd()\n",
    "#返回电脑用户的目录\n",
    "Path.home()\n",
    "\n"
   ]
  },
  {
   "cell_type": "code",
   "execution_count": null,
   "metadata": {},
   "outputs": [],
   "source": [
    "#随机数生成\n",
    "import secrets\n",
    "secrets.token_hex(16)\n",
    "secrets.token_urlsafe(16)"
   ]
  },
  {
   "cell_type": "code",
   "execution_count": 4,
   "metadata": {},
   "outputs": [
    {
     "name": "stdout",
     "output_type": "stream",
     "text": [
      "2020-10-31 12:00:00-07:00\n"
     ]
    }
   ],
   "source": [
    "from zoneinfo import ZoneInfo\n",
    "from datetime import datetime, timedelta\n",
    "\n",
    "dt = datetime(2020, 10, 31, 12, tzinfo=ZoneInfo(\"America/Los_Angeles\"))\n",
    "print(dt)"
   ]
  },
  {
   "cell_type": "code",
   "execution_count": null,
   "metadata": {},
   "outputs": [],
   "source": []
  }
 ],
 "metadata": {
  "kernelspec": {
   "display_name": "Python 3",
   "language": "python",
   "name": "python3"
  },
  "language_info": {
   "codemirror_mode": {
    "name": "ipython",
    "version": 3
   },
   "file_extension": ".py",
   "mimetype": "text/x-python",
   "name": "python",
   "nbconvert_exporter": "python",
   "pygments_lexer": "ipython3",
   "version": "3.10.6"
  },
  "orig_nbformat": 4,
  "vscode": {
   "interpreter": {
    "hash": "e7370f93d1d0cde622a1f8e1c04877d8463912d04d973331ad4851f04de6915a"
   }
  }
 },
 "nbformat": 4,
 "nbformat_minor": 2
}
