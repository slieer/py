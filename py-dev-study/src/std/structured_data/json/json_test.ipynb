{
 "cells": [
  {
   "cell_type": "code",
   "execution_count": 19,
   "metadata": {},
   "outputs": [
    {
     "name": "stdout",
     "output_type": "stream",
     "text": [
      "json: {'name': 'YourBarman', 'age': 18}\n"
     ]
    }
   ],
   "source": [
    "import logging\n",
    "import json\n",
    "from markupsafe import Markup\n",
    "\n",
    "jsonStr = \"\"\"\n",
    "    {\\n \n",
    "    \\t\\\"name\\\" : \\\"YourBarman\\\",\\n\n",
    "    \\t\\\"age\\\" : 18\\n\n",
    "    }\n",
    "\"\"\"\n",
    "\n",
    "# 解析json字符串\n",
    "# jsonObj = json.loads(jsonStr)\n",
    "\n",
    "safe_string = Markup(jsonStr)\n",
    "string = safe_string.unescape()\n",
    "jsonObj = json.loads(string)\n",
    "logging.info('json:%s' %(jsonObj))\n",
    "\n",
    "print('json: %s' %(jsonObj))\n"
   ]
  },
  {
   "cell_type": "code",
   "execution_count": 35,
   "metadata": {},
   "outputs": [
    {
     "name": "stdout",
     "output_type": "stream",
     "text": [
      "\n",
      "[\n",
      "    {\n",
      "      \"text\": {  \"success\": true,  \"count\": 1,  \"result\": [    {      \"EmpName\": \"翟小斌\",      \n",
      "            \"DeptName1\": \"信息管理部\",      \"DeptName2\": \"系统开发组队\",      \"EmpID\": \"SDT14467\",      \"SumNoCardTwo\": \"0\",      \n",
      "            \"SumNotCard\": \"0\",      \"SumAbsentCount\": \"\",      \"SumLate10\": \"0\",      \"SumLate20\": \"0\",      \"SumLate30\": \"0\",      \n",
      "            \"SumLate60\": \"0\",      \"SumLateTime\": \"0\",      \"SumV1\": \"0\",      \"SumV2\": \"0\",      \"SumV3\": \"0\",      \"SumV4\": \"0\",      \n",
      "            \"SumV5\": \"0\",      \"SumV6\": \"0\",      \"SumGongGan\": \"0\",      \"SumChuChai\": \"0\",      \"SumOverTime_W\": \"0\",      \"SumOverTime_H\": \"0\",      \n",
      "            \"SumTiaoXiu\": \"0\",      \"LateLeaveEarly\": \"0\"    }  ]},\n",
      "      \"status_code\": 200\n",
      "    }\n",
      "]\n",
      "\n",
      "json: [{'text': {'success': True, 'count': 1, 'result': [{'EmpName': '翟小斌', 'DeptName1': '信息管理部', 'DeptName2': '系统开发组队', 'EmpID': 'SDT14467', 'SumNoCardTwo': '0', 'SumNotCard': '0', 'SumAbsentCount': '', 'SumLate10': '0', 'SumLate20': '0', 'SumLate30': '0', 'SumLate60': '0', 'SumLateTime': '0', 'SumV1': '0', 'SumV2': '0', 'SumV3': '0', 'SumV4': '0', 'SumV5': '0', 'SumV6': '0', 'SumGongGan': '0', 'SumChuChai': '0', 'SumOverTime_W': '0', 'SumOverTime_H': '0', 'SumTiaoXiu': '0', 'LateLeaveEarly': '0'}]}, 'status_code': 200}]\n"
     ]
    }
   ],
   "source": [
    "import json\n",
    "import logging\n",
    "import markupsafe as Markup\n",
    "\n",
    "# 原始数据\n",
    "data = \"\"\"\n",
    "[\n",
    "    {\n",
    "      \"text\": \"{\\\\r\\\\n  \\\\\"success\\\\\": true,\\\\r\\\\n  \\\\\"count\\\\\": 1,\\\\r\\\\n  \\\\\"result\\\\\": [\\\\r\\\\n    {\\\\r\\\\n      \\\\\"EmpName\\\\\": \\\\\"翟小斌\\\\\",\\\\r\\\\n      \n",
    "            \\\\\"DeptName1\\\\\": \\\\\"信息管理部\\\\\",\\\\r\\\\n      \\\\\"DeptName2\\\\\": \\\\\"系统开发组队\\\\\",\\\\r\\\\n      \\\\\"EmpID\\\\\": \\\\\"SDT14467\\\\\",\\\\r\\\\n      \\\\\"SumNoCardTwo\\\\\": \\\\\"0\\\\\",\\\\r\\\\n      \n",
    "            \\\\\"SumNotCard\\\\\": \\\\\"0\\\\\",\\\\r\\\\n      \\\\\"SumAbsentCount\\\\\": \\\\\"\\\\\",\\\\r\\\\n      \\\\\"SumLate10\\\\\": \\\\\"0\\\\\",\\\\r\\\\n      \\\\\"SumLate20\\\\\": \\\\\"0\\\\\",\\\\r\\\\n      \\\\\"SumLate30\\\\\": \\\\\"0\\\\\",\\\\r\\\\n      \n",
    "            \\\\\"SumLate60\\\\\": \\\\\"0\\\\\",\\\\r\\\\n      \\\\\"SumLateTime\\\\\": \\\\\"0\\\\\",\\\\r\\\\n      \\\\\"SumV1\\\\\": \\\\\"0\\\\\",\\\\r\\\\n      \\\\\"SumV2\\\\\": \\\\\"0\\\\\",\\\\r\\\\n      \\\\\"SumV3\\\\\": \\\\\"0\\\\\",\\\\r\\\\n      \\\\\"SumV4\\\\\": \\\\\"0\\\\\",\\\\r\\\\n      \n",
    "            \\\\\"SumV5\\\\\": \\\\\"0\\\\\",\\\\r\\\\n      \\\\\"SumV6\\\\\": \\\\\"0\\\\\",\\\\r\\\\n      \\\\\"SumGongGan\\\\\": \\\\\"0\\\\\",\\\\r\\\\n      \\\\\"SumChuChai\\\\\": \\\\\"0\\\\\",\\\\r\\\\n      \\\\\"SumOverTime_W\\\\\": \\\\\"0\\\\\",\\\\r\\\\n      \\\\\"SumOverTime_H\\\\\": \\\\\"0\\\\\",\\\\r\\\\n      \n",
    "            \\\\\"SumTiaoXiu\\\\\": \\\\\"0\\\\\",\\\\r\\\\n      \\\\\"LateLeaveEarly\\\\\": \\\\\"0\\\\\"\\\\r\\\\n    }\\\\r\\\\n  ]\\\\r\\\\n}\",\n",
    "      \"status_code\": 200\n",
    "    }\n",
    "]\n",
    "\"\"\"\n",
    "\n",
    "cleaned_data = data.replace(\"\\\\r\\\\n\", \"\").replace(\"\\\\\", \"\").replace(\"\\\"{\", \"{\").replace(\"}\\\"\", \"}\")\n",
    "print(cleaned_data)\n",
    "# 解析最外层的 JSON\n",
    "outer_data = json.loads(cleaned_data)\n",
    "print('json: %s' %(outer_data))"
   ]
  }
 ],
 "metadata": {
  "kernelspec": {
   "display_name": "3.10.15",
   "language": "python",
   "name": "python3"
  },
  "language_info": {
   "codemirror_mode": {
    "name": "ipython",
    "version": 3
   },
   "file_extension": ".py",
   "mimetype": "text/x-python",
   "name": "python",
   "nbconvert_exporter": "python",
   "pygments_lexer": "ipython3",
   "version": "3.10.15"
  }
 },
 "nbformat": 4,
 "nbformat_minor": 2
}
